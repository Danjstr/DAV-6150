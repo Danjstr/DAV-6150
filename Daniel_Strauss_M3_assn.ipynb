{
  "nbformat": 4,
  "nbformat_minor": 0,
  "metadata": {
    "colab": {
      "name": "Daniel_Strauss_M3_assn",
      "provenance": [],
      "authorship_tag": "ABX9TyNrrGKGn1kzdVvP3zeshqio",
      "include_colab_link": true
    },
    "kernelspec": {
      "name": "python3",
      "display_name": "Python 3"
    },
    "language_info": {
      "name": "python"
    }
  },
  "cells": [
    {
      "cell_type": "markdown",
      "metadata": {
        "id": "view-in-github",
        "colab_type": "text"
      },
      "source": [
        "<a href=\"https://colab.research.google.com/github/Danjstr/DAV-6150/blob/main/Daniel_Strauss_M3_assn.ipynb\" target=\"_parent\"><img src=\"https://colab.research.google.com/assets/colab-badge.svg\" alt=\"Open In Colab\"/></a>"
      ]
    },
    {
      "cell_type": "markdown",
      "metadata": {
        "id": "B8G14FX2g2VO"
      },
      "source": [
        "## **Introduction**"
      ]
    },
    {
      "cell_type": "markdown",
      "metadata": {
        "id": "bkZf_MF9VsEF"
      },
      "source": [
        "This assignment had us work with a dataset featuring wine information. Upon further investigation, we noticed lots of missing and erroneous values. We plan to use best practices to fill in the missing data while simultaneously keeping data integrity as close to the previous distribution as possible.\n",
        "\n",
        "We plan to:\n",
        "\n",
        "-Conduct domain research to better inform ourselves about the data we are working with. We intend to isolate the proper ranges of the data for each column. some flaws are obvious right up front, such as negative alcohol contents, a physical impossibility.\n",
        "\n",
        "-Conduct exploratory data analysis to determine if there are any missing values or obvious data errors. \n",
        "\n",
        "-Perform data imputation to fill in any missing values.\n",
        "\n",
        "-Replace any inappropriate negative values with their respective absolute value.\n",
        "\n",
        "-re-conduct EDA to show how we were accurately able to maintain data integrity after cleaning a messy data set."
      ]
    },
    {
      "cell_type": "code",
      "metadata": {
        "id": "Pl5L1trER9N3"
      },
      "source": [
        "# import dependencies\n",
        "import pandas as pd"
      ],
      "execution_count": 1,
      "outputs": []
    },
    {
      "cell_type": "code",
      "metadata": {
        "colab": {
          "base_uri": "https://localhost:8080/",
          "height": 202
        },
        "id": "Ll9CXKlqcYnX",
        "outputId": "67659fa8-3a0f-4629-fb76-fbc506efd741"
      },
      "source": [
        "#Read data From Github\n",
        "df7 = pd.read_csv('https://raw.githubusercontent.com/Danjstr/DAV-6150/main/M3_Data.csv')\n",
        "df7.head()"
      ],
      "execution_count": 2,
      "outputs": [
        {
          "output_type": "execute_result",
          "data": {
            "text/html": [
              "<div>\n",
              "<style scoped>\n",
              "    .dataframe tbody tr th:only-of-type {\n",
              "        vertical-align: middle;\n",
              "    }\n",
              "\n",
              "    .dataframe tbody tr th {\n",
              "        vertical-align: top;\n",
              "    }\n",
              "\n",
              "    .dataframe thead th {\n",
              "        text-align: right;\n",
              "    }\n",
              "</style>\n",
              "<table border=\"1\" class=\"dataframe\">\n",
              "  <thead>\n",
              "    <tr style=\"text-align: right;\">\n",
              "      <th></th>\n",
              "      <th>INDEX</th>\n",
              "      <th>TARGET</th>\n",
              "      <th>FixedAcidity</th>\n",
              "      <th>VolatileAcidity</th>\n",
              "      <th>CitricAcid</th>\n",
              "      <th>ResidualSugar</th>\n",
              "      <th>Chlorides</th>\n",
              "      <th>FreeSulfurDioxide</th>\n",
              "      <th>TotalSulfurDioxide</th>\n",
              "      <th>Density</th>\n",
              "      <th>pH</th>\n",
              "      <th>Sulphates</th>\n",
              "      <th>Alcohol</th>\n",
              "      <th>LabelAppeal</th>\n",
              "      <th>AcidIndex</th>\n",
              "      <th>STARS</th>\n",
              "    </tr>\n",
              "  </thead>\n",
              "  <tbody>\n",
              "    <tr>\n",
              "      <th>0</th>\n",
              "      <td>1</td>\n",
              "      <td>3</td>\n",
              "      <td>3.2</td>\n",
              "      <td>1.160</td>\n",
              "      <td>-0.98</td>\n",
              "      <td>54.2</td>\n",
              "      <td>-0.567</td>\n",
              "      <td>NaN</td>\n",
              "      <td>268.0</td>\n",
              "      <td>0.99280</td>\n",
              "      <td>3.33</td>\n",
              "      <td>-0.59</td>\n",
              "      <td>9.9</td>\n",
              "      <td>0</td>\n",
              "      <td>8</td>\n",
              "      <td>2.0</td>\n",
              "    </tr>\n",
              "    <tr>\n",
              "      <th>1</th>\n",
              "      <td>2</td>\n",
              "      <td>3</td>\n",
              "      <td>4.5</td>\n",
              "      <td>0.160</td>\n",
              "      <td>-0.81</td>\n",
              "      <td>26.1</td>\n",
              "      <td>-0.425</td>\n",
              "      <td>15.0</td>\n",
              "      <td>-327.0</td>\n",
              "      <td>1.02792</td>\n",
              "      <td>3.38</td>\n",
              "      <td>0.70</td>\n",
              "      <td>NaN</td>\n",
              "      <td>-1</td>\n",
              "      <td>7</td>\n",
              "      <td>3.0</td>\n",
              "    </tr>\n",
              "    <tr>\n",
              "      <th>2</th>\n",
              "      <td>4</td>\n",
              "      <td>5</td>\n",
              "      <td>7.1</td>\n",
              "      <td>2.640</td>\n",
              "      <td>-0.88</td>\n",
              "      <td>14.8</td>\n",
              "      <td>0.037</td>\n",
              "      <td>214.0</td>\n",
              "      <td>142.0</td>\n",
              "      <td>0.99518</td>\n",
              "      <td>3.12</td>\n",
              "      <td>0.48</td>\n",
              "      <td>22.0</td>\n",
              "      <td>-1</td>\n",
              "      <td>8</td>\n",
              "      <td>3.0</td>\n",
              "    </tr>\n",
              "    <tr>\n",
              "      <th>3</th>\n",
              "      <td>5</td>\n",
              "      <td>3</td>\n",
              "      <td>5.7</td>\n",
              "      <td>0.385</td>\n",
              "      <td>0.04</td>\n",
              "      <td>18.8</td>\n",
              "      <td>-0.425</td>\n",
              "      <td>22.0</td>\n",
              "      <td>115.0</td>\n",
              "      <td>0.99640</td>\n",
              "      <td>2.24</td>\n",
              "      <td>1.83</td>\n",
              "      <td>6.2</td>\n",
              "      <td>-1</td>\n",
              "      <td>6</td>\n",
              "      <td>1.0</td>\n",
              "    </tr>\n",
              "    <tr>\n",
              "      <th>4</th>\n",
              "      <td>6</td>\n",
              "      <td>4</td>\n",
              "      <td>8.0</td>\n",
              "      <td>0.330</td>\n",
              "      <td>-1.26</td>\n",
              "      <td>9.4</td>\n",
              "      <td>NaN</td>\n",
              "      <td>-167.0</td>\n",
              "      <td>108.0</td>\n",
              "      <td>0.99457</td>\n",
              "      <td>3.12</td>\n",
              "      <td>1.77</td>\n",
              "      <td>13.7</td>\n",
              "      <td>0</td>\n",
              "      <td>9</td>\n",
              "      <td>2.0</td>\n",
              "    </tr>\n",
              "  </tbody>\n",
              "</table>\n",
              "</div>"
            ],
            "text/plain": [
              "   INDEX  TARGET  FixedAcidity  ...  LabelAppeal  AcidIndex  STARS\n",
              "0      1       3           3.2  ...            0          8    2.0\n",
              "1      2       3           4.5  ...           -1          7    3.0\n",
              "2      4       5           7.1  ...           -1          8    3.0\n",
              "3      5       3           5.7  ...           -1          6    1.0\n",
              "4      6       4           8.0  ...            0          9    2.0\n",
              "\n",
              "[5 rows x 16 columns]"
            ]
          },
          "metadata": {
            "tags": []
          },
          "execution_count": 2
        }
      ]
    },
    {
      "cell_type": "markdown",
      "metadata": {
        "id": "_5pvFGWlvl1i"
      },
      "source": [
        "## **Exploratory Data Analysis**"
      ]
    },
    {
      "cell_type": "markdown",
      "metadata": {
        "id": "-nEh7_Rjhzyj"
      },
      "source": [
        "For the exploratory data analysis, we have performed the following operations to derive insights from our data.\n",
        "\n",
        "-Showed the data frame and its tail.\n",
        "\n",
        "-Retrieved summary Statistics.\n",
        "\n",
        "-Checked the data type and how many null values where in the data set.\n",
        "\n",
        "-Showed the shape of the data and column labels.\n",
        "\n",
        "-Plotted a bar plot and histogram of all necessary columns.\n",
        "\n",
        "The two largest problems We found were that nearly all the columns had missing values and that many of these columns had negative values that needed to addressed."
      ]
    },
    {
      "cell_type": "code",
      "metadata": {
        "id": "V3ULnxi4mHxr",
        "colab": {
          "base_uri": "https://localhost:8080/",
          "height": 434
        },
        "outputId": "3b44b024-818f-4bab-f477-5dd9ae39a0f4"
      },
      "source": [
        "#Show The Data\n",
        "df7"
      ],
      "execution_count": 3,
      "outputs": [
        {
          "output_type": "execute_result",
          "data": {
            "text/html": [
              "<div>\n",
              "<style scoped>\n",
              "    .dataframe tbody tr th:only-of-type {\n",
              "        vertical-align: middle;\n",
              "    }\n",
              "\n",
              "    .dataframe tbody tr th {\n",
              "        vertical-align: top;\n",
              "    }\n",
              "\n",
              "    .dataframe thead th {\n",
              "        text-align: right;\n",
              "    }\n",
              "</style>\n",
              "<table border=\"1\" class=\"dataframe\">\n",
              "  <thead>\n",
              "    <tr style=\"text-align: right;\">\n",
              "      <th></th>\n",
              "      <th>INDEX</th>\n",
              "      <th>TARGET</th>\n",
              "      <th>FixedAcidity</th>\n",
              "      <th>VolatileAcidity</th>\n",
              "      <th>CitricAcid</th>\n",
              "      <th>ResidualSugar</th>\n",
              "      <th>Chlorides</th>\n",
              "      <th>FreeSulfurDioxide</th>\n",
              "      <th>TotalSulfurDioxide</th>\n",
              "      <th>Density</th>\n",
              "      <th>pH</th>\n",
              "      <th>Sulphates</th>\n",
              "      <th>Alcohol</th>\n",
              "      <th>LabelAppeal</th>\n",
              "      <th>AcidIndex</th>\n",
              "      <th>STARS</th>\n",
              "    </tr>\n",
              "  </thead>\n",
              "  <tbody>\n",
              "    <tr>\n",
              "      <th>0</th>\n",
              "      <td>1</td>\n",
              "      <td>3</td>\n",
              "      <td>3.2</td>\n",
              "      <td>1.160</td>\n",
              "      <td>-0.98</td>\n",
              "      <td>54.2</td>\n",
              "      <td>-0.567</td>\n",
              "      <td>NaN</td>\n",
              "      <td>268.0</td>\n",
              "      <td>0.99280</td>\n",
              "      <td>3.33</td>\n",
              "      <td>-0.59</td>\n",
              "      <td>9.9</td>\n",
              "      <td>0</td>\n",
              "      <td>8</td>\n",
              "      <td>2.0</td>\n",
              "    </tr>\n",
              "    <tr>\n",
              "      <th>1</th>\n",
              "      <td>2</td>\n",
              "      <td>3</td>\n",
              "      <td>4.5</td>\n",
              "      <td>0.160</td>\n",
              "      <td>-0.81</td>\n",
              "      <td>26.1</td>\n",
              "      <td>-0.425</td>\n",
              "      <td>15.0</td>\n",
              "      <td>-327.0</td>\n",
              "      <td>1.02792</td>\n",
              "      <td>3.38</td>\n",
              "      <td>0.70</td>\n",
              "      <td>NaN</td>\n",
              "      <td>-1</td>\n",
              "      <td>7</td>\n",
              "      <td>3.0</td>\n",
              "    </tr>\n",
              "    <tr>\n",
              "      <th>2</th>\n",
              "      <td>4</td>\n",
              "      <td>5</td>\n",
              "      <td>7.1</td>\n",
              "      <td>2.640</td>\n",
              "      <td>-0.88</td>\n",
              "      <td>14.8</td>\n",
              "      <td>0.037</td>\n",
              "      <td>214.0</td>\n",
              "      <td>142.0</td>\n",
              "      <td>0.99518</td>\n",
              "      <td>3.12</td>\n",
              "      <td>0.48</td>\n",
              "      <td>22.0</td>\n",
              "      <td>-1</td>\n",
              "      <td>8</td>\n",
              "      <td>3.0</td>\n",
              "    </tr>\n",
              "    <tr>\n",
              "      <th>3</th>\n",
              "      <td>5</td>\n",
              "      <td>3</td>\n",
              "      <td>5.7</td>\n",
              "      <td>0.385</td>\n",
              "      <td>0.04</td>\n",
              "      <td>18.8</td>\n",
              "      <td>-0.425</td>\n",
              "      <td>22.0</td>\n",
              "      <td>115.0</td>\n",
              "      <td>0.99640</td>\n",
              "      <td>2.24</td>\n",
              "      <td>1.83</td>\n",
              "      <td>6.2</td>\n",
              "      <td>-1</td>\n",
              "      <td>6</td>\n",
              "      <td>1.0</td>\n",
              "    </tr>\n",
              "    <tr>\n",
              "      <th>4</th>\n",
              "      <td>6</td>\n",
              "      <td>4</td>\n",
              "      <td>8.0</td>\n",
              "      <td>0.330</td>\n",
              "      <td>-1.26</td>\n",
              "      <td>9.4</td>\n",
              "      <td>NaN</td>\n",
              "      <td>-167.0</td>\n",
              "      <td>108.0</td>\n",
              "      <td>0.99457</td>\n",
              "      <td>3.12</td>\n",
              "      <td>1.77</td>\n",
              "      <td>13.7</td>\n",
              "      <td>0</td>\n",
              "      <td>9</td>\n",
              "      <td>2.0</td>\n",
              "    </tr>\n",
              "    <tr>\n",
              "      <th>...</th>\n",
              "      <td>...</td>\n",
              "      <td>...</td>\n",
              "      <td>...</td>\n",
              "      <td>...</td>\n",
              "      <td>...</td>\n",
              "      <td>...</td>\n",
              "      <td>...</td>\n",
              "      <td>...</td>\n",
              "      <td>...</td>\n",
              "      <td>...</td>\n",
              "      <td>...</td>\n",
              "      <td>...</td>\n",
              "      <td>...</td>\n",
              "      <td>...</td>\n",
              "      <td>...</td>\n",
              "      <td>...</td>\n",
              "    </tr>\n",
              "    <tr>\n",
              "      <th>12790</th>\n",
              "      <td>16120</td>\n",
              "      <td>0</td>\n",
              "      <td>5.0</td>\n",
              "      <td>-0.790</td>\n",
              "      <td>2.01</td>\n",
              "      <td>5.0</td>\n",
              "      <td>0.043</td>\n",
              "      <td>17.0</td>\n",
              "      <td>101.0</td>\n",
              "      <td>1.01077</td>\n",
              "      <td>3.39</td>\n",
              "      <td>0.57</td>\n",
              "      <td>4.9</td>\n",
              "      <td>1</td>\n",
              "      <td>5</td>\n",
              "      <td>NaN</td>\n",
              "    </tr>\n",
              "    <tr>\n",
              "      <th>12791</th>\n",
              "      <td>16123</td>\n",
              "      <td>5</td>\n",
              "      <td>8.9</td>\n",
              "      <td>0.470</td>\n",
              "      <td>0.29</td>\n",
              "      <td>84.9</td>\n",
              "      <td>0.259</td>\n",
              "      <td>54.0</td>\n",
              "      <td>NaN</td>\n",
              "      <td>0.99518</td>\n",
              "      <td>4.46</td>\n",
              "      <td>-1.20</td>\n",
              "      <td>NaN</td>\n",
              "      <td>-1</td>\n",
              "      <td>8</td>\n",
              "      <td>2.0</td>\n",
              "    </tr>\n",
              "    <tr>\n",
              "      <th>12792</th>\n",
              "      <td>16127</td>\n",
              "      <td>4</td>\n",
              "      <td>6.0</td>\n",
              "      <td>0.170</td>\n",
              "      <td>-1.10</td>\n",
              "      <td>37.0</td>\n",
              "      <td>0.078</td>\n",
              "      <td>25.0</td>\n",
              "      <td>108.0</td>\n",
              "      <td>0.99076</td>\n",
              "      <td>3.25</td>\n",
              "      <td>NaN</td>\n",
              "      <td>12.3</td>\n",
              "      <td>0</td>\n",
              "      <td>6</td>\n",
              "      <td>2.0</td>\n",
              "    </tr>\n",
              "    <tr>\n",
              "      <th>12793</th>\n",
              "      <td>16128</td>\n",
              "      <td>3</td>\n",
              "      <td>7.7</td>\n",
              "      <td>0.320</td>\n",
              "      <td>0.12</td>\n",
              "      <td>NaN</td>\n",
              "      <td>0.029</td>\n",
              "      <td>26.0</td>\n",
              "      <td>274.0</td>\n",
              "      <td>0.99060</td>\n",
              "      <td>3.97</td>\n",
              "      <td>0.62</td>\n",
              "      <td>11.0</td>\n",
              "      <td>-1</td>\n",
              "      <td>6</td>\n",
              "      <td>2.0</td>\n",
              "    </tr>\n",
              "    <tr>\n",
              "      <th>12794</th>\n",
              "      <td>16129</td>\n",
              "      <td>4</td>\n",
              "      <td>5.2</td>\n",
              "      <td>-0.040</td>\n",
              "      <td>-0.81</td>\n",
              "      <td>52.7</td>\n",
              "      <td>NaN</td>\n",
              "      <td>-106.0</td>\n",
              "      <td>242.0</td>\n",
              "      <td>0.99454</td>\n",
              "      <td>3.94</td>\n",
              "      <td>-0.12</td>\n",
              "      <td>9.9</td>\n",
              "      <td>0</td>\n",
              "      <td>7</td>\n",
              "      <td>2.0</td>\n",
              "    </tr>\n",
              "  </tbody>\n",
              "</table>\n",
              "<p>12795 rows × 16 columns</p>\n",
              "</div>"
            ],
            "text/plain": [
              "       INDEX  TARGET  FixedAcidity  ...  LabelAppeal  AcidIndex  STARS\n",
              "0          1       3           3.2  ...            0          8    2.0\n",
              "1          2       3           4.5  ...           -1          7    3.0\n",
              "2          4       5           7.1  ...           -1          8    3.0\n",
              "3          5       3           5.7  ...           -1          6    1.0\n",
              "4          6       4           8.0  ...            0          9    2.0\n",
              "...      ...     ...           ...  ...          ...        ...    ...\n",
              "12790  16120       0           5.0  ...            1          5    NaN\n",
              "12791  16123       5           8.9  ...           -1          8    2.0\n",
              "12792  16127       4           6.0  ...            0          6    2.0\n",
              "12793  16128       3           7.7  ...           -1          6    2.0\n",
              "12794  16129       4           5.2  ...            0          7    2.0\n",
              "\n",
              "[12795 rows x 16 columns]"
            ]
          },
          "metadata": {
            "tags": []
          },
          "execution_count": 3
        }
      ]
    },
    {
      "cell_type": "code",
      "metadata": {
        "id": "LLCSGgsrcKzr",
        "colab": {
          "base_uri": "https://localhost:8080/",
          "height": 222
        },
        "outputId": "5ee88a20-018d-428f-e08e-ecfe5dfe3e8c"
      },
      "source": [
        "#Show the tail of the data\n",
        "df7.tail()"
      ],
      "execution_count": 4,
      "outputs": [
        {
          "output_type": "execute_result",
          "data": {
            "text/html": [
              "<div>\n",
              "<style scoped>\n",
              "    .dataframe tbody tr th:only-of-type {\n",
              "        vertical-align: middle;\n",
              "    }\n",
              "\n",
              "    .dataframe tbody tr th {\n",
              "        vertical-align: top;\n",
              "    }\n",
              "\n",
              "    .dataframe thead th {\n",
              "        text-align: right;\n",
              "    }\n",
              "</style>\n",
              "<table border=\"1\" class=\"dataframe\">\n",
              "  <thead>\n",
              "    <tr style=\"text-align: right;\">\n",
              "      <th></th>\n",
              "      <th>INDEX</th>\n",
              "      <th>TARGET</th>\n",
              "      <th>FixedAcidity</th>\n",
              "      <th>VolatileAcidity</th>\n",
              "      <th>CitricAcid</th>\n",
              "      <th>ResidualSugar</th>\n",
              "      <th>Chlorides</th>\n",
              "      <th>FreeSulfurDioxide</th>\n",
              "      <th>TotalSulfurDioxide</th>\n",
              "      <th>Density</th>\n",
              "      <th>pH</th>\n",
              "      <th>Sulphates</th>\n",
              "      <th>Alcohol</th>\n",
              "      <th>LabelAppeal</th>\n",
              "      <th>AcidIndex</th>\n",
              "      <th>STARS</th>\n",
              "    </tr>\n",
              "  </thead>\n",
              "  <tbody>\n",
              "    <tr>\n",
              "      <th>12790</th>\n",
              "      <td>16120</td>\n",
              "      <td>0</td>\n",
              "      <td>5.0</td>\n",
              "      <td>-0.79</td>\n",
              "      <td>2.01</td>\n",
              "      <td>5.0</td>\n",
              "      <td>0.043</td>\n",
              "      <td>17.0</td>\n",
              "      <td>101.0</td>\n",
              "      <td>1.01077</td>\n",
              "      <td>3.39</td>\n",
              "      <td>0.57</td>\n",
              "      <td>4.9</td>\n",
              "      <td>1</td>\n",
              "      <td>5</td>\n",
              "      <td>NaN</td>\n",
              "    </tr>\n",
              "    <tr>\n",
              "      <th>12791</th>\n",
              "      <td>16123</td>\n",
              "      <td>5</td>\n",
              "      <td>8.9</td>\n",
              "      <td>0.47</td>\n",
              "      <td>0.29</td>\n",
              "      <td>84.9</td>\n",
              "      <td>0.259</td>\n",
              "      <td>54.0</td>\n",
              "      <td>NaN</td>\n",
              "      <td>0.99518</td>\n",
              "      <td>4.46</td>\n",
              "      <td>-1.20</td>\n",
              "      <td>NaN</td>\n",
              "      <td>-1</td>\n",
              "      <td>8</td>\n",
              "      <td>2.0</td>\n",
              "    </tr>\n",
              "    <tr>\n",
              "      <th>12792</th>\n",
              "      <td>16127</td>\n",
              "      <td>4</td>\n",
              "      <td>6.0</td>\n",
              "      <td>0.17</td>\n",
              "      <td>-1.10</td>\n",
              "      <td>37.0</td>\n",
              "      <td>0.078</td>\n",
              "      <td>25.0</td>\n",
              "      <td>108.0</td>\n",
              "      <td>0.99076</td>\n",
              "      <td>3.25</td>\n",
              "      <td>NaN</td>\n",
              "      <td>12.3</td>\n",
              "      <td>0</td>\n",
              "      <td>6</td>\n",
              "      <td>2.0</td>\n",
              "    </tr>\n",
              "    <tr>\n",
              "      <th>12793</th>\n",
              "      <td>16128</td>\n",
              "      <td>3</td>\n",
              "      <td>7.7</td>\n",
              "      <td>0.32</td>\n",
              "      <td>0.12</td>\n",
              "      <td>NaN</td>\n",
              "      <td>0.029</td>\n",
              "      <td>26.0</td>\n",
              "      <td>274.0</td>\n",
              "      <td>0.99060</td>\n",
              "      <td>3.97</td>\n",
              "      <td>0.62</td>\n",
              "      <td>11.0</td>\n",
              "      <td>-1</td>\n",
              "      <td>6</td>\n",
              "      <td>2.0</td>\n",
              "    </tr>\n",
              "    <tr>\n",
              "      <th>12794</th>\n",
              "      <td>16129</td>\n",
              "      <td>4</td>\n",
              "      <td>5.2</td>\n",
              "      <td>-0.04</td>\n",
              "      <td>-0.81</td>\n",
              "      <td>52.7</td>\n",
              "      <td>NaN</td>\n",
              "      <td>-106.0</td>\n",
              "      <td>242.0</td>\n",
              "      <td>0.99454</td>\n",
              "      <td>3.94</td>\n",
              "      <td>-0.12</td>\n",
              "      <td>9.9</td>\n",
              "      <td>0</td>\n",
              "      <td>7</td>\n",
              "      <td>2.0</td>\n",
              "    </tr>\n",
              "  </tbody>\n",
              "</table>\n",
              "</div>"
            ],
            "text/plain": [
              "       INDEX  TARGET  FixedAcidity  ...  LabelAppeal  AcidIndex  STARS\n",
              "12790  16120       0           5.0  ...            1          5    NaN\n",
              "12791  16123       5           8.9  ...           -1          8    2.0\n",
              "12792  16127       4           6.0  ...            0          6    2.0\n",
              "12793  16128       3           7.7  ...           -1          6    2.0\n",
              "12794  16129       4           5.2  ...            0          7    2.0\n",
              "\n",
              "[5 rows x 16 columns]"
            ]
          },
          "metadata": {
            "tags": []
          },
          "execution_count": 4
        }
      ]
    },
    {
      "cell_type": "code",
      "metadata": {
        "id": "d5M06jmv-3np",
        "colab": {
          "base_uri": "https://localhost:8080/",
          "height": 314
        },
        "outputId": "6bb5063f-fe3b-4d46-9a0b-9c026ecaadb2"
      },
      "source": [
        "#Show the description\n",
        "df7.describe()"
      ],
      "execution_count": 5,
      "outputs": [
        {
          "output_type": "execute_result",
          "data": {
            "text/html": [
              "<div>\n",
              "<style scoped>\n",
              "    .dataframe tbody tr th:only-of-type {\n",
              "        vertical-align: middle;\n",
              "    }\n",
              "\n",
              "    .dataframe tbody tr th {\n",
              "        vertical-align: top;\n",
              "    }\n",
              "\n",
              "    .dataframe thead th {\n",
              "        text-align: right;\n",
              "    }\n",
              "</style>\n",
              "<table border=\"1\" class=\"dataframe\">\n",
              "  <thead>\n",
              "    <tr style=\"text-align: right;\">\n",
              "      <th></th>\n",
              "      <th>INDEX</th>\n",
              "      <th>TARGET</th>\n",
              "      <th>FixedAcidity</th>\n",
              "      <th>VolatileAcidity</th>\n",
              "      <th>CitricAcid</th>\n",
              "      <th>ResidualSugar</th>\n",
              "      <th>Chlorides</th>\n",
              "      <th>FreeSulfurDioxide</th>\n",
              "      <th>TotalSulfurDioxide</th>\n",
              "      <th>Density</th>\n",
              "      <th>pH</th>\n",
              "      <th>Sulphates</th>\n",
              "      <th>Alcohol</th>\n",
              "      <th>LabelAppeal</th>\n",
              "      <th>AcidIndex</th>\n",
              "      <th>STARS</th>\n",
              "    </tr>\n",
              "  </thead>\n",
              "  <tbody>\n",
              "    <tr>\n",
              "      <th>count</th>\n",
              "      <td>12795.000000</td>\n",
              "      <td>12795.000000</td>\n",
              "      <td>12795.000000</td>\n",
              "      <td>12795.000000</td>\n",
              "      <td>12795.000000</td>\n",
              "      <td>12179.000000</td>\n",
              "      <td>12157.000000</td>\n",
              "      <td>12148.000000</td>\n",
              "      <td>12113.000000</td>\n",
              "      <td>12795.000000</td>\n",
              "      <td>12400.000000</td>\n",
              "      <td>11585.000000</td>\n",
              "      <td>12142.000000</td>\n",
              "      <td>12795.000000</td>\n",
              "      <td>12795.000000</td>\n",
              "      <td>9436.000000</td>\n",
              "    </tr>\n",
              "    <tr>\n",
              "      <th>mean</th>\n",
              "      <td>8069.980305</td>\n",
              "      <td>3.029074</td>\n",
              "      <td>7.075717</td>\n",
              "      <td>0.324104</td>\n",
              "      <td>0.308413</td>\n",
              "      <td>5.418733</td>\n",
              "      <td>0.054822</td>\n",
              "      <td>30.845571</td>\n",
              "      <td>120.714233</td>\n",
              "      <td>0.994203</td>\n",
              "      <td>3.207628</td>\n",
              "      <td>0.527112</td>\n",
              "      <td>10.489236</td>\n",
              "      <td>-0.009066</td>\n",
              "      <td>7.772724</td>\n",
              "      <td>2.041755</td>\n",
              "    </tr>\n",
              "    <tr>\n",
              "      <th>std</th>\n",
              "      <td>4656.905107</td>\n",
              "      <td>1.926368</td>\n",
              "      <td>6.317643</td>\n",
              "      <td>0.784014</td>\n",
              "      <td>0.862080</td>\n",
              "      <td>33.749379</td>\n",
              "      <td>0.318467</td>\n",
              "      <td>148.714558</td>\n",
              "      <td>231.913211</td>\n",
              "      <td>0.026538</td>\n",
              "      <td>0.679687</td>\n",
              "      <td>0.932129</td>\n",
              "      <td>3.727819</td>\n",
              "      <td>0.891089</td>\n",
              "      <td>1.323926</td>\n",
              "      <td>0.902540</td>\n",
              "    </tr>\n",
              "    <tr>\n",
              "      <th>min</th>\n",
              "      <td>1.000000</td>\n",
              "      <td>0.000000</td>\n",
              "      <td>-18.100000</td>\n",
              "      <td>-2.790000</td>\n",
              "      <td>-3.240000</td>\n",
              "      <td>-127.800000</td>\n",
              "      <td>-1.171000</td>\n",
              "      <td>-555.000000</td>\n",
              "      <td>-823.000000</td>\n",
              "      <td>0.888090</td>\n",
              "      <td>0.480000</td>\n",
              "      <td>-3.130000</td>\n",
              "      <td>-4.700000</td>\n",
              "      <td>-2.000000</td>\n",
              "      <td>4.000000</td>\n",
              "      <td>1.000000</td>\n",
              "    </tr>\n",
              "    <tr>\n",
              "      <th>25%</th>\n",
              "      <td>4037.500000</td>\n",
              "      <td>2.000000</td>\n",
              "      <td>5.200000</td>\n",
              "      <td>0.130000</td>\n",
              "      <td>0.030000</td>\n",
              "      <td>-2.000000</td>\n",
              "      <td>-0.031000</td>\n",
              "      <td>0.000000</td>\n",
              "      <td>27.000000</td>\n",
              "      <td>0.987720</td>\n",
              "      <td>2.960000</td>\n",
              "      <td>0.280000</td>\n",
              "      <td>9.000000</td>\n",
              "      <td>-1.000000</td>\n",
              "      <td>7.000000</td>\n",
              "      <td>1.000000</td>\n",
              "    </tr>\n",
              "    <tr>\n",
              "      <th>50%</th>\n",
              "      <td>8110.000000</td>\n",
              "      <td>3.000000</td>\n",
              "      <td>6.900000</td>\n",
              "      <td>0.280000</td>\n",
              "      <td>0.310000</td>\n",
              "      <td>3.900000</td>\n",
              "      <td>0.046000</td>\n",
              "      <td>30.000000</td>\n",
              "      <td>123.000000</td>\n",
              "      <td>0.994490</td>\n",
              "      <td>3.200000</td>\n",
              "      <td>0.500000</td>\n",
              "      <td>10.400000</td>\n",
              "      <td>0.000000</td>\n",
              "      <td>8.000000</td>\n",
              "      <td>2.000000</td>\n",
              "    </tr>\n",
              "    <tr>\n",
              "      <th>75%</th>\n",
              "      <td>12106.500000</td>\n",
              "      <td>4.000000</td>\n",
              "      <td>9.500000</td>\n",
              "      <td>0.640000</td>\n",
              "      <td>0.580000</td>\n",
              "      <td>15.900000</td>\n",
              "      <td>0.153000</td>\n",
              "      <td>70.000000</td>\n",
              "      <td>208.000000</td>\n",
              "      <td>1.000515</td>\n",
              "      <td>3.470000</td>\n",
              "      <td>0.860000</td>\n",
              "      <td>12.400000</td>\n",
              "      <td>1.000000</td>\n",
              "      <td>8.000000</td>\n",
              "      <td>3.000000</td>\n",
              "    </tr>\n",
              "    <tr>\n",
              "      <th>max</th>\n",
              "      <td>16129.000000</td>\n",
              "      <td>8.000000</td>\n",
              "      <td>34.400000</td>\n",
              "      <td>3.680000</td>\n",
              "      <td>3.860000</td>\n",
              "      <td>141.150000</td>\n",
              "      <td>1.351000</td>\n",
              "      <td>623.000000</td>\n",
              "      <td>1057.000000</td>\n",
              "      <td>1.099240</td>\n",
              "      <td>6.130000</td>\n",
              "      <td>4.240000</td>\n",
              "      <td>26.500000</td>\n",
              "      <td>2.000000</td>\n",
              "      <td>17.000000</td>\n",
              "      <td>4.000000</td>\n",
              "    </tr>\n",
              "  </tbody>\n",
              "</table>\n",
              "</div>"
            ],
            "text/plain": [
              "              INDEX        TARGET  ...     AcidIndex        STARS\n",
              "count  12795.000000  12795.000000  ...  12795.000000  9436.000000\n",
              "mean    8069.980305      3.029074  ...      7.772724     2.041755\n",
              "std     4656.905107      1.926368  ...      1.323926     0.902540\n",
              "min        1.000000      0.000000  ...      4.000000     1.000000\n",
              "25%     4037.500000      2.000000  ...      7.000000     1.000000\n",
              "50%     8110.000000      3.000000  ...      8.000000     2.000000\n",
              "75%    12106.500000      4.000000  ...      8.000000     3.000000\n",
              "max    16129.000000      8.000000  ...     17.000000     4.000000\n",
              "\n",
              "[8 rows x 16 columns]"
            ]
          },
          "metadata": {
            "tags": []
          },
          "execution_count": 5
        }
      ]
    },
    {
      "cell_type": "code",
      "metadata": {
        "id": "1QZbRJ6aGe7a",
        "colab": {
          "base_uri": "https://localhost:8080/"
        },
        "outputId": "cd973679-a6a4-4aa3-d5e4-ec92ac6df97f"
      },
      "source": [
        "#Show the info\n",
        "df7.info()"
      ],
      "execution_count": 6,
      "outputs": [
        {
          "output_type": "stream",
          "text": [
            "<class 'pandas.core.frame.DataFrame'>\n",
            "RangeIndex: 12795 entries, 0 to 12794\n",
            "Data columns (total 16 columns):\n",
            " #   Column              Non-Null Count  Dtype  \n",
            "---  ------              --------------  -----  \n",
            " 0   INDEX               12795 non-null  int64  \n",
            " 1   TARGET              12795 non-null  int64  \n",
            " 2   FixedAcidity        12795 non-null  float64\n",
            " 3   VolatileAcidity     12795 non-null  float64\n",
            " 4   CitricAcid          12795 non-null  float64\n",
            " 5   ResidualSugar       12179 non-null  float64\n",
            " 6   Chlorides           12157 non-null  float64\n",
            " 7   FreeSulfurDioxide   12148 non-null  float64\n",
            " 8   TotalSulfurDioxide  12113 non-null  float64\n",
            " 9   Density             12795 non-null  float64\n",
            " 10  pH                  12400 non-null  float64\n",
            " 11  Sulphates           11585 non-null  float64\n",
            " 12  Alcohol             12142 non-null  float64\n",
            " 13  LabelAppeal         12795 non-null  int64  \n",
            " 14  AcidIndex           12795 non-null  int64  \n",
            " 15  STARS               9436 non-null   float64\n",
            "dtypes: float64(12), int64(4)\n",
            "memory usage: 1.6 MB\n"
          ],
          "name": "stdout"
        }
      ]
    },
    {
      "cell_type": "code",
      "metadata": {
        "id": "ec85lOSLRrKX",
        "colab": {
          "base_uri": "https://localhost:8080/"
        },
        "outputId": "2707e0b6-f093-42dc-c07a-7b0ef9a5380d"
      },
      "source": [
        "#Show the shape\n",
        "df7.shape"
      ],
      "execution_count": 7,
      "outputs": [
        {
          "output_type": "execute_result",
          "data": {
            "text/plain": [
              "(12795, 16)"
            ]
          },
          "metadata": {
            "tags": []
          },
          "execution_count": 7
        }
      ]
    },
    {
      "cell_type": "code",
      "metadata": {
        "id": "NnYiY0OYAfug"
      },
      "source": [
        "df2=df7"
      ],
      "execution_count": 8,
      "outputs": []
    },
    {
      "cell_type": "code",
      "metadata": {
        "id": "jEzEwGuGX6zO",
        "colab": {
          "base_uri": "https://localhost:8080/"
        },
        "outputId": "e3a941e2-edf5-4ae7-95ef-615e89568675"
      },
      "source": [
        "#Show the columns\n",
        "df2.columns"
      ],
      "execution_count": 9,
      "outputs": [
        {
          "output_type": "execute_result",
          "data": {
            "text/plain": [
              "Index(['INDEX', 'TARGET', 'FixedAcidity', 'VolatileAcidity', 'CitricAcid',\n",
              "       'ResidualSugar', 'Chlorides', 'FreeSulfurDioxide', 'TotalSulfurDioxide',\n",
              "       'Density', 'pH', 'Sulphates', 'Alcohol', 'LabelAppeal', 'AcidIndex',\n",
              "       'STARS'],\n",
              "      dtype='object')"
            ]
          },
          "metadata": {
            "tags": []
          },
          "execution_count": 9
        }
      ]
    },
    {
      "cell_type": "code",
      "metadata": {
        "id": "S1o-fenn_G-l",
        "colab": {
          "base_uri": "https://localhost:8080/"
        },
        "outputId": "7d0fe4e4-8139-47d4-b2c5-b6c06ab66f12"
      },
      "source": [
        "#Show the data type\n",
        "df2.dtypes"
      ],
      "execution_count": 10,
      "outputs": [
        {
          "output_type": "execute_result",
          "data": {
            "text/plain": [
              "INDEX                   int64\n",
              "TARGET                  int64\n",
              "FixedAcidity          float64\n",
              "VolatileAcidity       float64\n",
              "CitricAcid            float64\n",
              "ResidualSugar         float64\n",
              "Chlorides             float64\n",
              "FreeSulfurDioxide     float64\n",
              "TotalSulfurDioxide    float64\n",
              "Density               float64\n",
              "pH                    float64\n",
              "Sulphates             float64\n",
              "Alcohol               float64\n",
              "LabelAppeal             int64\n",
              "AcidIndex               int64\n",
              "STARS                 float64\n",
              "dtype: object"
            ]
          },
          "metadata": {
            "tags": []
          },
          "execution_count": 10
        }
      ]
    },
    {
      "cell_type": "code",
      "metadata": {
        "id": "6FZZld8hGSBP"
      },
      "source": [
        "df3=df2"
      ],
      "execution_count": 11,
      "outputs": []
    },
    {
      "cell_type": "code",
      "metadata": {
        "id": "f6SCD6CKXVxi",
        "colab": {
          "base_uri": "https://localhost:8080/",
          "height": 297
        },
        "outputId": "51b5094a-b406-4426-d1a9-6da154c3094f"
      },
      "source": [
        "#Show Temperature distribution\n",
        "import matplotlib.pyplot as plt\n",
        "import seaborn as sns\n",
        "\n",
        "df3.boxplot(column=['TARGET'], return_type='axes');\n",
        "plt.title(\"TARGET\")\n",
        "\n"
      ],
      "execution_count": 12,
      "outputs": [
        {
          "output_type": "execute_result",
          "data": {
            "text/plain": [
              "Text(0.5, 1.0, 'TARGET')"
            ]
          },
          "metadata": {
            "tags": []
          },
          "execution_count": 12
        },
        {
          "output_type": "display_data",
          "data": {
            "image/png": "[encoded data removed]",
            "text/plain": [
              "<Figure size 432x288 with 1 Axes>"
            ]
          },
          "metadata": {
            "tags": [],
            "needs_background": "light"
          }
        }
      ]
    },
    {
      "cell_type": "code",
      "metadata": {
        "colab": {
          "base_uri": "https://localhost:8080/",
          "height": 297
        },
        "id": "_0auPWI42gq3",
        "outputId": "ae3daf82-72fe-48aa-a7d1-7c25fe290476"
      },
      "source": [
        "#Show Target distribution\n",
        "df3.hist(column=['TARGET']);\n",
        "plt.ylabel(\"Number of Records\")\n",
        "plt.title(\"TARGET\")"
      ],
      "execution_count": 13,
      "outputs": [
        {
          "output_type": "execute_result",
          "data": {
            "text/plain": [
              "Text(0.5, 1.0, 'TARGET')"
            ]
          },
          "metadata": {
            "tags": []
          },
          "execution_count": 13
        },
        {
          "output_type": "display_data",
          "data": {
            "image/png": "[encoded data removed]",
            "text/plain": [
              "<Figure size 432x288 with 1 Axes>"
            ]
          },
          "metadata": {
            "tags": [],
            "needs_background": "light"
          }
        }
      ]
    },
    {
      "cell_type": "code",
      "metadata": {
        "colab": {
          "base_uri": "https://localhost:8080/",
          "height": 297
        },
        "id": "GBvK-lYqIdHs",
        "outputId": "7ab5b616-a555-4fa3-afc5-e63f2a9326c5"
      },
      "source": [
        "#Show FixedAcidity distribution\n",
        "df3.boxplot(column=['FixedAcidity'], return_type='axes');\n",
        "plt.title(\"FixedAcidity\")\n",
        "\n"
      ],
      "execution_count": 14,
      "outputs": [
        {
          "output_type": "execute_result",
          "data": {
            "text/plain": [
              "Text(0.5, 1.0, 'FixedAcidity')"
            ]
          },
          "metadata": {
            "tags": []
          },
          "execution_count": 14
        },
        {
          "output_type": "display_data",
          "data": {
            "image/png": "[encoded data removed]",
            "text/plain": [
              "<Figure size 432x288 with 1 Axes>"
            ]
          },
          "metadata": {
            "tags": [],
            "needs_background": "light"
          }
        }
      ]
    },
    {
      "cell_type": "code",
      "metadata": {
        "colab": {
          "base_uri": "https://localhost:8080/",
          "height": 297
        },
        "id": "aXhAn1GKI6p6",
        "outputId": "a02e8f49-1ce6-4ab7-fcee-58b5936381e9"
      },
      "source": [
        "#Show FixedAcidity distribution\n",
        "df3.hist(column=['FixedAcidity']);\n",
        "plt.ylabel(\"Number of Records\")\n",
        "plt.title(\"FixedAcidity\")"
      ],
      "execution_count": 15,
      "outputs": [
        {
          "output_type": "execute_result",
          "data": {
            "text/plain": [
              "Text(0.5, 1.0, 'FixedAcidity')"
            ]
          },
          "metadata": {
            "tags": []
          },
          "execution_count": 15
        },
        {
          "output_type": "display_data",
          "data": {
            "image/png": "[encoded data removed]",
            "text/plain": [
              "<Figure size 432x288 with 1 Axes>"
            ]
          },
          "metadata": {
            "tags": [],
            "needs_background": "light"
          }
        }
      ]
    },
    {
      "cell_type": "code",
      "metadata": {
        "colab": {
          "base_uri": "https://localhost:8080/",
          "height": 297
        },
        "id": "y0DgGU4oImd4",
        "outputId": "eaf42ded-211b-4484-9eed-a05fa9576687"
      },
      "source": [
        "#Show VolatileAcidity distribution\n",
        "df3.boxplot(column=['VolatileAcidity'], return_type='axes');\n",
        "plt.title(\"VolatileAcidity\")\n",
        "\n"
      ],
      "execution_count": 16,
      "outputs": [
        {
          "output_type": "execute_result",
          "data": {
            "text/plain": [
              "Text(0.5, 1.0, 'VolatileAcidity')"
            ]
          },
          "metadata": {
            "tags": []
          },
          "execution_count": 16
        },
        {
          "output_type": "display_data",
          "data": {
            "image/png": "[encoded data removed]",
            "text/plain": [
              "<Figure size 432x288 with 1 Axes>"
            ]
          },
          "metadata": {
            "tags": [],
            "needs_background": "light"
          }
        }
      ]
    },
    {
      "cell_type": "code",
      "metadata": {
        "colab": {
          "base_uri": "https://localhost:8080/",
          "height": 297
        },
        "id": "9b_JA-66Imd5",
        "outputId": "457eb7b3-59bb-4036-8acb-6eb7d92b7d34"
      },
      "source": [
        "#Show VolatileAcidity distribution\n",
        "df3.hist(column=['VolatileAcidity']);\n",
        "plt.ylabel(\"Number of Records\")\n",
        "plt.title(\"VolatileAcidity\")"
      ],
      "execution_count": 17,
      "outputs": [
        {
          "output_type": "execute_result",
          "data": {
            "text/plain": [
              "Text(0.5, 1.0, 'VolatileAcidity')"
            ]
          },
          "metadata": {
            "tags": []
          },
          "execution_count": 17
        },
        {
          "output_type": "display_data",
          "data": {
            "image/png": "[encoded data removed]",
            "text/plain": [
              "<Figure size 432x288 with 1 Axes>"
            ]
          },
          "metadata": {
            "tags": [],
            "needs_background": "light"
          }
        }
      ]
    },
    {
      "cell_type": "code",
      "metadata": {
        "colab": {
          "base_uri": "https://localhost:8080/",
          "height": 297
        },
        "id": "e0Cdb9XEIeqG",
        "outputId": "b8a04e9a-1d71-430b-a57e-c9a32ed68657"
      },
      "source": [
        "#Show CitricAcid distribution\n",
        "df3.boxplot(column=['CitricAcid'], return_type='axes');\n",
        "plt.title(\"CitricAcid\")\n",
        "\n"
      ],
      "execution_count": 18,
      "outputs": [
        {
          "output_type": "execute_result",
          "data": {
            "text/plain": [
              "Text(0.5, 1.0, 'CitricAcid')"
            ]
          },
          "metadata": {
            "tags": []
          },
          "execution_count": 18
        },
        {
          "output_type": "display_data",
          "data": {
            "image/png": "[encoded data removed]",
            "text/plain": [
              "<Figure size 432x288 with 1 Axes>"
            ]
          },
          "metadata": {
            "tags": [],
            "needs_background": "light"
          }
        }
      ]
    },
    {
      "cell_type": "code",
      "metadata": {
        "colab": {
          "base_uri": "https://localhost:8080/",
          "height": 297
        },
        "id": "mv8l6m6uIeqI",
        "outputId": "e7c1ebef-7395-498a-a449-eb856c8ae3a8"
      },
      "source": [
        "#Show CitricAcid distribution\n",
        "df3.hist(column=['CitricAcid']);\n",
        "plt.ylabel(\"Number of Records\")\n",
        "plt.title(\"CitricAcid\")"
      ],
      "execution_count": 19,
      "outputs": [
        {
          "output_type": "execute_result",
          "data": {
            "text/plain": [
              "Text(0.5, 1.0, 'CitricAcid')"
            ]
          },
          "metadata": {
            "tags": []
          },
          "execution_count": 19
        },
        {
          "output_type": "display_data",
          "data": {
            "image/png": "[encoded data removed]",
            "text/plain": [
              "<Figure size 432x288 with 1 Axes>"
            ]
          },
          "metadata": {
            "tags": [],
            "needs_background": "light"
          }
        }
      ]
    },
    {
      "cell_type": "code",
      "metadata": {
        "colab": {
          "base_uri": "https://localhost:8080/",
          "height": 297
        },
        "id": "34mjQslnIfWN",
        "outputId": "71be78fe-db8f-4553-fc7d-f45886e3e7a8"
      },
      "source": [
        "#Show ResidualSugar distribution\n",
        "df3.boxplot(column=['ResidualSugar'], return_type='axes');\n",
        "plt.title(\"ResidualSugar\")\n",
        "\n"
      ],
      "execution_count": 20,
      "outputs": [
        {
          "output_type": "execute_result",
          "data": {
            "text/plain": [
              "Text(0.5, 1.0, 'ResidualSugar')"
            ]
          },
          "metadata": {
            "tags": []
          },
          "execution_count": 20
        },
        {
          "output_type": "display_data",
          "data": {
            "image/png": "[encoded data removed]",
            "text/plain": [
              "<Figure size 432x288 with 1 Axes>"
            ]
          },
          "metadata": {
            "tags": [],
            "needs_background": "light"
          }
        }
      ]
    },
    {
      "cell_type": "code",
      "metadata": {
        "colab": {
          "base_uri": "https://localhost:8080/",
          "height": 297
        },
        "id": "XF1kW1_jIfWO",
        "outputId": "16125c53-7ebc-4abb-fbaf-2f7af6df4e1d"
      },
      "source": [
        "#Show ResidualSugar distribution\n",
        "df3.hist(column=['ResidualSugar']);\n",
        "plt.ylabel(\"Number of Records\")\n",
        "plt.title(\"ResidualSugar\")"
      ],
      "execution_count": 21,
      "outputs": [
        {
          "output_type": "execute_result",
          "data": {
            "text/plain": [
              "Text(0.5, 1.0, 'ResidualSugar')"
            ]
          },
          "metadata": {
            "tags": []
          },
          "execution_count": 21
        },
        {
          "output_type": "display_data",
          "data": {
            "image/png": "[encoded data removed]",
            "text/plain": [
              "<Figure size 432x288 with 1 Axes>"
            ]
          },
          "metadata": {
            "tags": [],
            "needs_background": "light"
          }
        }
      ]
    },
    {
      "cell_type": "code",
      "metadata": {
        "colab": {
          "base_uri": "https://localhost:8080/",
          "height": 297
        },
        "id": "exVe7Q8oJGmL",
        "outputId": "a6bab6d1-7ba4-47db-cf24-4b5e1cb5524a"
      },
      "source": [
        "#Show Chlorides distribution\n",
        "df3.boxplot(column=['Chlorides'], return_type='axes');\n",
        "plt.title(\"Chlorides\")\n",
        "\n"
      ],
      "execution_count": 22,
      "outputs": [
        {
          "output_type": "execute_result",
          "data": {
            "text/plain": [
              "Text(0.5, 1.0, 'Chlorides')"
            ]
          },
          "metadata": {
            "tags": []
          },
          "execution_count": 22
        },
        {
          "output_type": "display_data",
          "data": {
            "image/png": "[encoded data removed]",
            "text/plain": [
              "<Figure size 432x288 with 1 Axes>"
            ]
          },
          "metadata": {
            "tags": [],
            "needs_background": "light"
          }
        }
      ]
    },
    {
      "cell_type": "code",
      "metadata": {
        "colab": {
          "base_uri": "https://localhost:8080/",
          "height": 297
        },
        "id": "EHXbbIsNJGmN",
        "outputId": "0a2770e3-279d-46b2-fe06-fab26550cf1b"
      },
      "source": [
        "#Show Chlorides distribution\n",
        "df3.hist(column=['Chlorides']);\n",
        "plt.ylabel(\"Number of Records\")\n",
        "plt.title(\"Chlorides\")"
      ],
      "execution_count": 23,
      "outputs": [
        {
          "output_type": "execute_result",
          "data": {
            "text/plain": [
              "Text(0.5, 1.0, 'Chlorides')"
            ]
          },
          "metadata": {
            "tags": []
          },
          "execution_count": 23
        },
        {
          "output_type": "display_data",
          "data": {
            "image/png": "[encoded data removed]",
            "text/plain": [
              "<Figure size 432x288 with 1 Axes>"
            ]
          },
          "metadata": {
            "tags": [],
            "needs_background": "light"
          }
        }
      ]
    },
    {
      "cell_type": "code",
      "metadata": {
        "colab": {
          "base_uri": "https://localhost:8080/",
          "height": 297
        },
        "id": "CXPlui5rJM8q",
        "outputId": "9d107747-ab98-46dd-a304-9fa64bf816c8"
      },
      "source": [
        "#Show FreeSulfurDioxide distribution\n",
        "df3.boxplot(column=['FreeSulfurDioxide'], return_type='axes');\n",
        "plt.title(\"FreeSulfurDioxide\")\n",
        "\n"
      ],
      "execution_count": 24,
      "outputs": [
        {
          "output_type": "execute_result",
          "data": {
            "text/plain": [
              "Text(0.5, 1.0, 'FreeSulfurDioxide')"
            ]
          },
          "metadata": {
            "tags": []
          },
          "execution_count": 24
        },
        {
          "output_type": "display_data",
          "data": {
            "image/png": "[encoded data removed]",
            "text/plain": [
              "<Figure size 432x288 with 1 Axes>"
            ]
          },
          "metadata": {
            "tags": [],
            "needs_background": "light"
          }
        }
      ]
    },
    {
      "cell_type": "code",
      "metadata": {
        "colab": {
          "base_uri": "https://localhost:8080/",
          "height": 297
        },
        "id": "dw3ZdPixJM8r",
        "outputId": "1ca91766-d8b6-40d0-d4f3-4e71a9010b53"
      },
      "source": [
        "#Show FreeSulfurDioxide distribution\n",
        "df3.hist(column=['FreeSulfurDioxide']);\n",
        "plt.ylabel(\"Number of Records\")\n",
        "plt.title(\"FreeSulfurDioxide\")"
      ],
      "execution_count": 25,
      "outputs": [
        {
          "output_type": "execute_result",
          "data": {
            "text/plain": [
              "Text(0.5, 1.0, 'FreeSulfurDioxide')"
            ]
          },
          "metadata": {
            "tags": []
          },
          "execution_count": 25
        },
        {
          "output_type": "display_data",
          "data": {
            "image/png": "[encoded data removed]",
            "text/plain": [
              "<Figure size 432x288 with 1 Axes>"
            ]
          },
          "metadata": {
            "tags": [],
            "needs_background": "light"
          }
        }
      ]
    },
    {
      "cell_type": "code",
      "metadata": {
        "colab": {
          "base_uri": "https://localhost:8080/",
          "height": 297
        },
        "id": "y3RI9WcAJNwP",
        "outputId": "0ad3956a-576c-4228-dca6-f2b6af62b632"
      },
      "source": [
        "#Show TotalSulfurDioxide distribution\n",
        "df3.boxplot(column=['TotalSulfurDioxide'], return_type='axes');\n",
        "plt.title(\"TotalSulfurDioxide\")\n",
        "\n"
      ],
      "execution_count": 26,
      "outputs": [
        {
          "output_type": "execute_result",
          "data": {
            "text/plain": [
              "Text(0.5, 1.0, 'TotalSulfurDioxide')"
            ]
          },
          "metadata": {
            "tags": []
          },
          "execution_count": 26
        },
        {
          "output_type": "display_data",
          "data": {
            "image/png": "[encoded data removed]",
            "text/plain": [
              "<Figure size 432x288 with 1 Axes>"
            ]
          },
          "metadata": {
            "tags": [],
            "needs_background": "light"
          }
        }
      ]
    },
    {
      "cell_type": "code",
      "metadata": {
        "colab": {
          "base_uri": "https://localhost:8080/",
          "height": 297
        },
        "id": "O6e-RiwHJNwQ",
        "outputId": "815a6728-5030-462a-e493-262dfa0294c4"
      },
      "source": [
        "#Show TotalSulfurDioxide distribution\n",
        "df3.hist(column=['TotalSulfurDioxide']);\n",
        "plt.ylabel(\"Number of Records\")\n",
        "plt.title(\"TotalSulfurDioxide\")"
      ],
      "execution_count": 27,
      "outputs": [
        {
          "output_type": "execute_result",
          "data": {
            "text/plain": [
              "Text(0.5, 1.0, 'TotalSulfurDioxide')"
            ]
          },
          "metadata": {
            "tags": []
          },
          "execution_count": 27
        },
        {
          "output_type": "display_data",
          "data": {
            "image/png": "[encoded data removed]",
            "text/plain": [
              "<Figure size 432x288 with 1 Axes>"
            ]
          },
          "metadata": {
            "tags": [],
            "needs_background": "light"
          }
        }
      ]
    },
    {
      "cell_type": "code",
      "metadata": {
        "colab": {
          "base_uri": "https://localhost:8080/",
          "height": 297
        },
        "id": "K65VmMhSJOZQ",
        "outputId": "872cc3fd-b127-469e-a1e6-bd7648c2c2fb"
      },
      "source": [
        "#Show Density distribution\n",
        "df3.boxplot(column=['Density'], return_type='axes');\n",
        "plt.title(\"Density\")\n",
        "\n"
      ],
      "execution_count": 28,
      "outputs": [
        {
          "output_type": "execute_result",
          "data": {
            "text/plain": [
              "Text(0.5, 1.0, 'Density')"
            ]
          },
          "metadata": {
            "tags": []
          },
          "execution_count": 28
        },
        {
          "output_type": "display_data",
          "data": {
            "image/png": "[encoded data removed]",
            "text/plain": [
              "<Figure size 432x288 with 1 Axes>"
            ]
          },
          "metadata": {
            "tags": [],
            "needs_background": "light"
          }
        }
      ]
    },
    {
      "cell_type": "code",
      "metadata": {
        "colab": {
          "base_uri": "https://localhost:8080/",
          "height": 297
        },
        "id": "hTkEPO6jJOZR",
        "outputId": "cb159dcf-f6ee-4385-db9c-a6623ea73112"
      },
      "source": [
        "#Show Density distribution\n",
        "df3.hist(column=['Density']);\n",
        "plt.ylabel(\"Number of Records\")\n",
        "plt.title(\"Density\")"
      ],
      "execution_count": 29,
      "outputs": [
        {
          "output_type": "execute_result",
          "data": {
            "text/plain": [
              "Text(0.5, 1.0, 'Density')"
            ]
          },
          "metadata": {
            "tags": []
          },
          "execution_count": 29
        },
        {
          "output_type": "display_data",
          "data": {
            "image/png": "[encoded data removed]",
            "text/plain": [
              "<Figure size 432x288 with 1 Axes>"
            ]
          },
          "metadata": {
            "tags": [],
            "needs_background": "light"
          }
        }
      ]
    },
    {
      "cell_type": "code",
      "metadata": {
        "colab": {
          "base_uri": "https://localhost:8080/",
          "height": 297
        },
        "id": "v8yu62PgJO90",
        "outputId": "74683688-cebb-416d-f78c-903cb94264d2"
      },
      "source": [
        "#Show PH distribution\n",
        "df3.boxplot(column=['pH'], return_type='axes');\n",
        "plt.title(\"pH\")\n",
        "\n"
      ],
      "execution_count": 30,
      "outputs": [
        {
          "output_type": "execute_result",
          "data": {
            "text/plain": [
              "Text(0.5, 1.0, 'pH')"
            ]
          },
          "metadata": {
            "tags": []
          },
          "execution_count": 30
        },
        {
          "output_type": "display_data",
          "data": {
            "image/png": "[encoded data removed]",
            "text/plain": [
              "<Figure size 432x288 with 1 Axes>"
            ]
          },
          "metadata": {
            "tags": [],
            "needs_background": "light"
          }
        }
      ]
    },
    {
      "cell_type": "code",
      "metadata": {
        "colab": {
          "base_uri": "https://localhost:8080/",
          "height": 297
        },
        "id": "0i2k7CzdJO91",
        "outputId": "141f80e8-982c-44c2-f5ec-410f73569c77"
      },
      "source": [
        "#Show PH distribution\n",
        "df3.hist(column=['pH']);\n",
        "plt.ylabel(\"Number of Records\")\n",
        "plt.title(\"pH\")"
      ],
      "execution_count": 31,
      "outputs": [
        {
          "output_type": "execute_result",
          "data": {
            "text/plain": [
              "Text(0.5, 1.0, 'pH')"
            ]
          },
          "metadata": {
            "tags": []
          },
          "execution_count": 31
        },
        {
          "output_type": "display_data",
          "data": {
            "image/png": "[encoded data removed]",
            "text/plain": [
              "<Figure size 432x288 with 1 Axes>"
            ]
          },
          "metadata": {
            "tags": [],
            "needs_background": "light"
          }
        }
      ]
    },
    {
      "cell_type": "code",
      "metadata": {
        "colab": {
          "base_uri": "https://localhost:8080/",
          "height": 297
        },
        "id": "Av-aXxAaLl5-",
        "outputId": "e1c43ffb-2f29-4411-b58b-c09d73710876"
      },
      "source": [
        "#Show Sulphates distribution\n",
        "df3.boxplot(column=['Sulphates'], return_type='axes');\n",
        "plt.title(\"Sulphates\")\n",
        "\n"
      ],
      "execution_count": 32,
      "outputs": [
        {
          "output_type": "execute_result",
          "data": {
            "text/plain": [
              "Text(0.5, 1.0, 'Sulphates')"
            ]
          },
          "metadata": {
            "tags": []
          },
          "execution_count": 32
        },
        {
          "output_type": "display_data",
          "data": {
            "image/png": "[encoded data removed]",
            "text/plain": [
              "<Figure size 432x288 with 1 Axes>"
            ]
          },
          "metadata": {
            "tags": [],
            "needs_background": "light"
          }
        }
      ]
    },
    {
      "cell_type": "code",
      "metadata": {
        "colab": {
          "base_uri": "https://localhost:8080/",
          "height": 297
        },
        "id": "b5jBCBAWLl5_",
        "outputId": "1bd41e0e-d255-4639-f9d8-879fd6046e74"
      },
      "source": [
        "#Show Sulphates distribution\n",
        "df3.hist(column=['Sulphates']);\n",
        "plt.ylabel(\"Number of Records\")\n",
        "plt.title(\"Sulphates\")"
      ],
      "execution_count": 33,
      "outputs": [
        {
          "output_type": "execute_result",
          "data": {
            "text/plain": [
              "Text(0.5, 1.0, 'Sulphates')"
            ]
          },
          "metadata": {
            "tags": []
          },
          "execution_count": 33
        },
        {
          "output_type": "display_data",
          "data": {
            "image/png": "[encoded data removed]",
            "text/plain": [
              "<Figure size 432x288 with 1 Axes>"
            ]
          },
          "metadata": {
            "tags": [],
            "needs_background": "light"
          }
        }
      ]
    },
    {
      "cell_type": "code",
      "metadata": {
        "colab": {
          "base_uri": "https://localhost:8080/",
          "height": 297
        },
        "id": "w5FhYTnsLmqJ",
        "outputId": "426b0856-05bf-47da-d7f5-8b99508b21fc"
      },
      "source": [
        "#Show Alcohol distribution\n",
        "df3.boxplot(column=['Alcohol'], return_type='axes');\n",
        "plt.title(\"Alcohol\")\n",
        "\n"
      ],
      "execution_count": 34,
      "outputs": [
        {
          "output_type": "execute_result",
          "data": {
            "text/plain": [
              "Text(0.5, 1.0, 'Alcohol')"
            ]
          },
          "metadata": {
            "tags": []
          },
          "execution_count": 34
        },
        {
          "output_type": "display_data",
          "data": {
            "image/png": "[encoded data removed]",
            "text/plain": [
              "<Figure size 432x288 with 1 Axes>"
            ]
          },
          "metadata": {
            "tags": [],
            "needs_background": "light"
          }
        }
      ]
    },
    {
      "cell_type": "code",
      "metadata": {
        "colab": {
          "base_uri": "https://localhost:8080/",
          "height": 297
        },
        "id": "SeDklqznLmqK",
        "outputId": "660201f7-2596-4680-eb12-ed8949679f80"
      },
      "source": [
        "#Show Alcohol distribution\n",
        "df3.hist(column=['Alcohol']);\n",
        "plt.ylabel(\"Number of Records\")\n",
        "plt.title(\"Alcohol\")"
      ],
      "execution_count": 35,
      "outputs": [
        {
          "output_type": "execute_result",
          "data": {
            "text/plain": [
              "Text(0.5, 1.0, 'Alcohol')"
            ]
          },
          "metadata": {
            "tags": []
          },
          "execution_count": 35
        },
        {
          "output_type": "display_data",
          "data": {
            "image/png": "[encoded data removed]",
            "text/plain": [
              "<Figure size 432x288 with 1 Axes>"
            ]
          },
          "metadata": {
            "tags": [],
            "needs_background": "light"
          }
        }
      ]
    },
    {
      "cell_type": "code",
      "metadata": {
        "colab": {
          "base_uri": "https://localhost:8080/",
          "height": 297
        },
        "id": "A5F47ynQLnjo",
        "outputId": "30f0bd47-dd68-4a12-d378-09875bf2edba"
      },
      "source": [
        "#Show LabelAppeal distribution\n",
        "df3.boxplot(column=['LabelAppeal'], return_type='axes');\n",
        "plt.title(\"LabelAppeal\")\n",
        "\n"
      ],
      "execution_count": 36,
      "outputs": [
        {
          "output_type": "execute_result",
          "data": {
            "text/plain": [
              "Text(0.5, 1.0, 'LabelAppeal')"
            ]
          },
          "metadata": {
            "tags": []
          },
          "execution_count": 36
        },
        {
          "output_type": "display_data",
          "data": {
            "image/png": "[encoded data removed]",
            "text/plain": [
              "<Figure size 432x288 with 1 Axes>"
            ]
          },
          "metadata": {
            "tags": [],
            "needs_background": "light"
          }
        }
      ]
    },
    {
      "cell_type": "code",
      "metadata": {
        "colab": {
          "base_uri": "https://localhost:8080/",
          "height": 297
        },
        "id": "N_lQkUrsLnjp",
        "outputId": "3dc9a741-8c42-410b-f506-882a97615b48"
      },
      "source": [
        "#Show LabelAppeal distribution\n",
        "df3.hist(column=['LabelAppeal']);\n",
        "plt.ylabel(\"Number of Records\")\n",
        "plt.title(\"LabelAppeal\")"
      ],
      "execution_count": 37,
      "outputs": [
        {
          "output_type": "execute_result",
          "data": {
            "text/plain": [
              "Text(0.5, 1.0, 'LabelAppeal')"
            ]
          },
          "metadata": {
            "tags": []
          },
          "execution_count": 37
        },
        {
          "output_type": "display_data",
          "data": {
            "image/png": "[encoded data removed]",
            "text/plain": [
              "<Figure size 432x288 with 1 Axes>"
            ]
          },
          "metadata": {
            "tags": [],
            "needs_background": "light"
          }
        }
      ]
    },
    {
      "cell_type": "code",
      "metadata": {
        "colab": {
          "base_uri": "https://localhost:8080/",
          "height": 297
        },
        "id": "5sgm08A-LoJi",
        "outputId": "fb984c61-eb13-4440-cb31-d1ebf9e22e4c"
      },
      "source": [
        "#Show AcidIndex distribution\n",
        "df3.boxplot(column=['AcidIndex'], return_type='axes');\n",
        "plt.title(\"AcidIndex\")\n",
        "\n"
      ],
      "execution_count": 38,
      "outputs": [
        {
          "output_type": "execute_result",
          "data": {
            "text/plain": [
              "Text(0.5, 1.0, 'AcidIndex')"
            ]
          },
          "metadata": {
            "tags": []
          },
          "execution_count": 38
        },
        {
          "output_type": "display_data",
          "data": {
            "image/png": "[encoded data removed]",
            "text/plain": [
              "<Figure size 432x288 with 1 Axes>"
            ]
          },
          "metadata": {
            "tags": [],
            "needs_background": "light"
          }
        }
      ]
    },
    {
      "cell_type": "code",
      "metadata": {
        "colab": {
          "base_uri": "https://localhost:8080/",
          "height": 297
        },
        "id": "N5_GhVKhLoJi",
        "outputId": "20b1e63b-4b09-45cd-8e3f-cf1e6432e86a"
      },
      "source": [
        "#Show AcidIndex distribution\n",
        "df3.hist(column=['AcidIndex']);\n",
        "plt.ylabel(\"Number of Records\")\n",
        "plt.title(\"AcidIndex\")"
      ],
      "execution_count": 39,
      "outputs": [
        {
          "output_type": "execute_result",
          "data": {
            "text/plain": [
              "Text(0.5, 1.0, 'AcidIndex')"
            ]
          },
          "metadata": {
            "tags": []
          },
          "execution_count": 39
        },
        {
          "output_type": "display_data",
          "data": {
            "image/png": "[encoded data removed]",
            "text/plain": [
              "<Figure size 432x288 with 1 Axes>"
            ]
          },
          "metadata": {
            "tags": [],
            "needs_background": "light"
          }
        }
      ]
    },
    {
      "cell_type": "code",
      "metadata": {
        "colab": {
          "base_uri": "https://localhost:8080/",
          "height": 297
        },
        "id": "R0tvbD4FNKUu",
        "outputId": "e32d61b0-2222-426f-f5e6-70c4da71825e"
      },
      "source": [
        "#Show STARS distribution\n",
        "df3.boxplot(column=['STARS'], return_type='axes');\n",
        "plt.title(\"STARS\")\n",
        "\n"
      ],
      "execution_count": 40,
      "outputs": [
        {
          "output_type": "execute_result",
          "data": {
            "text/plain": [
              "Text(0.5, 1.0, 'STARS')"
            ]
          },
          "metadata": {
            "tags": []
          },
          "execution_count": 40
        },
        {
          "output_type": "display_data",
          "data": {
            "image/png": "[encoded data removed]",
            "text/plain": [
              "<Figure size 432x288 with 1 Axes>"
            ]
          },
          "metadata": {
            "tags": [],
            "needs_background": "light"
          }
        }
      ]
    },
    {
      "cell_type": "code",
      "metadata": {
        "colab": {
          "base_uri": "https://localhost:8080/",
          "height": 297
        },
        "id": "HfiGnn7KNKU6",
        "outputId": "426f0c9b-38fa-4e27-ee60-5ffcf63f6aa5"
      },
      "source": [
        "#Show STARS distribution\n",
        "df3.hist(column=['STARS']);\n",
        "plt.ylabel(\"Number of Records\")\n",
        "plt.title(\"STARS\")"
      ],
      "execution_count": 41,
      "outputs": [
        {
          "output_type": "execute_result",
          "data": {
            "text/plain": [
              "Text(0.5, 1.0, 'STARS')"
            ]
          },
          "metadata": {
            "tags": []
          },
          "execution_count": 41
        },
        {
          "output_type": "display_data",
          "data": {
            "image/png": "[encoded data removed]",
            "text/plain": [
              "<Figure size 432x288 with 1 Axes>"
            ]
          },
          "metadata": {
            "tags": [],
            "needs_background": "light"
          }
        }
      ]
    },
    {
      "cell_type": "code",
      "metadata": {
        "id": "vZ1RgXvImbP7",
        "colab": {
          "base_uri": "https://localhost:8080/",
          "height": 350
        },
        "outputId": "cde5c4aa-07b5-4bca-e744-e8eb5ca9b029"
      },
      "source": [
        "from matplotlib import rcParams\n",
        "\n",
        "# plot the heatmap\n",
        "corr = df3.corr()\n",
        "sns.heatmap(corr, xticklabels=corr.columns, yticklabels=corr.columns, linewidths=1, annot=False, cmap=sns.diverging_palette(220, 20, as_cmap=True))\n",
        "rcParams[\"figure.figsize\"] =10, 10"
      ],
      "execution_count": 42,
      "outputs": [
        {
          "output_type": "display_data",
          "data": {
            "image/png": "[encoded data removed]",
            "text/plain": [
              "<Figure size 432x288 with 2 Axes>"
            ]
          },
          "metadata": {
            "tags": [],
            "needs_background": "light"
          }
        }
      ]
    },
    {
      "cell_type": "markdown",
      "metadata": {
        "id": "aSazCboDBQIn"
      },
      "source": [
        "## **Data Preperation**"
      ]
    },
    {
      "cell_type": "markdown",
      "metadata": {
        "id": "m0iZ_kPGjcbJ"
      },
      "source": [
        "For the Data Preparation, we have performed the following operations to resolve the issues previously discovered in the exploratory data analysis.\n",
        "\n",
        "- We filled in all missing values using np.random.randn() to fill in each missing value with a random value from that column's range. This resolved all issues except for the missing STARS column. which needed to have all now incorrect floating-point values rounded to the nearest whole number.\n",
        "\n",
        "-Next, we corrected all the data with incorrect negative values by using .abs() to substitute them for positive values.\n"
      ]
    },
    {
      "cell_type": "code",
      "metadata": {
        "id": "JVDRetzcQWaT"
      },
      "source": [
        "import numpy as np"
      ],
      "execution_count": 43,
      "outputs": []
    },
    {
      "cell_type": "code",
      "metadata": {
        "id": "53dlTfaIDwZ_"
      },
      "source": [
        "df3[\"ResidualSugar\"].fillna(value=np.random.randn(), inplace=True)\n",
        "df3[\"Chlorides\"].fillna(value=np.random.randn(), inplace=True)\n",
        "df3[\"FreeSulfurDioxide\"].fillna(value=np.random.randn(), inplace=True)\n",
        "df3[\"TotalSulfurDioxide\"].fillna(value=np.random.randn(), inplace=True)\n",
        "df3[\"Density\"].fillna(value=np.random.randn(), inplace=True)       \n",
        "df3[\"pH\"].fillna(value=np.random.randn(), inplace=True)           \n",
        "df3[\"Sulphates\"].fillna(value=np.random.randn(), inplace=True)      \n",
        "df3[\"Alcohol\"].fillna(value=np.random.randn(), inplace=True)           \n",
        "df3[\"LabelAppeal\"].fillna(value=np.random.randn(), inplace=True)            \n",
        "df3[\"AcidIndex\"].fillna(value=np.random.randn(), inplace=True)\n",
        "df3[\"STARS\"].fillna(value=np.random.randn(), inplace=True)  "
      ],
      "execution_count": 44,
      "outputs": []
    },
    {
      "cell_type": "code",
      "metadata": {
        "id": "x11V-91LBSqJ"
      },
      "source": [
        "df3['FixedAcidity'] = df3['FixedAcidity'].abs()\n",
        "df3['VolatileAcidity'] = df3['VolatileAcidity'].abs()\n",
        "df3[\"CitricAcid\"] = df3[\"CitricAcid\"].abs()\n",
        "df3[\"ResidualSugar\"] = df3[\"ResidualSugar\"].abs()\n",
        "df3[\"Chlorides\"] = df3[\"Chlorides\"].abs()\n",
        "df3['FreeSulfurDioxide'] = df3['FreeSulfurDioxide'].abs()\n",
        "df3['TotalSulfurDioxide'] = df3['TotalSulfurDioxide'].abs()\n",
        "df3[\"Sulphates\"] = df3[\"Sulphates\"].abs()\n",
        "df3[\"Alcohol\"] = df3[\"Alcohol\"].abs()"
      ],
      "execution_count": 45,
      "outputs": []
    },
    {
      "cell_type": "code",
      "metadata": {
        "id": "LCr0OkTvTWMN"
      },
      "source": [
        "df3[\"STARS\"] = df3[\"STARS\"].round(decimals=0)"
      ],
      "execution_count": 46,
      "outputs": []
    },
    {
      "cell_type": "markdown",
      "metadata": {
        "id": "0pcUj0EuBQob"
      },
      "source": [
        "## **Prepped Data Review**"
      ]
    },
    {
      "cell_type": "markdown",
      "metadata": {
        "id": "_WKAObevluHw"
      },
      "source": [
        "For the Data Preparation, we have performed the following operations to resolve the issues previously discovered in the exploratory data analysis.\n",
        "\n",
        "- We filled in all missing values using np.random.randn() to fill in each missing value with a random value from that column's range. This resolved all issues except for the missing STARS column. which needed to have all now incorrect floating-point values rounded to the nearest whole number.\n",
        "\n",
        "-Next, we corrected all the data with inc"
      ]
    },
    {
      "cell_type": "code",
      "metadata": {
        "colab": {
          "base_uri": "https://localhost:8080/",
          "height": 434
        },
        "id": "fm4Ko5mVBIwZ",
        "outputId": "41466d4b-83bd-4988-ea3b-ab8e1db10691"
      },
      "source": [
        "#Show The Data\n",
        "df3"
      ],
      "execution_count": 47,
      "outputs": [
        {
          "output_type": "execute_result",
          "data": {
            "text/html": [
              "<div>\n",
              "<style scoped>\n",
              "    .dataframe tbody tr th:only-of-type {\n",
              "        vertical-align: middle;\n",
              "    }\n",
              "\n",
              "    .dataframe tbody tr th {\n",
              "        vertical-align: top;\n",
              "    }\n",
              "\n",
              "    .dataframe thead th {\n",
              "        text-align: right;\n",
              "    }\n",
              "</style>\n",
              "<table border=\"1\" class=\"dataframe\">\n",
              "  <thead>\n",
              "    <tr style=\"text-align: right;\">\n",
              "      <th></th>\n",
              "      <th>INDEX</th>\n",
              "      <th>TARGET</th>\n",
              "      <th>FixedAcidity</th>\n",
              "      <th>VolatileAcidity</th>\n",
              "      <th>CitricAcid</th>\n",
              "      <th>ResidualSugar</th>\n",
              "      <th>Chlorides</th>\n",
              "      <th>FreeSulfurDioxide</th>\n",
              "      <th>TotalSulfurDioxide</th>\n",
              "      <th>Density</th>\n",
              "      <th>pH</th>\n",
              "      <th>Sulphates</th>\n",
              "      <th>Alcohol</th>\n",
              "      <th>LabelAppeal</th>\n",
              "      <th>AcidIndex</th>\n",
              "      <th>STARS</th>\n",
              "    </tr>\n",
              "  </thead>\n",
              "  <tbody>\n",
              "    <tr>\n",
              "      <th>0</th>\n",
              "      <td>1</td>\n",
              "      <td>3</td>\n",
              "      <td>3.2</td>\n",
              "      <td>1.160</td>\n",
              "      <td>0.98</td>\n",
              "      <td>54.200000</td>\n",
              "      <td>0.567000</td>\n",
              "      <td>0.231532</td>\n",
              "      <td>268.00000</td>\n",
              "      <td>0.99280</td>\n",
              "      <td>3.33</td>\n",
              "      <td>0.590000</td>\n",
              "      <td>9.900000</td>\n",
              "      <td>0</td>\n",
              "      <td>8</td>\n",
              "      <td>2.0</td>\n",
              "    </tr>\n",
              "    <tr>\n",
              "      <th>1</th>\n",
              "      <td>2</td>\n",
              "      <td>3</td>\n",
              "      <td>4.5</td>\n",
              "      <td>0.160</td>\n",
              "      <td>0.81</td>\n",
              "      <td>26.100000</td>\n",
              "      <td>0.425000</td>\n",
              "      <td>15.000000</td>\n",
              "      <td>327.00000</td>\n",
              "      <td>1.02792</td>\n",
              "      <td>3.38</td>\n",
              "      <td>0.700000</td>\n",
              "      <td>1.383084</td>\n",
              "      <td>-1</td>\n",
              "      <td>7</td>\n",
              "      <td>3.0</td>\n",
              "    </tr>\n",
              "    <tr>\n",
              "      <th>2</th>\n",
              "      <td>4</td>\n",
              "      <td>5</td>\n",
              "      <td>7.1</td>\n",
              "      <td>2.640</td>\n",
              "      <td>0.88</td>\n",
              "      <td>14.800000</td>\n",
              "      <td>0.037000</td>\n",
              "      <td>214.000000</td>\n",
              "      <td>142.00000</td>\n",
              "      <td>0.99518</td>\n",
              "      <td>3.12</td>\n",
              "      <td>0.480000</td>\n",
              "      <td>22.000000</td>\n",
              "      <td>-1</td>\n",
              "      <td>8</td>\n",
              "      <td>3.0</td>\n",
              "    </tr>\n",
              "    <tr>\n",
              "      <th>3</th>\n",
              "      <td>5</td>\n",
              "      <td>3</td>\n",
              "      <td>5.7</td>\n",
              "      <td>0.385</td>\n",
              "      <td>0.04</td>\n",
              "      <td>18.800000</td>\n",
              "      <td>0.425000</td>\n",
              "      <td>22.000000</td>\n",
              "      <td>115.00000</td>\n",
              "      <td>0.99640</td>\n",
              "      <td>2.24</td>\n",
              "      <td>1.830000</td>\n",
              "      <td>6.200000</td>\n",
              "      <td>-1</td>\n",
              "      <td>6</td>\n",
              "      <td>1.0</td>\n",
              "    </tr>\n",
              "    <tr>\n",
              "      <th>4</th>\n",
              "      <td>6</td>\n",
              "      <td>4</td>\n",
              "      <td>8.0</td>\n",
              "      <td>0.330</td>\n",
              "      <td>1.26</td>\n",
              "      <td>9.400000</td>\n",
              "      <td>2.419479</td>\n",
              "      <td>167.000000</td>\n",
              "      <td>108.00000</td>\n",
              "      <td>0.99457</td>\n",
              "      <td>3.12</td>\n",
              "      <td>1.770000</td>\n",
              "      <td>13.700000</td>\n",
              "      <td>0</td>\n",
              "      <td>9</td>\n",
              "      <td>2.0</td>\n",
              "    </tr>\n",
              "    <tr>\n",
              "      <th>...</th>\n",
              "      <td>...</td>\n",
              "      <td>...</td>\n",
              "      <td>...</td>\n",
              "      <td>...</td>\n",
              "      <td>...</td>\n",
              "      <td>...</td>\n",
              "      <td>...</td>\n",
              "      <td>...</td>\n",
              "      <td>...</td>\n",
              "      <td>...</td>\n",
              "      <td>...</td>\n",
              "      <td>...</td>\n",
              "      <td>...</td>\n",
              "      <td>...</td>\n",
              "      <td>...</td>\n",
              "      <td>...</td>\n",
              "    </tr>\n",
              "    <tr>\n",
              "      <th>12790</th>\n",
              "      <td>16120</td>\n",
              "      <td>0</td>\n",
              "      <td>5.0</td>\n",
              "      <td>0.790</td>\n",
              "      <td>2.01</td>\n",
              "      <td>5.000000</td>\n",
              "      <td>0.043000</td>\n",
              "      <td>17.000000</td>\n",
              "      <td>101.00000</td>\n",
              "      <td>1.01077</td>\n",
              "      <td>3.39</td>\n",
              "      <td>0.570000</td>\n",
              "      <td>4.900000</td>\n",
              "      <td>1</td>\n",
              "      <td>5</td>\n",
              "      <td>1.0</td>\n",
              "    </tr>\n",
              "    <tr>\n",
              "      <th>12791</th>\n",
              "      <td>16123</td>\n",
              "      <td>5</td>\n",
              "      <td>8.9</td>\n",
              "      <td>0.470</td>\n",
              "      <td>0.29</td>\n",
              "      <td>84.900000</td>\n",
              "      <td>0.259000</td>\n",
              "      <td>54.000000</td>\n",
              "      <td>0.41072</td>\n",
              "      <td>0.99518</td>\n",
              "      <td>4.46</td>\n",
              "      <td>1.200000</td>\n",
              "      <td>1.383084</td>\n",
              "      <td>-1</td>\n",
              "      <td>8</td>\n",
              "      <td>2.0</td>\n",
              "    </tr>\n",
              "    <tr>\n",
              "      <th>12792</th>\n",
              "      <td>16127</td>\n",
              "      <td>4</td>\n",
              "      <td>6.0</td>\n",
              "      <td>0.170</td>\n",
              "      <td>1.10</td>\n",
              "      <td>37.000000</td>\n",
              "      <td>0.078000</td>\n",
              "      <td>25.000000</td>\n",
              "      <td>108.00000</td>\n",
              "      <td>0.99076</td>\n",
              "      <td>3.25</td>\n",
              "      <td>1.438822</td>\n",
              "      <td>12.300000</td>\n",
              "      <td>0</td>\n",
              "      <td>6</td>\n",
              "      <td>2.0</td>\n",
              "    </tr>\n",
              "    <tr>\n",
              "      <th>12793</th>\n",
              "      <td>16128</td>\n",
              "      <td>3</td>\n",
              "      <td>7.7</td>\n",
              "      <td>0.320</td>\n",
              "      <td>0.12</td>\n",
              "      <td>2.066331</td>\n",
              "      <td>0.029000</td>\n",
              "      <td>26.000000</td>\n",
              "      <td>274.00000</td>\n",
              "      <td>0.99060</td>\n",
              "      <td>3.97</td>\n",
              "      <td>0.620000</td>\n",
              "      <td>11.000000</td>\n",
              "      <td>-1</td>\n",
              "      <td>6</td>\n",
              "      <td>2.0</td>\n",
              "    </tr>\n",
              "    <tr>\n",
              "      <th>12794</th>\n",
              "      <td>16129</td>\n",
              "      <td>4</td>\n",
              "      <td>5.2</td>\n",
              "      <td>0.040</td>\n",
              "      <td>0.81</td>\n",
              "      <td>52.700000</td>\n",
              "      <td>2.419479</td>\n",
              "      <td>106.000000</td>\n",
              "      <td>242.00000</td>\n",
              "      <td>0.99454</td>\n",
              "      <td>3.94</td>\n",
              "      <td>0.120000</td>\n",
              "      <td>9.900000</td>\n",
              "      <td>0</td>\n",
              "      <td>7</td>\n",
              "      <td>2.0</td>\n",
              "    </tr>\n",
              "  </tbody>\n",
              "</table>\n",
              "<p>12795 rows × 16 columns</p>\n",
              "</div>"
            ],
            "text/plain": [
              "       INDEX  TARGET  FixedAcidity  ...  LabelAppeal  AcidIndex  STARS\n",
              "0          1       3           3.2  ...            0          8    2.0\n",
              "1          2       3           4.5  ...           -1          7    3.0\n",
              "2          4       5           7.1  ...           -1          8    3.0\n",
              "3          5       3           5.7  ...           -1          6    1.0\n",
              "4          6       4           8.0  ...            0          9    2.0\n",
              "...      ...     ...           ...  ...          ...        ...    ...\n",
              "12790  16120       0           5.0  ...            1          5    1.0\n",
              "12791  16123       5           8.9  ...           -1          8    2.0\n",
              "12792  16127       4           6.0  ...            0          6    2.0\n",
              "12793  16128       3           7.7  ...           -1          6    2.0\n",
              "12794  16129       4           5.2  ...            0          7    2.0\n",
              "\n",
              "[12795 rows x 16 columns]"
            ]
          },
          "metadata": {
            "tags": []
          },
          "execution_count": 47
        }
      ]
    },
    {
      "cell_type": "code",
      "metadata": {
        "colab": {
          "base_uri": "https://localhost:8080/",
          "height": 222
        },
        "id": "oaGJ88h2BIwg",
        "outputId": "4c9ce933-4d26-42aa-be4b-b4878c200ce7"
      },
      "source": [
        "#Show the tail of the data\n",
        "df3.tail()"
      ],
      "execution_count": 48,
      "outputs": [
        {
          "output_type": "execute_result",
          "data": {
            "text/html": [
              "<div>\n",
              "<style scoped>\n",
              "    .dataframe tbody tr th:only-of-type {\n",
              "        vertical-align: middle;\n",
              "    }\n",
              "\n",
              "    .dataframe tbody tr th {\n",
              "        vertical-align: top;\n",
              "    }\n",
              "\n",
              "    .dataframe thead th {\n",
              "        text-align: right;\n",
              "    }\n",
              "</style>\n",
              "<table border=\"1\" class=\"dataframe\">\n",
              "  <thead>\n",
              "    <tr style=\"text-align: right;\">\n",
              "      <th></th>\n",
              "      <th>INDEX</th>\n",
              "      <th>TARGET</th>\n",
              "      <th>FixedAcidity</th>\n",
              "      <th>VolatileAcidity</th>\n",
              "      <th>CitricAcid</th>\n",
              "      <th>ResidualSugar</th>\n",
              "      <th>Chlorides</th>\n",
              "      <th>FreeSulfurDioxide</th>\n",
              "      <th>TotalSulfurDioxide</th>\n",
              "      <th>Density</th>\n",
              "      <th>pH</th>\n",
              "      <th>Sulphates</th>\n",
              "      <th>Alcohol</th>\n",
              "      <th>LabelAppeal</th>\n",
              "      <th>AcidIndex</th>\n",
              "      <th>STARS</th>\n",
              "    </tr>\n",
              "  </thead>\n",
              "  <tbody>\n",
              "    <tr>\n",
              "      <th>12790</th>\n",
              "      <td>16120</td>\n",
              "      <td>0</td>\n",
              "      <td>5.0</td>\n",
              "      <td>0.79</td>\n",
              "      <td>2.01</td>\n",
              "      <td>5.000000</td>\n",
              "      <td>0.043000</td>\n",
              "      <td>17.0</td>\n",
              "      <td>101.00000</td>\n",
              "      <td>1.01077</td>\n",
              "      <td>3.39</td>\n",
              "      <td>0.570000</td>\n",
              "      <td>4.900000</td>\n",
              "      <td>1</td>\n",
              "      <td>5</td>\n",
              "      <td>1.0</td>\n",
              "    </tr>\n",
              "    <tr>\n",
              "      <th>12791</th>\n",
              "      <td>16123</td>\n",
              "      <td>5</td>\n",
              "      <td>8.9</td>\n",
              "      <td>0.47</td>\n",
              "      <td>0.29</td>\n",
              "      <td>84.900000</td>\n",
              "      <td>0.259000</td>\n",
              "      <td>54.0</td>\n",
              "      <td>0.41072</td>\n",
              "      <td>0.99518</td>\n",
              "      <td>4.46</td>\n",
              "      <td>1.200000</td>\n",
              "      <td>1.383084</td>\n",
              "      <td>-1</td>\n",
              "      <td>8</td>\n",
              "      <td>2.0</td>\n",
              "    </tr>\n",
              "    <tr>\n",
              "      <th>12792</th>\n",
              "      <td>16127</td>\n",
              "      <td>4</td>\n",
              "      <td>6.0</td>\n",
              "      <td>0.17</td>\n",
              "      <td>1.10</td>\n",
              "      <td>37.000000</td>\n",
              "      <td>0.078000</td>\n",
              "      <td>25.0</td>\n",
              "      <td>108.00000</td>\n",
              "      <td>0.99076</td>\n",
              "      <td>3.25</td>\n",
              "      <td>1.438822</td>\n",
              "      <td>12.300000</td>\n",
              "      <td>0</td>\n",
              "      <td>6</td>\n",
              "      <td>2.0</td>\n",
              "    </tr>\n",
              "    <tr>\n",
              "      <th>12793</th>\n",
              "      <td>16128</td>\n",
              "      <td>3</td>\n",
              "      <td>7.7</td>\n",
              "      <td>0.32</td>\n",
              "      <td>0.12</td>\n",
              "      <td>2.066331</td>\n",
              "      <td>0.029000</td>\n",
              "      <td>26.0</td>\n",
              "      <td>274.00000</td>\n",
              "      <td>0.99060</td>\n",
              "      <td>3.97</td>\n",
              "      <td>0.620000</td>\n",
              "      <td>11.000000</td>\n",
              "      <td>-1</td>\n",
              "      <td>6</td>\n",
              "      <td>2.0</td>\n",
              "    </tr>\n",
              "    <tr>\n",
              "      <th>12794</th>\n",
              "      <td>16129</td>\n",
              "      <td>4</td>\n",
              "      <td>5.2</td>\n",
              "      <td>0.04</td>\n",
              "      <td>0.81</td>\n",
              "      <td>52.700000</td>\n",
              "      <td>2.419479</td>\n",
              "      <td>106.0</td>\n",
              "      <td>242.00000</td>\n",
              "      <td>0.99454</td>\n",
              "      <td>3.94</td>\n",
              "      <td>0.120000</td>\n",
              "      <td>9.900000</td>\n",
              "      <td>0</td>\n",
              "      <td>7</td>\n",
              "      <td>2.0</td>\n",
              "    </tr>\n",
              "  </tbody>\n",
              "</table>\n",
              "</div>"
            ],
            "text/plain": [
              "       INDEX  TARGET  FixedAcidity  ...  LabelAppeal  AcidIndex  STARS\n",
              "12790  16120       0           5.0  ...            1          5    1.0\n",
              "12791  16123       5           8.9  ...           -1          8    2.0\n",
              "12792  16127       4           6.0  ...            0          6    2.0\n",
              "12793  16128       3           7.7  ...           -1          6    2.0\n",
              "12794  16129       4           5.2  ...            0          7    2.0\n",
              "\n",
              "[5 rows x 16 columns]"
            ]
          },
          "metadata": {
            "tags": []
          },
          "execution_count": 48
        }
      ]
    },
    {
      "cell_type": "code",
      "metadata": {
        "colab": {
          "base_uri": "https://localhost:8080/",
          "height": 314
        },
        "id": "lgEBj9OQBIwg",
        "outputId": "77c07917-9008-4dd4-8fc2-2553baca301d"
      },
      "source": [
        "#Show the description\n",
        "df3.describe()"
      ],
      "execution_count": 49,
      "outputs": [
        {
          "output_type": "execute_result",
          "data": {
            "text/html": [
              "<div>\n",
              "<style scoped>\n",
              "    .dataframe tbody tr th:only-of-type {\n",
              "        vertical-align: middle;\n",
              "    }\n",
              "\n",
              "    .dataframe tbody tr th {\n",
              "        vertical-align: top;\n",
              "    }\n",
              "\n",
              "    .dataframe thead th {\n",
              "        text-align: right;\n",
              "    }\n",
              "</style>\n",
              "<table border=\"1\" class=\"dataframe\">\n",
              "  <thead>\n",
              "    <tr style=\"text-align: right;\">\n",
              "      <th></th>\n",
              "      <th>INDEX</th>\n",
              "      <th>TARGET</th>\n",
              "      <th>FixedAcidity</th>\n",
              "      <th>VolatileAcidity</th>\n",
              "      <th>CitricAcid</th>\n",
              "      <th>ResidualSugar</th>\n",
              "      <th>Chlorides</th>\n",
              "      <th>FreeSulfurDioxide</th>\n",
              "      <th>TotalSulfurDioxide</th>\n",
              "      <th>Density</th>\n",
              "      <th>pH</th>\n",
              "      <th>Sulphates</th>\n",
              "      <th>Alcohol</th>\n",
              "      <th>LabelAppeal</th>\n",
              "      <th>AcidIndex</th>\n",
              "      <th>STARS</th>\n",
              "    </tr>\n",
              "  </thead>\n",
              "  <tbody>\n",
              "    <tr>\n",
              "      <th>count</th>\n",
              "      <td>12795.000000</td>\n",
              "      <td>12795.000000</td>\n",
              "      <td>12795.000000</td>\n",
              "      <td>12795.000000</td>\n",
              "      <td>12795.000000</td>\n",
              "      <td>12795.000000</td>\n",
              "      <td>12795.000000</td>\n",
              "      <td>12795.000000</td>\n",
              "      <td>12795.000000</td>\n",
              "      <td>12795.000000</td>\n",
              "      <td>12795.000000</td>\n",
              "      <td>12795.000000</td>\n",
              "      <td>12795.000000</td>\n",
              "      <td>12795.000000</td>\n",
              "      <td>12795.000000</td>\n",
              "      <td>12795.000000</td>\n",
              "    </tr>\n",
              "    <tr>\n",
              "      <th>mean</th>\n",
              "      <td>8069.980305</td>\n",
              "      <td>3.029074</td>\n",
              "      <td>8.063251</td>\n",
              "      <td>0.641086</td>\n",
              "      <td>0.686315</td>\n",
              "      <td>22.342275</td>\n",
              "      <td>0.332104</td>\n",
              "      <td>101.296350</td>\n",
              "      <td>193.450380</td>\n",
              "      <td>0.994203</td>\n",
              "      <td>3.136693</td>\n",
              "      <td>0.902667</td>\n",
              "      <td>10.057277</td>\n",
              "      <td>-0.009066</td>\n",
              "      <td>7.772724</td>\n",
              "      <td>1.768269</td>\n",
              "    </tr>\n",
              "    <tr>\n",
              "      <th>std</th>\n",
              "      <td>4656.905107</td>\n",
              "      <td>1.926368</td>\n",
              "      <td>4.996119</td>\n",
              "      <td>0.555614</td>\n",
              "      <td>0.606005</td>\n",
              "      <td>24.761261</td>\n",
              "      <td>0.529938</td>\n",
              "      <td>107.885394</td>\n",
              "      <td>165.187934</td>\n",
              "      <td>0.026538</td>\n",
              "      <td>0.778256</td>\n",
              "      <td>0.647458</td>\n",
              "      <td>4.067599</td>\n",
              "      <td>0.891089</td>\n",
              "      <td>1.323926</td>\n",
              "      <td>0.900468</td>\n",
              "    </tr>\n",
              "    <tr>\n",
              "      <th>min</th>\n",
              "      <td>1.000000</td>\n",
              "      <td>0.000000</td>\n",
              "      <td>0.000000</td>\n",
              "      <td>0.000000</td>\n",
              "      <td>0.000000</td>\n",
              "      <td>0.000000</td>\n",
              "      <td>0.000000</td>\n",
              "      <td>0.000000</td>\n",
              "      <td>0.000000</td>\n",
              "      <td>0.888090</td>\n",
              "      <td>0.480000</td>\n",
              "      <td>0.000000</td>\n",
              "      <td>0.000000</td>\n",
              "      <td>-2.000000</td>\n",
              "      <td>4.000000</td>\n",
              "      <td>1.000000</td>\n",
              "    </tr>\n",
              "    <tr>\n",
              "      <th>25%</th>\n",
              "      <td>4037.500000</td>\n",
              "      <td>2.000000</td>\n",
              "      <td>5.600000</td>\n",
              "      <td>0.250000</td>\n",
              "      <td>0.280000</td>\n",
              "      <td>2.600000</td>\n",
              "      <td>0.046000</td>\n",
              "      <td>25.000000</td>\n",
              "      <td>89.000000</td>\n",
              "      <td>0.987720</td>\n",
              "      <td>2.890000</td>\n",
              "      <td>0.450000</td>\n",
              "      <td>8.700000</td>\n",
              "      <td>-1.000000</td>\n",
              "      <td>7.000000</td>\n",
              "      <td>1.000000</td>\n",
              "    </tr>\n",
              "    <tr>\n",
              "      <th>50%</th>\n",
              "      <td>8110.000000</td>\n",
              "      <td>3.000000</td>\n",
              "      <td>7.000000</td>\n",
              "      <td>0.410000</td>\n",
              "      <td>0.440000</td>\n",
              "      <td>11.750000</td>\n",
              "      <td>0.120000</td>\n",
              "      <td>51.000000</td>\n",
              "      <td>147.500000</td>\n",
              "      <td>0.994490</td>\n",
              "      <td>3.190000</td>\n",
              "      <td>0.640000</td>\n",
              "      <td>10.200000</td>\n",
              "      <td>0.000000</td>\n",
              "      <td>8.000000</td>\n",
              "      <td>1.000000</td>\n",
              "    </tr>\n",
              "    <tr>\n",
              "      <th>75%</th>\n",
              "      <td>12106.500000</td>\n",
              "      <td>4.000000</td>\n",
              "      <td>9.800000</td>\n",
              "      <td>0.910000</td>\n",
              "      <td>0.970000</td>\n",
              "      <td>37.200000</td>\n",
              "      <td>0.412000</td>\n",
              "      <td>164.000000</td>\n",
              "      <td>251.000000</td>\n",
              "      <td>1.000515</td>\n",
              "      <td>3.450000</td>\n",
              "      <td>1.420000</td>\n",
              "      <td>12.200000</td>\n",
              "      <td>1.000000</td>\n",
              "      <td>8.000000</td>\n",
              "      <td>2.000000</td>\n",
              "    </tr>\n",
              "    <tr>\n",
              "      <th>max</th>\n",
              "      <td>16129.000000</td>\n",
              "      <td>8.000000</td>\n",
              "      <td>34.400000</td>\n",
              "      <td>3.680000</td>\n",
              "      <td>3.860000</td>\n",
              "      <td>141.150000</td>\n",
              "      <td>2.419479</td>\n",
              "      <td>623.000000</td>\n",
              "      <td>1057.000000</td>\n",
              "      <td>1.099240</td>\n",
              "      <td>6.130000</td>\n",
              "      <td>4.240000</td>\n",
              "      <td>26.500000</td>\n",
              "      <td>2.000000</td>\n",
              "      <td>17.000000</td>\n",
              "      <td>4.000000</td>\n",
              "    </tr>\n",
              "  </tbody>\n",
              "</table>\n",
              "</div>"
            ],
            "text/plain": [
              "              INDEX        TARGET  ...     AcidIndex         STARS\n",
              "count  12795.000000  12795.000000  ...  12795.000000  12795.000000\n",
              "mean    8069.980305      3.029074  ...      7.772724      1.768269\n",
              "std     4656.905107      1.926368  ...      1.323926      0.900468\n",
              "min        1.000000      0.000000  ...      4.000000      1.000000\n",
              "25%     4037.500000      2.000000  ...      7.000000      1.000000\n",
              "50%     8110.000000      3.000000  ...      8.000000      1.000000\n",
              "75%    12106.500000      4.000000  ...      8.000000      2.000000\n",
              "max    16129.000000      8.000000  ...     17.000000      4.000000\n",
              "\n",
              "[8 rows x 16 columns]"
            ]
          },
          "metadata": {
            "tags": []
          },
          "execution_count": 49
        }
      ]
    },
    {
      "cell_type": "code",
      "metadata": {
        "colab": {
          "base_uri": "https://localhost:8080/"
        },
        "id": "34FAgrvrBIwh",
        "outputId": "7de4f5d0-2c18-45d9-d824-371f01d5b6a6"
      },
      "source": [
        "#Show the info\n",
        "df3.info()"
      ],
      "execution_count": 50,
      "outputs": [
        {
          "output_type": "stream",
          "text": [
            "<class 'pandas.core.frame.DataFrame'>\n",
            "RangeIndex: 12795 entries, 0 to 12794\n",
            "Data columns (total 16 columns):\n",
            " #   Column              Non-Null Count  Dtype  \n",
            "---  ------              --------------  -----  \n",
            " 0   INDEX               12795 non-null  int64  \n",
            " 1   TARGET              12795 non-null  int64  \n",
            " 2   FixedAcidity        12795 non-null  float64\n",
            " 3   VolatileAcidity     12795 non-null  float64\n",
            " 4   CitricAcid          12795 non-null  float64\n",
            " 5   ResidualSugar       12795 non-null  float64\n",
            " 6   Chlorides           12795 non-null  float64\n",
            " 7   FreeSulfurDioxide   12795 non-null  float64\n",
            " 8   TotalSulfurDioxide  12795 non-null  float64\n",
            " 9   Density             12795 non-null  float64\n",
            " 10  pH                  12795 non-null  float64\n",
            " 11  Sulphates           12795 non-null  float64\n",
            " 12  Alcohol             12795 non-null  float64\n",
            " 13  LabelAppeal         12795 non-null  int64  \n",
            " 14  AcidIndex           12795 non-null  int64  \n",
            " 15  STARS               12795 non-null  float64\n",
            "dtypes: float64(12), int64(4)\n",
            "memory usage: 1.6 MB\n"
          ],
          "name": "stdout"
        }
      ]
    },
    {
      "cell_type": "code",
      "metadata": {
        "colab": {
          "base_uri": "https://localhost:8080/"
        },
        "id": "clApp4kwBIwh",
        "outputId": "c9dc2f77-64ad-4390-ac58-443f37f33cf5"
      },
      "source": [
        "#Show the shape\n",
        "df3.shape"
      ],
      "execution_count": 51,
      "outputs": [
        {
          "output_type": "execute_result",
          "data": {
            "text/plain": [
              "(12795, 16)"
            ]
          },
          "metadata": {
            "tags": []
          },
          "execution_count": 51
        }
      ]
    },
    {
      "cell_type": "code",
      "metadata": {
        "colab": {
          "base_uri": "https://localhost:8080/"
        },
        "id": "ppzba7jEBIwh",
        "outputId": "e9f70007-b9a0-40dc-a8a3-8f509b230512"
      },
      "source": [
        "#Show the columns\n",
        "df3.columns"
      ],
      "execution_count": 52,
      "outputs": [
        {
          "output_type": "execute_result",
          "data": {
            "text/plain": [
              "Index(['INDEX', 'TARGET', 'FixedAcidity', 'VolatileAcidity', 'CitricAcid',\n",
              "       'ResidualSugar', 'Chlorides', 'FreeSulfurDioxide', 'TotalSulfurDioxide',\n",
              "       'Density', 'pH', 'Sulphates', 'Alcohol', 'LabelAppeal', 'AcidIndex',\n",
              "       'STARS'],\n",
              "      dtype='object')"
            ]
          },
          "metadata": {
            "tags": []
          },
          "execution_count": 52
        }
      ]
    },
    {
      "cell_type": "code",
      "metadata": {
        "colab": {
          "base_uri": "https://localhost:8080/"
        },
        "id": "MW_a9yNjBIwi",
        "outputId": "40129610-e9a1-495a-a8dd-f4de0ecf9d05"
      },
      "source": [
        "#Show the data type\n",
        "df3.dtypes"
      ],
      "execution_count": 53,
      "outputs": [
        {
          "output_type": "execute_result",
          "data": {
            "text/plain": [
              "INDEX                   int64\n",
              "TARGET                  int64\n",
              "FixedAcidity          float64\n",
              "VolatileAcidity       float64\n",
              "CitricAcid            float64\n",
              "ResidualSugar         float64\n",
              "Chlorides             float64\n",
              "FreeSulfurDioxide     float64\n",
              "TotalSulfurDioxide    float64\n",
              "Density               float64\n",
              "pH                    float64\n",
              "Sulphates             float64\n",
              "Alcohol               float64\n",
              "LabelAppeal             int64\n",
              "AcidIndex               int64\n",
              "STARS                 float64\n",
              "dtype: object"
            ]
          },
          "metadata": {
            "tags": []
          },
          "execution_count": 53
        }
      ]
    },
    {
      "cell_type": "code",
      "metadata": {
        "colab": {
          "base_uri": "https://localhost:8080/",
          "height": 623
        },
        "id": "ySmjdiotBIwj",
        "outputId": "718c3116-bda5-478e-b321-13f6c485b7ed"
      },
      "source": [
        "#Show Temperature distribution\n",
        "import matplotlib.pyplot as plt\n",
        "import seaborn as sns\n",
        "\n",
        "df3.boxplot(column=['TARGET'], return_type='axes');\n",
        "plt.title(\"TARGET\")\n",
        "\n"
      ],
      "execution_count": 54,
      "outputs": [
        {
          "output_type": "execute_result",
          "data": {
            "text/plain": [
              "Text(0.5, 1.0, 'TARGET')"
            ]
          },
          "metadata": {
            "tags": []
          },
          "execution_count": 54
        },
        {
          "output_type": "display_data",
          "data": {
            "image/png": "[encoded data removed]",
            "text/plain": [
              "<Figure size 720x720 with 1 Axes>"
            ]
          },
          "metadata": {
            "tags": [],
            "needs_background": "light"
          }
        }
      ]
    },
    {
      "cell_type": "code",
      "metadata": {
        "colab": {
          "base_uri": "https://localhost:8080/",
          "height": 623
        },
        "id": "qzbmsFyxBIwk",
        "outputId": "931af4e1-b6e4-4f4f-e536-728307bb8fd3"
      },
      "source": [
        "#Show Target distribution\n",
        "df3.hist(column=['TARGET']);\n",
        "plt.ylabel(\"Number of Records\")\n",
        "plt.title(\"TARGET\")"
      ],
      "execution_count": 55,
      "outputs": [
        {
          "output_type": "execute_result",
          "data": {
            "text/plain": [
              "Text(0.5, 1.0, 'TARGET')"
            ]
          },
          "metadata": {
            "tags": []
          },
          "execution_count": 55
        },
        {
          "output_type": "display_data",
          "data": {
            "image/png": "[encoded data removed]",
            "text/plain": [
              "<Figure size 720x720 with 1 Axes>"
            ]
          },
          "metadata": {
            "tags": [],
            "needs_background": "light"
          }
        }
      ]
    },
    {
      "cell_type": "code",
      "metadata": {
        "colab": {
          "base_uri": "https://localhost:8080/",
          "height": 623
        },
        "id": "o9ed8AWHBIwk",
        "outputId": "de108663-ef26-461c-f12c-51579d3c318c"
      },
      "source": [
        "#Show FixedAcidity distribution\n",
        "df3.boxplot(column=['FixedAcidity'], return_type='axes');\n",
        "plt.title(\"FixedAcidity\")\n",
        "\n"
      ],
      "execution_count": 56,
      "outputs": [
        {
          "output_type": "execute_result",
          "data": {
            "text/plain": [
              "Text(0.5, 1.0, 'FixedAcidity')"
            ]
          },
          "metadata": {
            "tags": []
          },
          "execution_count": 56
        },
        {
          "output_type": "display_data",
          "data": {
            "image/png": "[encoded data removed]",
            "text/plain": [
              "<Figure size 720x720 with 1 Axes>"
            ]
          },
          "metadata": {
            "tags": [],
            "needs_background": "light"
          }
        }
      ]
    },
    {
      "cell_type": "code",
      "metadata": {
        "colab": {
          "base_uri": "https://localhost:8080/",
          "height": 623
        },
        "id": "9AHpvefvBIwk",
        "outputId": "12e379ae-870c-4004-ce1d-4ae38358ae0f"
      },
      "source": [
        "#Show FixedAcidity distribution\n",
        "df3.hist(column=['FixedAcidity']);\n",
        "plt.ylabel(\"Number of Records\")\n",
        "plt.title(\"FixedAcidity\")"
      ],
      "execution_count": 57,
      "outputs": [
        {
          "output_type": "execute_result",
          "data": {
            "text/plain": [
              "Text(0.5, 1.0, 'FixedAcidity')"
            ]
          },
          "metadata": {
            "tags": []
          },
          "execution_count": 57
        },
        {
          "output_type": "display_data",
          "data": {
            "image/png": "[encoded data removed]",
            "text/plain": [
              "<Figure size 720x720 with 1 Axes>"
            ]
          },
          "metadata": {
            "tags": [],
            "needs_background": "light"
          }
        }
      ]
    },
    {
      "cell_type": "code",
      "metadata": {
        "colab": {
          "base_uri": "https://localhost:8080/",
          "height": 623
        },
        "id": "VKK9SBqMBIwl",
        "outputId": "551fcc93-ad1a-49d1-a6ca-1de5c5ad1cf0"
      },
      "source": [
        "#Show VolatileAcidity distribution\n",
        "df3.boxplot(column=['VolatileAcidity'], return_type='axes');\n",
        "plt.title(\"VolatileAcidity\")\n",
        "\n"
      ],
      "execution_count": 58,
      "outputs": [
        {
          "output_type": "execute_result",
          "data": {
            "text/plain": [
              "Text(0.5, 1.0, 'VolatileAcidity')"
            ]
          },
          "metadata": {
            "tags": []
          },
          "execution_count": 58
        },
        {
          "output_type": "display_data",
          "data": {
            "image/png": "[encoded data removed]",
            "text/plain": [
              "<Figure size 720x720 with 1 Axes>"
            ]
          },
          "metadata": {
            "tags": [],
            "needs_background": "light"
          }
        }
      ]
    },
    {
      "cell_type": "code",
      "metadata": {
        "colab": {
          "base_uri": "https://localhost:8080/",
          "height": 623
        },
        "id": "AVtniEguBIwl",
        "outputId": "83bb1419-d71f-452a-987a-51815db5e5f2"
      },
      "source": [
        "#Show VolatileAcidity distribution\n",
        "df3.hist(column=['VolatileAcidity']);\n",
        "plt.ylabel(\"Number of Records\")\n",
        "plt.title(\"VolatileAcidity\")"
      ],
      "execution_count": 59,
      "outputs": [
        {
          "output_type": "execute_result",
          "data": {
            "text/plain": [
              "Text(0.5, 1.0, 'VolatileAcidity')"
            ]
          },
          "metadata": {
            "tags": []
          },
          "execution_count": 59
        },
        {
          "output_type": "display_data",
          "data": {
            "image/png": "[encoded data removed]",
            "text/plain": [
              "<Figure size 720x720 with 1 Axes>"
            ]
          },
          "metadata": {
            "tags": [],
            "needs_background": "light"
          }
        }
      ]
    },
    {
      "cell_type": "code",
      "metadata": {
        "colab": {
          "base_uri": "https://localhost:8080/",
          "height": 623
        },
        "id": "pfBQLaHHBIwl",
        "outputId": "d18cc195-3e7f-490c-e687-509d0fc9a7cb"
      },
      "source": [
        "#Show CitricAcid distribution\n",
        "df3.boxplot(column=['CitricAcid'], return_type='axes');\n",
        "plt.title(\"CitricAcid\")\n",
        "\n"
      ],
      "execution_count": 60,
      "outputs": [
        {
          "output_type": "execute_result",
          "data": {
            "text/plain": [
              "Text(0.5, 1.0, 'CitricAcid')"
            ]
          },
          "metadata": {
            "tags": []
          },
          "execution_count": 60
        },
        {
          "output_type": "display_data",
          "data": {
            "image/png": "[encoded data removed]",
            "text/plain": [
              "<Figure size 720x720 with 1 Axes>"
            ]
          },
          "metadata": {
            "tags": [],
            "needs_background": "light"
          }
        }
      ]
    },
    {
      "cell_type": "code",
      "metadata": {
        "colab": {
          "base_uri": "https://localhost:8080/",
          "height": 623
        },
        "id": "Zfbc9m22BIwl",
        "outputId": "02a8eadd-0118-45f9-b873-fb3da6c4b587"
      },
      "source": [
        "#Show CitricAcid distribution\n",
        "df3.hist(column=['CitricAcid']);\n",
        "plt.ylabel(\"Number of Records\")\n",
        "plt.title(\"CitricAcid\")"
      ],
      "execution_count": 61,
      "outputs": [
        {
          "output_type": "execute_result",
          "data": {
            "text/plain": [
              "Text(0.5, 1.0, 'CitricAcid')"
            ]
          },
          "metadata": {
            "tags": []
          },
          "execution_count": 61
        },
        {
          "output_type": "display_data",
          "data": {
            "image/png": "[encoded data removed]",
            "text/plain": [
              "<Figure size 720x720 with 1 Axes>"
            ]
          },
          "metadata": {
            "tags": [],
            "needs_background": "light"
          }
        }
      ]
    },
    {
      "cell_type": "code",
      "metadata": {
        "colab": {
          "base_uri": "https://localhost:8080/",
          "height": 623
        },
        "id": "WZJFMJauBIwn",
        "outputId": "f0f3345d-1c4d-4fa8-d7ab-f26a5ae6575c"
      },
      "source": [
        "#Show ResidualSugar distribution\n",
        "df3.boxplot(column=['ResidualSugar'], return_type='axes');\n",
        "plt.title(\"ResidualSugar\")\n",
        "\n"
      ],
      "execution_count": 62,
      "outputs": [
        {
          "output_type": "execute_result",
          "data": {
            "text/plain": [
              "Text(0.5, 1.0, 'ResidualSugar')"
            ]
          },
          "metadata": {
            "tags": []
          },
          "execution_count": 62
        },
        {
          "output_type": "display_data",
          "data": {
            "image/png": "[encoded data removed]",
            "text/plain": [
              "<Figure size 720x720 with 1 Axes>"
            ]
          },
          "metadata": {
            "tags": [],
            "needs_background": "light"
          }
        }
      ]
    },
    {
      "cell_type": "code",
      "metadata": {
        "colab": {
          "base_uri": "https://localhost:8080/",
          "height": 623
        },
        "id": "BBsM9z-EBIwn",
        "outputId": "baf50dbc-6bf9-4b67-93e3-a69542711520"
      },
      "source": [
        "#Show ResidualSugar distribution\n",
        "df3.hist(column=['ResidualSugar']);\n",
        "plt.ylabel(\"Number of Records\")\n",
        "plt.title(\"ResidualSugar\")"
      ],
      "execution_count": 63,
      "outputs": [
        {
          "output_type": "execute_result",
          "data": {
            "text/plain": [
              "Text(0.5, 1.0, 'ResidualSugar')"
            ]
          },
          "metadata": {
            "tags": []
          },
          "execution_count": 63
        },
        {
          "output_type": "display_data",
          "data": {
            "image/png": "[encoded data removed]",
            "text/plain": [
              "<Figure size 720x720 with 1 Axes>"
            ]
          },
          "metadata": {
            "tags": [],
            "needs_background": "light"
          }
        }
      ]
    },
    {
      "cell_type": "code",
      "metadata": {
        "colab": {
          "base_uri": "https://localhost:8080/",
          "height": 623
        },
        "id": "Xp3R0ARoBIwo",
        "outputId": "e3d13ae5-bc65-4a6a-e403-61018cf004e8"
      },
      "source": [
        "#Show Chlorides distribution\n",
        "df3.boxplot(column=['Chlorides'], return_type='axes');\n",
        "plt.title(\"Chlorides\")\n",
        "\n"
      ],
      "execution_count": 64,
      "outputs": [
        {
          "output_type": "execute_result",
          "data": {
            "text/plain": [
              "Text(0.5, 1.0, 'Chlorides')"
            ]
          },
          "metadata": {
            "tags": []
          },
          "execution_count": 64
        },
        {
          "output_type": "display_data",
          "data": {
            "image/png": "[encoded data removed]",
            "text/plain": [
              "<Figure size 720x720 with 1 Axes>"
            ]
          },
          "metadata": {
            "tags": [],
            "needs_background": "light"
          }
        }
      ]
    },
    {
      "cell_type": "code",
      "metadata": {
        "colab": {
          "base_uri": "https://localhost:8080/",
          "height": 623
        },
        "id": "RbSzpvzYBIwp",
        "outputId": "88862dc3-8d8a-4a80-bc00-9060c1d37577"
      },
      "source": [
        "#Show Chlorides distribution\n",
        "df3.hist(column=['Chlorides']);\n",
        "plt.ylabel(\"Number of Records\")\n",
        "plt.title(\"Chlorides\")"
      ],
      "execution_count": 65,
      "outputs": [
        {
          "output_type": "execute_result",
          "data": {
            "text/plain": [
              "Text(0.5, 1.0, 'Chlorides')"
            ]
          },
          "metadata": {
            "tags": []
          },
          "execution_count": 65
        },
        {
          "output_type": "display_data",
          "data": {
            "image/png": "[encoded data removed]",
            "text/plain": [
              "<Figure size 720x720 with 1 Axes>"
            ]
          },
          "metadata": {
            "tags": [],
            "needs_background": "light"
          }
        }
      ]
    },
    {
      "cell_type": "code",
      "metadata": {
        "colab": {
          "base_uri": "https://localhost:8080/",
          "height": 623
        },
        "id": "uPKmxwe1BIwq",
        "outputId": "8517e53a-a231-455c-e4f9-e88bc462f53e"
      },
      "source": [
        "#Show FreeSulfurDioxide distribution\n",
        "df3.boxplot(column=['FreeSulfurDioxide'], return_type='axes');\n",
        "plt.title(\"FreeSulfurDioxide\")\n",
        "\n"
      ],
      "execution_count": 66,
      "outputs": [
        {
          "output_type": "execute_result",
          "data": {
            "text/plain": [
              "Text(0.5, 1.0, 'FreeSulfurDioxide')"
            ]
          },
          "metadata": {
            "tags": []
          },
          "execution_count": 66
        },
        {
          "output_type": "display_data",
          "data": {
            "image/png": "[encoded data removed]",
            "text/plain": [
              "<Figure size 720x720 with 1 Axes>"
            ]
          },
          "metadata": {
            "tags": [],
            "needs_background": "light"
          }
        }
      ]
    },
    {
      "cell_type": "code",
      "metadata": {
        "colab": {
          "base_uri": "https://localhost:8080/",
          "height": 623
        },
        "id": "maXSbEIZBIwq",
        "outputId": "ccc478f6-9254-4b97-d7dd-847dbeac5320"
      },
      "source": [
        "#Show FreeSulfurDioxide distribution\n",
        "df3.hist(column=['FreeSulfurDioxide']);\n",
        "plt.ylabel(\"Number of Records\")\n",
        "plt.title(\"FreeSulfurDioxide\")"
      ],
      "execution_count": 67,
      "outputs": [
        {
          "output_type": "execute_result",
          "data": {
            "text/plain": [
              "Text(0.5, 1.0, 'FreeSulfurDioxide')"
            ]
          },
          "metadata": {
            "tags": []
          },
          "execution_count": 67
        },
        {
          "output_type": "display_data",
          "data": {
            "image/png": "[encoded data removed]",
            "text/plain": [
              "<Figure size 720x720 with 1 Axes>"
            ]
          },
          "metadata": {
            "tags": [],
            "needs_background": "light"
          }
        }
      ]
    },
    {
      "cell_type": "code",
      "metadata": {
        "colab": {
          "base_uri": "https://localhost:8080/",
          "height": 623
        },
        "id": "LVYFknQPBIwq",
        "outputId": "77f93b36-4338-487d-dbd9-6dc5c5cb4c04"
      },
      "source": [
        "#Show TotalSulfurDioxide distribution\n",
        "df3.boxplot(column=['TotalSulfurDioxide'], return_type='axes');\n",
        "plt.title(\"TotalSulfurDioxide\")\n",
        "\n"
      ],
      "execution_count": 68,
      "outputs": [
        {
          "output_type": "execute_result",
          "data": {
            "text/plain": [
              "Text(0.5, 1.0, 'TotalSulfurDioxide')"
            ]
          },
          "metadata": {
            "tags": []
          },
          "execution_count": 68
        },
        {
          "output_type": "display_data",
          "data": {
            "image/png": "[encoded data removed]",
            "text/plain": [
              "<Figure size 720x720 with 1 Axes>"
            ]
          },
          "metadata": {
            "tags": [],
            "needs_background": "light"
          }
        }
      ]
    },
    {
      "cell_type": "code",
      "metadata": {
        "colab": {
          "base_uri": "https://localhost:8080/",
          "height": 623
        },
        "id": "3wi7EBmjBIwr",
        "outputId": "75a6ea25-da37-45db-8d30-872713713375"
      },
      "source": [
        "#Show TotalSulfurDioxide distribution\n",
        "df3.hist(column=['TotalSulfurDioxide']);\n",
        "plt.ylabel(\"Number of Records\")\n",
        "plt.title(\"TotalSulfurDioxide\")"
      ],
      "execution_count": 69,
      "outputs": [
        {
          "output_type": "execute_result",
          "data": {
            "text/plain": [
              "Text(0.5, 1.0, 'TotalSulfurDioxide')"
            ]
          },
          "metadata": {
            "tags": []
          },
          "execution_count": 69
        },
        {
          "output_type": "display_data",
          "data": {
            "image/png": "[encoded data removed]",
            "text/plain": [
              "<Figure size 720x720 with 1 Axes>"
            ]
          },
          "metadata": {
            "tags": [],
            "needs_background": "light"
          }
        }
      ]
    },
    {
      "cell_type": "code",
      "metadata": {
        "colab": {
          "base_uri": "https://localhost:8080/",
          "height": 623
        },
        "id": "MpCqgob-BIwr",
        "outputId": "f9933dd1-e204-4eec-f147-2a86d3635883"
      },
      "source": [
        "#Show Density distribution\n",
        "df3.boxplot(column=['Density'], return_type='axes');\n",
        "plt.title(\"Density\")\n",
        "\n"
      ],
      "execution_count": 70,
      "outputs": [
        {
          "output_type": "execute_result",
          "data": {
            "text/plain": [
              "Text(0.5, 1.0, 'Density')"
            ]
          },
          "metadata": {
            "tags": []
          },
          "execution_count": 70
        },
        {
          "output_type": "display_data",
          "data": {
            "image/png": "[encoded data removed]",
            "text/plain": [
              "<Figure size 720x720 with 1 Axes>"
            ]
          },
          "metadata": {
            "tags": [],
            "needs_background": "light"
          }
        }
      ]
    },
    {
      "cell_type": "code",
      "metadata": {
        "colab": {
          "base_uri": "https://localhost:8080/",
          "height": 623
        },
        "id": "zf0llAyoBIwr",
        "outputId": "5fef9b88-f3b4-40d8-9ed3-7527708847cc"
      },
      "source": [
        "#Show Density distribution\n",
        "df3.hist(column=['Density']);\n",
        "plt.ylabel(\"Number of Records\")\n",
        "plt.title(\"Density\")"
      ],
      "execution_count": 71,
      "outputs": [
        {
          "output_type": "execute_result",
          "data": {
            "text/plain": [
              "Text(0.5, 1.0, 'Density')"
            ]
          },
          "metadata": {
            "tags": []
          },
          "execution_count": 71
        },
        {
          "output_type": "display_data",
          "data": {
            "image/png": "[encoded data removed]",
            "text/plain": [
              "<Figure size 720x720 with 1 Axes>"
            ]
          },
          "metadata": {
            "tags": [],
            "needs_background": "light"
          }
        }
      ]
    },
    {
      "cell_type": "code",
      "metadata": {
        "colab": {
          "base_uri": "https://localhost:8080/",
          "height": 623
        },
        "id": "6VHIwGCnBIws",
        "outputId": "1ba1e3f3-11fb-4de8-98cf-8fa2a8e28e98"
      },
      "source": [
        "#Show PH distribution\n",
        "df3.boxplot(column=['pH'], return_type='axes');\n",
        "plt.title(\"pH\")\n",
        "\n"
      ],
      "execution_count": 72,
      "outputs": [
        {
          "output_type": "execute_result",
          "data": {
            "text/plain": [
              "Text(0.5, 1.0, 'pH')"
            ]
          },
          "metadata": {
            "tags": []
          },
          "execution_count": 72
        },
        {
          "output_type": "display_data",
          "data": {
            "image/png": "[encoded data removed]",
            "text/plain": [
              "<Figure size 720x720 with 1 Axes>"
            ]
          },
          "metadata": {
            "tags": [],
            "needs_background": "light"
          }
        }
      ]
    },
    {
      "cell_type": "code",
      "metadata": {
        "colab": {
          "base_uri": "https://localhost:8080/",
          "height": 623
        },
        "id": "IPl50PJ6BIws",
        "outputId": "14ad88ae-021f-4b2f-d0b2-d1a03ca4b11f"
      },
      "source": [
        "#Show PH distribution\n",
        "df3.hist(column=['pH']);\n",
        "plt.ylabel(\"Number of Records\")\n",
        "plt.title(\"pH\")"
      ],
      "execution_count": 73,
      "outputs": [
        {
          "output_type": "execute_result",
          "data": {
            "text/plain": [
              "Text(0.5, 1.0, 'pH')"
            ]
          },
          "metadata": {
            "tags": []
          },
          "execution_count": 73
        },
        {
          "output_type": "display_data",
          "data": {
            "image/png": "[encoded data removed]",
            "text/plain": [
              "<Figure size 720x720 with 1 Axes>"
            ]
          },
          "metadata": {
            "tags": [],
            "needs_background": "light"
          }
        }
      ]
    },
    {
      "cell_type": "code",
      "metadata": {
        "colab": {
          "base_uri": "https://localhost:8080/",
          "height": 623
        },
        "id": "rIekeqrMBIws",
        "outputId": "8f3528bf-34a8-4a14-8fe4-09c7593fdb31"
      },
      "source": [
        "#Show Sulphates distribution\n",
        "df3.boxplot(column=['Sulphates'], return_type='axes');\n",
        "plt.title(\"Sulphates\")\n",
        "\n"
      ],
      "execution_count": 74,
      "outputs": [
        {
          "output_type": "execute_result",
          "data": {
            "text/plain": [
              "Text(0.5, 1.0, 'Sulphates')"
            ]
          },
          "metadata": {
            "tags": []
          },
          "execution_count": 74
        },
        {
          "output_type": "display_data",
          "data": {
            "image/png": "[encoded data removed]",
            "text/plain": [
              "<Figure size 720x720 with 1 Axes>"
            ]
          },
          "metadata": {
            "tags": [],
            "needs_background": "light"
          }
        }
      ]
    },
    {
      "cell_type": "code",
      "metadata": {
        "colab": {
          "base_uri": "https://localhost:8080/",
          "height": 623
        },
        "id": "YT0T4ypfBIws",
        "outputId": "73a0902b-01b9-4e7f-bc4a-1e8a2425f75d"
      },
      "source": [
        "#Show Sulphates distribution\n",
        "df3.hist(column=['Sulphates']);\n",
        "plt.ylabel(\"Number of Records\")\n",
        "plt.title(\"Sulphates\")"
      ],
      "execution_count": 75,
      "outputs": [
        {
          "output_type": "execute_result",
          "data": {
            "text/plain": [
              "Text(0.5, 1.0, 'Sulphates')"
            ]
          },
          "metadata": {
            "tags": []
          },
          "execution_count": 75
        },
        {
          "output_type": "display_data",
          "data": {
            "image/png": "[encoded data removed]",
            "text/plain": [
              "<Figure size 720x720 with 1 Axes>"
            ]
          },
          "metadata": {
            "tags": [],
            "needs_background": "light"
          }
        }
      ]
    },
    {
      "cell_type": "code",
      "metadata": {
        "colab": {
          "base_uri": "https://localhost:8080/",
          "height": 623
        },
        "id": "eXm0YhDHBIwt",
        "outputId": "bdf1e2dc-3f84-4833-b68d-05e571b3b8a2"
      },
      "source": [
        "#Show Alcohol distribution\n",
        "df3.boxplot(column=['Alcohol'], return_type='axes');\n",
        "plt.title(\"Alcohol\")\n",
        "\n"
      ],
      "execution_count": 76,
      "outputs": [
        {
          "output_type": "execute_result",
          "data": {
            "text/plain": [
              "Text(0.5, 1.0, 'Alcohol')"
            ]
          },
          "metadata": {
            "tags": []
          },
          "execution_count": 76
        },
        {
          "output_type": "display_data",
          "data": {
            "image/png": "[encoded data removed]",
            "text/plain": [
              "<Figure size 720x720 with 1 Axes>"
            ]
          },
          "metadata": {
            "tags": [],
            "needs_background": "light"
          }
        }
      ]
    },
    {
      "cell_type": "code",
      "metadata": {
        "colab": {
          "base_uri": "https://localhost:8080/",
          "height": 623
        },
        "id": "ITqXfisSBIwt",
        "outputId": "ec3ce02f-4ffc-491f-dc01-e84dd53090f0"
      },
      "source": [
        "#Show Alcohol distribution\n",
        "df3.hist(column=['Alcohol']);\n",
        "plt.ylabel(\"Number of Records\")\n",
        "plt.title(\"Alcohol\")"
      ],
      "execution_count": 77,
      "outputs": [
        {
          "output_type": "execute_result",
          "data": {
            "text/plain": [
              "Text(0.5, 1.0, 'Alcohol')"
            ]
          },
          "metadata": {
            "tags": []
          },
          "execution_count": 77
        },
        {
          "output_type": "display_data",
          "data": {
            "image/png": "[encoded data removed]",
            "text/plain": [
              "<Figure size 720x720 with 1 Axes>"
            ]
          },
          "metadata": {
            "tags": [],
            "needs_background": "light"
          }
        }
      ]
    },
    {
      "cell_type": "code",
      "metadata": {
        "colab": {
          "base_uri": "https://localhost:8080/",
          "height": 623
        },
        "id": "Tcw6IJtDBIwt",
        "outputId": "61984154-ff30-45d5-e8a0-ae68e69abefb"
      },
      "source": [
        "#Show LabelAppeal distribution\n",
        "df3.boxplot(column=['LabelAppeal'], return_type='axes');\n",
        "plt.title(\"LabelAppeal\")\n",
        "\n"
      ],
      "execution_count": 78,
      "outputs": [
        {
          "output_type": "execute_result",
          "data": {
            "text/plain": [
              "Text(0.5, 1.0, 'LabelAppeal')"
            ]
          },
          "metadata": {
            "tags": []
          },
          "execution_count": 78
        },
        {
          "output_type": "display_data",
          "data": {
            "image/png": "[encoded data removed]",
            "text/plain": [
              "<Figure size 720x720 with 1 Axes>"
            ]
          },
          "metadata": {
            "tags": [],
            "needs_background": "light"
          }
        }
      ]
    },
    {
      "cell_type": "code",
      "metadata": {
        "colab": {
          "base_uri": "https://localhost:8080/",
          "height": 623
        },
        "id": "QihUXfXEBIwt",
        "outputId": "3f2ca47c-5db2-4584-e21c-21303cca9013"
      },
      "source": [
        "#Show LabelAppeal distribution\n",
        "df3.hist(column=['LabelAppeal']);\n",
        "plt.ylabel(\"Number of Records\")\n",
        "plt.title(\"LabelAppeal\")"
      ],
      "execution_count": 79,
      "outputs": [
        {
          "output_type": "execute_result",
          "data": {
            "text/plain": [
              "Text(0.5, 1.0, 'LabelAppeal')"
            ]
          },
          "metadata": {
            "tags": []
          },
          "execution_count": 79
        },
        {
          "output_type": "display_data",
          "data": {
            "image/png": "[encoded data removed]",
            "text/plain": [
              "<Figure size 720x720 with 1 Axes>"
            ]
          },
          "metadata": {
            "tags": [],
            "needs_background": "light"
          }
        }
      ]
    },
    {
      "cell_type": "code",
      "metadata": {
        "colab": {
          "base_uri": "https://localhost:8080/",
          "height": 623
        },
        "id": "1LXHVo6BBIwu",
        "outputId": "7c15e8d2-4853-4180-ac96-338b8f4bf296"
      },
      "source": [
        "#Show AcidIndex distribution\n",
        "df3.boxplot(column=['AcidIndex'], return_type='axes');\n",
        "plt.title(\"AcidIndex\")\n",
        "\n"
      ],
      "execution_count": 80,
      "outputs": [
        {
          "output_type": "execute_result",
          "data": {
            "text/plain": [
              "Text(0.5, 1.0, 'AcidIndex')"
            ]
          },
          "metadata": {
            "tags": []
          },
          "execution_count": 80
        },
        {
          "output_type": "display_data",
          "data": {
            "image/png": "[encoded data removed]",
            "text/plain": [
              "<Figure size 720x720 with 1 Axes>"
            ]
          },
          "metadata": {
            "tags": [],
            "needs_background": "light"
          }
        }
      ]
    },
    {
      "cell_type": "code",
      "metadata": {
        "colab": {
          "base_uri": "https://localhost:8080/",
          "height": 623
        },
        "id": "nWggZ2IvBIwu",
        "outputId": "001c1ea6-351d-48ad-ebc0-ab5ea9e27926"
      },
      "source": [
        "#Show AcidIndex distribution\n",
        "df3.hist(column=['AcidIndex']);\n",
        "plt.ylabel(\"Number of Records\")\n",
        "plt.title(\"AcidIndex\")"
      ],
      "execution_count": 81,
      "outputs": [
        {
          "output_type": "execute_result",
          "data": {
            "text/plain": [
              "Text(0.5, 1.0, 'AcidIndex')"
            ]
          },
          "metadata": {
            "tags": []
          },
          "execution_count": 81
        },
        {
          "output_type": "display_data",
          "data": {
            "image/png": "[encoded data removed]",
            "text/plain": [
              "<Figure size 720x720 with 1 Axes>"
            ]
          },
          "metadata": {
            "tags": [],
            "needs_background": "light"
          }
        }
      ]
    },
    {
      "cell_type": "code",
      "metadata": {
        "colab": {
          "base_uri": "https://localhost:8080/",
          "height": 623
        },
        "id": "dUPhljLGBIwu",
        "outputId": "025c54d1-81b1-49d4-c130-756897fa1f33"
      },
      "source": [
        "#Show STARS distribution\n",
        "df3.boxplot(column=['STARS'], return_type='axes');\n",
        "plt.title(\"STARS\")\n",
        "\n"
      ],
      "execution_count": 82,
      "outputs": [
        {
          "output_type": "execute_result",
          "data": {
            "text/plain": [
              "Text(0.5, 1.0, 'STARS')"
            ]
          },
          "metadata": {
            "tags": []
          },
          "execution_count": 82
        },
        {
          "output_type": "display_data",
          "data": {
            "image/png": "[encoded data removed]",
            "text/plain": [
              "<Figure size 720x720 with 1 Axes>"
            ]
          },
          "metadata": {
            "tags": [],
            "needs_background": "light"
          }
        }
      ]
    },
    {
      "cell_type": "code",
      "metadata": {
        "colab": {
          "base_uri": "https://localhost:8080/",
          "height": 623
        },
        "id": "g-b-kdtIBIwv",
        "outputId": "e6d8db18-6108-45e5-9f69-488a6db84c5c"
      },
      "source": [
        "#Show STARS distribution\n",
        "df3.hist(column=['STARS']);\n",
        "plt.ylabel(\"Number of Records\")\n",
        "plt.title(\"STARS\")"
      ],
      "execution_count": 83,
      "outputs": [
        {
          "output_type": "execute_result",
          "data": {
            "text/plain": [
              "Text(0.5, 1.0, 'STARS')"
            ]
          },
          "metadata": {
            "tags": []
          },
          "execution_count": 83
        },
        {
          "output_type": "display_data",
          "data": {
            "image/png": "[encoded data removed]",
            "text/plain": [
              "<Figure size 720x720 with 1 Axes>"
            ]
          },
          "metadata": {
            "tags": [],
            "needs_background": "light"
          }
        }
      ]
    },
    {
      "cell_type": "code",
      "metadata": {
        "colab": {
          "base_uri": "https://localhost:8080/",
          "height": 676
        },
        "id": "BY70XZ98BIwv",
        "outputId": "9d6dd940-7e88-49d4-a6d5-0640c127fd1d"
      },
      "source": [
        "from matplotlib import rcParams\n",
        "\n",
        "# plot the heatmap\n",
        "corr = df3.corr()\n",
        "sns.heatmap(corr, xticklabels=corr.columns, yticklabels=corr.columns, linewidths=1, annot=False, cmap=sns.diverging_palette(220, 20, as_cmap=True))\n",
        "rcParams[\"figure.figsize\"] =10, 10"
      ],
      "execution_count": 84,
      "outputs": [
        {
          "output_type": "display_data",
          "data": {
            "image/png": "[encoded data removed]",
            "text/plain": [
              "<Figure size 720x720 with 2 Axes>"
            ]
          },
          "metadata": {
            "tags": [],
            "needs_background": "light"
          }
        }
      ]
    },
    {
      "cell_type": "markdown",
      "metadata": {
        "id": "KoBnt6rdcgnl"
      },
      "source": [
        "## **Conclusion**"
      ]
    },
    {
      "cell_type": "markdown",
      "metadata": {
        "id": "wV-NOwA8cmRN"
      },
      "source": [
        "-We found that doing the necessary domain research is invaluable.  We read several papers from wine authorities around the world, not only did we feel we gained valuable insights that helped us understand each variable with context.\n",
        "\n",
        "-There were a lot of negative values that needed to be dealt with.  We decided the best practice would be to replace all negative values with their positive versions. For example. no solution including wine can have negative alcohol content. \n",
        "\n",
        "-For missing values, we decided the best practice was just to fill in each missing value with a random value from that variable's range. For example, if alcohol content ranged between 3.0-8.0% percent, missing values were filled in with random floating numbers between 3.0-8.0.\n",
        "This worked for all columns except Stars which while afloat had all zero decimal values. We fixed this by rounding all the columns now incorrect floating-point values to the nearest whole number.\n",
        "\n",
        "-After re-conducting our EDA, that the data appeared to have stayed relatively the same for columns that did not have negative values. These remain as normal distributions. Columns that had negative values and shouldn't have now appeared as a half-normal distribution.  Correlation diagrams appeared very similar after our alterations."
      ]
    }
  ]
}