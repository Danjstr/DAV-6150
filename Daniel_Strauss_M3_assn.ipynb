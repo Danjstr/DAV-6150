{
  "nbformat": 4,
  "nbformat_minor": 0,
  "metadata": {
    "colab": {
      "name": "Daniel_Strauss_M3_assn",
      "provenance": [],
      "authorship_tag": "ABX9TyMfs5Gh9QZWcFzCayotAvA8",
      "include_colab_link": true
    },
    "kernelspec": {
      "name": "python3",
      "display_name": "Python 3"
    },
    "language_info": {
      "name": "python"
    }
  },
  "cells": [
    {
      "cell_type": "markdown",
      "metadata": {
        "id": "view-in-github",
        "colab_type": "text"
      },
      "source": [
        "<a href=\"https://colab.research.google.com/github/Danjstr/DAV-6150/blob/main/Daniel_Strauss_M3_assn.ipynb\" target=\"_parent\"><img src=\"https://colab.research.google.com/assets/colab-badge.svg\" alt=\"Open In Colab\"/></a>"
      ]
    },
    {
      "cell_type": "markdown",
      "metadata": {
        "id": "B8G14FX2g2VO"
      },
      "source": [
        "## **Introduction**"
      ]
    },
    {
      "cell_type": "markdown",
      "metadata": {
        "id": "bkZf_MF9VsEF"
      },
      "source": [
        "This assignment had us work with a dataset featuring wine information. Upon further investigation, we noticed lots of missing and erroneous values. We plan to use best practices to fill in the missing data while simultaneously keeping data integrity as close to the previous distribution as possible.\n",
        "\n",
        "We plan to:\n",
        "\n",
        "-Conduct domain research to better inform ourselves about the data we are working with. We intend to isolate the proper ranges of the data for each column. some flaws are obvious right up front, such as negative alcohol contents, a physical impossibility.\n",
        "\n",
        "-Conduct exploratory data analysis to determine if there are any missing values or obvious data errors. \n",
        "\n",
        "-Perform data imputation to fill in any missing values.\n",
        "\n",
        "-Replace any inappropriate negative values with their respective absolute value.\n",
        "\n",
        "-re-conduct EDA to show how we were accurately able to maintain data integrity after cleaning a messy data set."
      ]
    },
    {
      "cell_type": "code",
      "metadata": {
        "id": "Pl5L1trER9N3"
      },
      "source": [
        "# import dependencies\n",
        "import pandas as pd"
      ],
      "execution_count": 1,
      "outputs": []
    },
    {
      "cell_type": "code",
      "metadata": {
        "colab": {
          "base_uri": "https://localhost:8080/",
          "height": 202
        },
        "id": "Ll9CXKlqcYnX",
        "outputId": "98c3ae9e-0420-4a59-9536-9ab530897494"
      },
      "source": [
        "#Read data From Github\n",
        "df7 = pd.read_csv('https://raw.githubusercontent.com/Danjstr/DAV-6150/main/M3_Data.csv')\n",
        "df7.head()"
      ],
      "execution_count": 2,
      "outputs": [
        {
          "output_type": "execute_result",
          "data": {
            "text/html": [
              "<div>\n",
              "<style scoped>\n",
              "    .dataframe tbody tr th:only-of-type {\n",
              "        vertical-align: middle;\n",
              "    }\n",
              "\n",
              "    .dataframe tbody tr th {\n",
              "        vertical-align: top;\n",
              "    }\n",
              "\n",
              "    .dataframe thead th {\n",
              "        text-align: right;\n",
              "    }\n",
              "</style>\n",
              "<table border=\"1\" class=\"dataframe\">\n",
              "  <thead>\n",
              "    <tr style=\"text-align: right;\">\n",
              "      <th></th>\n",
              "      <th>INDEX</th>\n",
              "      <th>TARGET</th>\n",
              "      <th>FixedAcidity</th>\n",
              "      <th>VolatileAcidity</th>\n",
              "      <th>CitricAcid</th>\n",
              "      <th>ResidualSugar</th>\n",
              "      <th>Chlorides</th>\n",
              "      <th>FreeSulfurDioxide</th>\n",
              "      <th>TotalSulfurDioxide</th>\n",
              "      <th>Density</th>\n",
              "      <th>pH</th>\n",
              "      <th>Sulphates</th>\n",
              "      <th>Alcohol</th>\n",
              "      <th>LabelAppeal</th>\n",
              "      <th>AcidIndex</th>\n",
              "      <th>STARS</th>\n",
              "    </tr>\n",
              "  </thead>\n",
              "  <tbody>\n",
              "    <tr>\n",
              "      <th>0</th>\n",
              "      <td>1</td>\n",
              "      <td>3</td>\n",
              "      <td>3.2</td>\n",
              "      <td>1.160</td>\n",
              "      <td>-0.98</td>\n",
              "      <td>54.2</td>\n",
              "      <td>-0.567</td>\n",
              "      <td>NaN</td>\n",
              "      <td>268.0</td>\n",
              "      <td>0.99280</td>\n",
              "      <td>3.33</td>\n",
              "      <td>-0.59</td>\n",
              "      <td>9.9</td>\n",
              "      <td>0</td>\n",
              "      <td>8</td>\n",
              "      <td>2.0</td>\n",
              "    </tr>\n",
              "    <tr>\n",
              "      <th>1</th>\n",
              "      <td>2</td>\n",
              "      <td>3</td>\n",
              "      <td>4.5</td>\n",
              "      <td>0.160</td>\n",
              "      <td>-0.81</td>\n",
              "      <td>26.1</td>\n",
              "      <td>-0.425</td>\n",
              "      <td>15.0</td>\n",
              "      <td>-327.0</td>\n",
              "      <td>1.02792</td>\n",
              "      <td>3.38</td>\n",
              "      <td>0.70</td>\n",
              "      <td>NaN</td>\n",
              "      <td>-1</td>\n",
              "      <td>7</td>\n",
              "      <td>3.0</td>\n",
              "    </tr>\n",
              "    <tr>\n",
              "      <th>2</th>\n",
              "      <td>4</td>\n",
              "      <td>5</td>\n",
              "      <td>7.1</td>\n",
              "      <td>2.640</td>\n",
              "      <td>-0.88</td>\n",
              "      <td>14.8</td>\n",
              "      <td>0.037</td>\n",
              "      <td>214.0</td>\n",
              "      <td>142.0</td>\n",
              "      <td>0.99518</td>\n",
              "      <td>3.12</td>\n",
              "      <td>0.48</td>\n",
              "      <td>22.0</td>\n",
              "      <td>-1</td>\n",
              "      <td>8</td>\n",
              "      <td>3.0</td>\n",
              "    </tr>\n",
              "    <tr>\n",
              "      <th>3</th>\n",
              "      <td>5</td>\n",
              "      <td>3</td>\n",
              "      <td>5.7</td>\n",
              "      <td>0.385</td>\n",
              "      <td>0.04</td>\n",
              "      <td>18.8</td>\n",
              "      <td>-0.425</td>\n",
              "      <td>22.0</td>\n",
              "      <td>115.0</td>\n",
              "      <td>0.99640</td>\n",
              "      <td>2.24</td>\n",
              "      <td>1.83</td>\n",
              "      <td>6.2</td>\n",
              "      <td>-1</td>\n",
              "      <td>6</td>\n",
              "      <td>1.0</td>\n",
              "    </tr>\n",
              "    <tr>\n",
              "      <th>4</th>\n",
              "      <td>6</td>\n",
              "      <td>4</td>\n",
              "      <td>8.0</td>\n",
              "      <td>0.330</td>\n",
              "      <td>-1.26</td>\n",
              "      <td>9.4</td>\n",
              "      <td>NaN</td>\n",
              "      <td>-167.0</td>\n",
              "      <td>108.0</td>\n",
              "      <td>0.99457</td>\n",
              "      <td>3.12</td>\n",
              "      <td>1.77</td>\n",
              "      <td>13.7</td>\n",
              "      <td>0</td>\n",
              "      <td>9</td>\n",
              "      <td>2.0</td>\n",
              "    </tr>\n",
              "  </tbody>\n",
              "</table>\n",
              "</div>"
            ],
            "text/plain": [
              "   INDEX  TARGET  FixedAcidity  ...  LabelAppeal  AcidIndex  STARS\n",
              "0      1       3           3.2  ...            0          8    2.0\n",
              "1      2       3           4.5  ...           -1          7    3.0\n",
              "2      4       5           7.1  ...           -1          8    3.0\n",
              "3      5       3           5.7  ...           -1          6    1.0\n",
              "4      6       4           8.0  ...            0          9    2.0\n",
              "\n",
              "[5 rows x 16 columns]"
            ]
          },
          "metadata": {
            "tags": []
          },
          "execution_count": 2
        }
      ]
    },
    {
      "cell_type": "markdown",
      "metadata": {
        "id": "_5pvFGWlvl1i"
      },
      "source": [
        "## **Exploratory Data Analysis**"
      ]
    },
    {
      "cell_type": "markdown",
      "metadata": {
        "id": "-nEh7_Rjhzyj"
      },
      "source": [
        "For the exploratory data analysis, we have performed the following operations to derive insights from our data.\n",
        "\n",
        "-Showed the data frame and its tail.\n",
        "\n",
        "-Retrieved summary Statistics.\n",
        "\n",
        "-Checked the data type and how many null values where in the data set.\n",
        "\n",
        "-Showed the shape of the data and column labels.\n",
        "\n",
        "-Plotted a bar plot and histogram of all necessary columns.\n",
        "\n",
        "The two largest problems We found were that nearly all the columns had missing values and that many of these columns had negative values that needed to addressed."
      ]
    },
    {
      "cell_type": "code",
      "metadata": {
        "id": "V3ULnxi4mHxr",
        "colab": {
          "base_uri": "https://localhost:8080/",
          "height": 434
        },
        "outputId": "39a14411-4621-4a27-c4c3-71cc7b4dd793"
      },
      "source": [
        "#Show The Data\n",
        "df7"
      ],
      "execution_count": 3,
      "outputs": [
        {
          "output_type": "execute_result",
          "data": {
            "text/html": [
              "<div>\n",
              "<style scoped>\n",
              "    .dataframe tbody tr th:only-of-type {\n",
              "        vertical-align: middle;\n",
              "    }\n",
              "\n",
              "    .dataframe tbody tr th {\n",
              "        vertical-align: top;\n",
              "    }\n",
              "\n",
              "    .dataframe thead th {\n",
              "        text-align: right;\n",
              "    }\n",
              "</style>\n",
              "<table border=\"1\" class=\"dataframe\">\n",
              "  <thead>\n",
              "    <tr style=\"text-align: right;\">\n",
              "      <th></th>\n",
              "      <th>INDEX</th>\n",
              "      <th>TARGET</th>\n",
              "      <th>FixedAcidity</th>\n",
              "      <th>VolatileAcidity</th>\n",
              "      <th>CitricAcid</th>\n",
              "      <th>ResidualSugar</th>\n",
              "      <th>Chlorides</th>\n",
              "      <th>FreeSulfurDioxide</th>\n",
              "      <th>TotalSulfurDioxide</th>\n",
              "      <th>Density</th>\n",
              "      <th>pH</th>\n",
              "      <th>Sulphates</th>\n",
              "      <th>Alcohol</th>\n",
              "      <th>LabelAppeal</th>\n",
              "      <th>AcidIndex</th>\n",
              "      <th>STARS</th>\n",
              "    </tr>\n",
              "  </thead>\n",
              "  <tbody>\n",
              "    <tr>\n",
              "      <th>0</th>\n",
              "      <td>1</td>\n",
              "      <td>3</td>\n",
              "      <td>3.2</td>\n",
              "      <td>1.160</td>\n",
              "      <td>-0.98</td>\n",
              "      <td>54.2</td>\n",
              "      <td>-0.567</td>\n",
              "      <td>NaN</td>\n",
              "      <td>268.0</td>\n",
              "      <td>0.99280</td>\n",
              "      <td>3.33</td>\n",
              "      <td>-0.59</td>\n",
              "      <td>9.9</td>\n",
              "      <td>0</td>\n",
              "      <td>8</td>\n",
              "      <td>2.0</td>\n",
              "    </tr>\n",
              "    <tr>\n",
              "      <th>1</th>\n",
              "      <td>2</td>\n",
              "      <td>3</td>\n",
              "      <td>4.5</td>\n",
              "      <td>0.160</td>\n",
              "      <td>-0.81</td>\n",
              "      <td>26.1</td>\n",
              "      <td>-0.425</td>\n",
              "      <td>15.0</td>\n",
              "      <td>-327.0</td>\n",
              "      <td>1.02792</td>\n",
              "      <td>3.38</td>\n",
              "      <td>0.70</td>\n",
              "      <td>NaN</td>\n",
              "      <td>-1</td>\n",
              "      <td>7</td>\n",
              "      <td>3.0</td>\n",
              "    </tr>\n",
              "    <tr>\n",
              "      <th>2</th>\n",
              "      <td>4</td>\n",
              "      <td>5</td>\n",
              "      <td>7.1</td>\n",
              "      <td>2.640</td>\n",
              "      <td>-0.88</td>\n",
              "      <td>14.8</td>\n",
              "      <td>0.037</td>\n",
              "      <td>214.0</td>\n",
              "      <td>142.0</td>\n",
              "      <td>0.99518</td>\n",
              "      <td>3.12</td>\n",
              "      <td>0.48</td>\n",
              "      <td>22.0</td>\n",
              "      <td>-1</td>\n",
              "      <td>8</td>\n",
              "      <td>3.0</td>\n",
              "    </tr>\n",
              "    <tr>\n",
              "      <th>3</th>\n",
              "      <td>5</td>\n",
              "      <td>3</td>\n",
              "      <td>5.7</td>\n",
              "      <td>0.385</td>\n",
              "      <td>0.04</td>\n",
              "      <td>18.8</td>\n",
              "      <td>-0.425</td>\n",
              "      <td>22.0</td>\n",
              "      <td>115.0</td>\n",
              "      <td>0.99640</td>\n",
              "      <td>2.24</td>\n",
              "      <td>1.83</td>\n",
              "      <td>6.2</td>\n",
              "      <td>-1</td>\n",
              "      <td>6</td>\n",
              "      <td>1.0</td>\n",
              "    </tr>\n",
              "    <tr>\n",
              "      <th>4</th>\n",
              "      <td>6</td>\n",
              "      <td>4</td>\n",
              "      <td>8.0</td>\n",
              "      <td>0.330</td>\n",
              "      <td>-1.26</td>\n",
              "      <td>9.4</td>\n",
              "      <td>NaN</td>\n",
              "      <td>-167.0</td>\n",
              "      <td>108.0</td>\n",
              "      <td>0.99457</td>\n",
              "      <td>3.12</td>\n",
              "      <td>1.77</td>\n",
              "      <td>13.7</td>\n",
              "      <td>0</td>\n",
              "      <td>9</td>\n",
              "      <td>2.0</td>\n",
              "    </tr>\n",
              "    <tr>\n",
              "      <th>...</th>\n",
              "      <td>...</td>\n",
              "      <td>...</td>\n",
              "      <td>...</td>\n",
              "      <td>...</td>\n",
              "      <td>...</td>\n",
              "      <td>...</td>\n",
              "      <td>...</td>\n",
              "      <td>...</td>\n",
              "      <td>...</td>\n",
              "      <td>...</td>\n",
              "      <td>...</td>\n",
              "      <td>...</td>\n",
              "      <td>...</td>\n",
              "      <td>...</td>\n",
              "      <td>...</td>\n",
              "      <td>...</td>\n",
              "    </tr>\n",
              "    <tr>\n",
              "      <th>12790</th>\n",
              "      <td>16120</td>\n",
              "      <td>0</td>\n",
              "      <td>5.0</td>\n",
              "      <td>-0.790</td>\n",
              "      <td>2.01</td>\n",
              "      <td>5.0</td>\n",
              "      <td>0.043</td>\n",
              "      <td>17.0</td>\n",
              "      <td>101.0</td>\n",
              "      <td>1.01077</td>\n",
              "      <td>3.39</td>\n",
              "      <td>0.57</td>\n",
              "      <td>4.9</td>\n",
              "      <td>1</td>\n",
              "      <td>5</td>\n",
              "      <td>NaN</td>\n",
              "    </tr>\n",
              "    <tr>\n",
              "      <th>12791</th>\n",
              "      <td>16123</td>\n",
              "      <td>5</td>\n",
              "      <td>8.9</td>\n",
              "      <td>0.470</td>\n",
              "      <td>0.29</td>\n",
              "      <td>84.9</td>\n",
              "      <td>0.259</td>\n",
              "      <td>54.0</td>\n",
              "      <td>NaN</td>\n",
              "      <td>0.99518</td>\n",
              "      <td>4.46</td>\n",
              "      <td>-1.20</td>\n",
              "      <td>NaN</td>\n",
              "      <td>-1</td>\n",
              "      <td>8</td>\n",
              "      <td>2.0</td>\n",
              "    </tr>\n",
              "    <tr>\n",
              "      <th>12792</th>\n",
              "      <td>16127</td>\n",
              "      <td>4</td>\n",
              "      <td>6.0</td>\n",
              "      <td>0.170</td>\n",
              "      <td>-1.10</td>\n",
              "      <td>37.0</td>\n",
              "      <td>0.078</td>\n",
              "      <td>25.0</td>\n",
              "      <td>108.0</td>\n",
              "      <td>0.99076</td>\n",
              "      <td>3.25</td>\n",
              "      <td>NaN</td>\n",
              "      <td>12.3</td>\n",
              "      <td>0</td>\n",
              "      <td>6</td>\n",
              "      <td>2.0</td>\n",
              "    </tr>\n",
              "    <tr>\n",
              "      <th>12793</th>\n",
              "      <td>16128</td>\n",
              "      <td>3</td>\n",
              "      <td>7.7</td>\n",
              "      <td>0.320</td>\n",
              "      <td>0.12</td>\n",
              "      <td>NaN</td>\n",
              "      <td>0.029</td>\n",
              "      <td>26.0</td>\n",
              "      <td>274.0</td>\n",
              "      <td>0.99060</td>\n",
              "      <td>3.97</td>\n",
              "      <td>0.62</td>\n",
              "      <td>11.0</td>\n",
              "      <td>-1</td>\n",
              "      <td>6</td>\n",
              "      <td>2.0</td>\n",
              "    </tr>\n",
              "    <tr>\n",
              "      <th>12794</th>\n",
              "      <td>16129</td>\n",
              "      <td>4</td>\n",
              "      <td>5.2</td>\n",
              "      <td>-0.040</td>\n",
              "      <td>-0.81</td>\n",
              "      <td>52.7</td>\n",
              "      <td>NaN</td>\n",
              "      <td>-106.0</td>\n",
              "      <td>242.0</td>\n",
              "      <td>0.99454</td>\n",
              "      <td>3.94</td>\n",
              "      <td>-0.12</td>\n",
              "      <td>9.9</td>\n",
              "      <td>0</td>\n",
              "      <td>7</td>\n",
              "      <td>2.0</td>\n",
              "    </tr>\n",
              "  </tbody>\n",
              "</table>\n",
              "<p>12795 rows × 16 columns</p>\n",
              "</div>"
            ],
            "text/plain": [
              "       INDEX  TARGET  FixedAcidity  ...  LabelAppeal  AcidIndex  STARS\n",
              "0          1       3           3.2  ...            0          8    2.0\n",
              "1          2       3           4.5  ...           -1          7    3.0\n",
              "2          4       5           7.1  ...           -1          8    3.0\n",
              "3          5       3           5.7  ...           -1          6    1.0\n",
              "4          6       4           8.0  ...            0          9    2.0\n",
              "...      ...     ...           ...  ...          ...        ...    ...\n",
              "12790  16120       0           5.0  ...            1          5    NaN\n",
              "12791  16123       5           8.9  ...           -1          8    2.0\n",
              "12792  16127       4           6.0  ...            0          6    2.0\n",
              "12793  16128       3           7.7  ...           -1          6    2.0\n",
              "12794  16129       4           5.2  ...            0          7    2.0\n",
              "\n",
              "[12795 rows x 16 columns]"
            ]
          },
          "metadata": {
            "tags": []
          },
          "execution_count": 3
        }
      ]
    },
    {
      "cell_type": "code",
      "metadata": {
        "id": "LLCSGgsrcKzr",
        "colab": {
          "base_uri": "https://localhost:8080/",
          "height": 222
        },
        "outputId": "9c7e0284-630a-4451-ec21-dc2633bb87f6"
      },
      "source": [
        "#Show the tail of the data\n",
        "df7.tail()"
      ],
      "execution_count": 4,
      "outputs": [
        {
          "output_type": "execute_result",
          "data": {
            "text/html": [
              "<div>\n",
              "<style scoped>\n",
              "    .dataframe tbody tr th:only-of-type {\n",
              "        vertical-align: middle;\n",
              "    }\n",
              "\n",
              "    .dataframe tbody tr th {\n",
              "        vertical-align: top;\n",
              "    }\n",
              "\n",
              "    .dataframe thead th {\n",
              "        text-align: right;\n",
              "    }\n",
              "</style>\n",
              "<table border=\"1\" class=\"dataframe\">\n",
              "  <thead>\n",
              "    <tr style=\"text-align: right;\">\n",
              "      <th></th>\n",
              "      <th>INDEX</th>\n",
              "      <th>TARGET</th>\n",
              "      <th>FixedAcidity</th>\n",
              "      <th>VolatileAcidity</th>\n",
              "      <th>CitricAcid</th>\n",
              "      <th>ResidualSugar</th>\n",
              "      <th>Chlorides</th>\n",
              "      <th>FreeSulfurDioxide</th>\n",
              "      <th>TotalSulfurDioxide</th>\n",
              "      <th>Density</th>\n",
              "      <th>pH</th>\n",
              "      <th>Sulphates</th>\n",
              "      <th>Alcohol</th>\n",
              "      <th>LabelAppeal</th>\n",
              "      <th>AcidIndex</th>\n",
              "      <th>STARS</th>\n",
              "    </tr>\n",
              "  </thead>\n",
              "  <tbody>\n",
              "    <tr>\n",
              "      <th>12790</th>\n",
              "      <td>16120</td>\n",
              "      <td>0</td>\n",
              "      <td>5.0</td>\n",
              "      <td>-0.79</td>\n",
              "      <td>2.01</td>\n",
              "      <td>5.0</td>\n",
              "      <td>0.043</td>\n",
              "      <td>17.0</td>\n",
              "      <td>101.0</td>\n",
              "      <td>1.01077</td>\n",
              "      <td>3.39</td>\n",
              "      <td>0.57</td>\n",
              "      <td>4.9</td>\n",
              "      <td>1</td>\n",
              "      <td>5</td>\n",
              "      <td>NaN</td>\n",
              "    </tr>\n",
              "    <tr>\n",
              "      <th>12791</th>\n",
              "      <td>16123</td>\n",
              "      <td>5</td>\n",
              "      <td>8.9</td>\n",
              "      <td>0.47</td>\n",
              "      <td>0.29</td>\n",
              "      <td>84.9</td>\n",
              "      <td>0.259</td>\n",
              "      <td>54.0</td>\n",
              "      <td>NaN</td>\n",
              "      <td>0.99518</td>\n",
              "      <td>4.46</td>\n",
              "      <td>-1.20</td>\n",
              "      <td>NaN</td>\n",
              "      <td>-1</td>\n",
              "      <td>8</td>\n",
              "      <td>2.0</td>\n",
              "    </tr>\n",
              "    <tr>\n",
              "      <th>12792</th>\n",
              "      <td>16127</td>\n",
              "      <td>4</td>\n",
              "      <td>6.0</td>\n",
              "      <td>0.17</td>\n",
              "      <td>-1.10</td>\n",
              "      <td>37.0</td>\n",
              "      <td>0.078</td>\n",
              "      <td>25.0</td>\n",
              "      <td>108.0</td>\n",
              "      <td>0.99076</td>\n",
              "      <td>3.25</td>\n",
              "      <td>NaN</td>\n",
              "      <td>12.3</td>\n",
              "      <td>0</td>\n",
              "      <td>6</td>\n",
              "      <td>2.0</td>\n",
              "    </tr>\n",
              "    <tr>\n",
              "      <th>12793</th>\n",
              "      <td>16128</td>\n",
              "      <td>3</td>\n",
              "      <td>7.7</td>\n",
              "      <td>0.32</td>\n",
              "      <td>0.12</td>\n",
              "      <td>NaN</td>\n",
              "      <td>0.029</td>\n",
              "      <td>26.0</td>\n",
              "      <td>274.0</td>\n",
              "      <td>0.99060</td>\n",
              "      <td>3.97</td>\n",
              "      <td>0.62</td>\n",
              "      <td>11.0</td>\n",
              "      <td>-1</td>\n",
              "      <td>6</td>\n",
              "      <td>2.0</td>\n",
              "    </tr>\n",
              "    <tr>\n",
              "      <th>12794</th>\n",
              "      <td>16129</td>\n",
              "      <td>4</td>\n",
              "      <td>5.2</td>\n",
              "      <td>-0.04</td>\n",
              "      <td>-0.81</td>\n",
              "      <td>52.7</td>\n",
              "      <td>NaN</td>\n",
              "      <td>-106.0</td>\n",
              "      <td>242.0</td>\n",
              "      <td>0.99454</td>\n",
              "      <td>3.94</td>\n",
              "      <td>-0.12</td>\n",
              "      <td>9.9</td>\n",
              "      <td>0</td>\n",
              "      <td>7</td>\n",
              "      <td>2.0</td>\n",
              "    </tr>\n",
              "  </tbody>\n",
              "</table>\n",
              "</div>"
            ],
            "text/plain": [
              "       INDEX  TARGET  FixedAcidity  ...  LabelAppeal  AcidIndex  STARS\n",
              "12790  16120       0           5.0  ...            1          5    NaN\n",
              "12791  16123       5           8.9  ...           -1          8    2.0\n",
              "12792  16127       4           6.0  ...            0          6    2.0\n",
              "12793  16128       3           7.7  ...           -1          6    2.0\n",
              "12794  16129       4           5.2  ...            0          7    2.0\n",
              "\n",
              "[5 rows x 16 columns]"
            ]
          },
          "metadata": {
            "tags": []
          },
          "execution_count": 4
        }
      ]
    },
    {
      "cell_type": "code",
      "metadata": {
        "id": "d5M06jmv-3np",
        "colab": {
          "base_uri": "https://localhost:8080/",
          "height": 314
        },
        "outputId": "aae0c452-fe36-4367-dcf6-13f0f3f1b171"
      },
      "source": [
        "#Show the description\n",
        "df7.describe()"
      ],
      "execution_count": 5,
      "outputs": [
        {
          "output_type": "execute_result",
          "data": {
            "text/html": [
              "<div>\n",
              "<style scoped>\n",
              "    .dataframe tbody tr th:only-of-type {\n",
              "        vertical-align: middle;\n",
              "    }\n",
              "\n",
              "    .dataframe tbody tr th {\n",
              "        vertical-align: top;\n",
              "    }\n",
              "\n",
              "    .dataframe thead th {\n",
              "        text-align: right;\n",
              "    }\n",
              "</style>\n",
              "<table border=\"1\" class=\"dataframe\">\n",
              "  <thead>\n",
              "    <tr style=\"text-align: right;\">\n",
              "      <th></th>\n",
              "      <th>INDEX</th>\n",
              "      <th>TARGET</th>\n",
              "      <th>FixedAcidity</th>\n",
              "      <th>VolatileAcidity</th>\n",
              "      <th>CitricAcid</th>\n",
              "      <th>ResidualSugar</th>\n",
              "      <th>Chlorides</th>\n",
              "      <th>FreeSulfurDioxide</th>\n",
              "      <th>TotalSulfurDioxide</th>\n",
              "      <th>Density</th>\n",
              "      <th>pH</th>\n",
              "      <th>Sulphates</th>\n",
              "      <th>Alcohol</th>\n",
              "      <th>LabelAppeal</th>\n",
              "      <th>AcidIndex</th>\n",
              "      <th>STARS</th>\n",
              "    </tr>\n",
              "  </thead>\n",
              "  <tbody>\n",
              "    <tr>\n",
              "      <th>count</th>\n",
              "      <td>12795.000000</td>\n",
              "      <td>12795.000000</td>\n",
              "      <td>12795.000000</td>\n",
              "      <td>12795.000000</td>\n",
              "      <td>12795.000000</td>\n",
              "      <td>12179.000000</td>\n",
              "      <td>12157.000000</td>\n",
              "      <td>12148.000000</td>\n",
              "      <td>12113.000000</td>\n",
              "      <td>12795.000000</td>\n",
              "      <td>12400.000000</td>\n",
              "      <td>11585.000000</td>\n",
              "      <td>12142.000000</td>\n",
              "      <td>12795.000000</td>\n",
              "      <td>12795.000000</td>\n",
              "      <td>9436.000000</td>\n",
              "    </tr>\n",
              "    <tr>\n",
              "      <th>mean</th>\n",
              "      <td>8069.980305</td>\n",
              "      <td>3.029074</td>\n",
              "      <td>7.075717</td>\n",
              "      <td>0.324104</td>\n",
              "      <td>0.308413</td>\n",
              "      <td>5.418733</td>\n",
              "      <td>0.054822</td>\n",
              "      <td>30.845571</td>\n",
              "      <td>120.714233</td>\n",
              "      <td>0.994203</td>\n",
              "      <td>3.207628</td>\n",
              "      <td>0.527112</td>\n",
              "      <td>10.489236</td>\n",
              "      <td>-0.009066</td>\n",
              "      <td>7.772724</td>\n",
              "      <td>2.041755</td>\n",
              "    </tr>\n",
              "    <tr>\n",
              "      <th>std</th>\n",
              "      <td>4656.905107</td>\n",
              "      <td>1.926368</td>\n",
              "      <td>6.317643</td>\n",
              "      <td>0.784014</td>\n",
              "      <td>0.862080</td>\n",
              "      <td>33.749379</td>\n",
              "      <td>0.318467</td>\n",
              "      <td>148.714558</td>\n",
              "      <td>231.913211</td>\n",
              "      <td>0.026538</td>\n",
              "      <td>0.679687</td>\n",
              "      <td>0.932129</td>\n",
              "      <td>3.727819</td>\n",
              "      <td>0.891089</td>\n",
              "      <td>1.323926</td>\n",
              "      <td>0.902540</td>\n",
              "    </tr>\n",
              "    <tr>\n",
              "      <th>min</th>\n",
              "      <td>1.000000</td>\n",
              "      <td>0.000000</td>\n",
              "      <td>-18.100000</td>\n",
              "      <td>-2.790000</td>\n",
              "      <td>-3.240000</td>\n",
              "      <td>-127.800000</td>\n",
              "      <td>-1.171000</td>\n",
              "      <td>-555.000000</td>\n",
              "      <td>-823.000000</td>\n",
              "      <td>0.888090</td>\n",
              "      <td>0.480000</td>\n",
              "      <td>-3.130000</td>\n",
              "      <td>-4.700000</td>\n",
              "      <td>-2.000000</td>\n",
              "      <td>4.000000</td>\n",
              "      <td>1.000000</td>\n",
              "    </tr>\n",
              "    <tr>\n",
              "      <th>25%</th>\n",
              "      <td>4037.500000</td>\n",
              "      <td>2.000000</td>\n",
              "      <td>5.200000</td>\n",
              "      <td>0.130000</td>\n",
              "      <td>0.030000</td>\n",
              "      <td>-2.000000</td>\n",
              "      <td>-0.031000</td>\n",
              "      <td>0.000000</td>\n",
              "      <td>27.000000</td>\n",
              "      <td>0.987720</td>\n",
              "      <td>2.960000</td>\n",
              "      <td>0.280000</td>\n",
              "      <td>9.000000</td>\n",
              "      <td>-1.000000</td>\n",
              "      <td>7.000000</td>\n",
              "      <td>1.000000</td>\n",
              "    </tr>\n",
              "    <tr>\n",
              "      <th>50%</th>\n",
              "      <td>8110.000000</td>\n",
              "      <td>3.000000</td>\n",
              "      <td>6.900000</td>\n",
              "      <td>0.280000</td>\n",
              "      <td>0.310000</td>\n",
              "      <td>3.900000</td>\n",
              "      <td>0.046000</td>\n",
              "      <td>30.000000</td>\n",
              "      <td>123.000000</td>\n",
              "      <td>0.994490</td>\n",
              "      <td>3.200000</td>\n",
              "      <td>0.500000</td>\n",
              "      <td>10.400000</td>\n",
              "      <td>0.000000</td>\n",
              "      <td>8.000000</td>\n",
              "      <td>2.000000</td>\n",
              "    </tr>\n",
              "    <tr>\n",
              "      <th>75%</th>\n",
              "      <td>12106.500000</td>\n",
              "      <td>4.000000</td>\n",
              "      <td>9.500000</td>\n",
              "      <td>0.640000</td>\n",
              "      <td>0.580000</td>\n",
              "      <td>15.900000</td>\n",
              "      <td>0.153000</td>\n",
              "      <td>70.000000</td>\n",
              "      <td>208.000000</td>\n",
              "      <td>1.000515</td>\n",
              "      <td>3.470000</td>\n",
              "      <td>0.860000</td>\n",
              "      <td>12.400000</td>\n",
              "      <td>1.000000</td>\n",
              "      <td>8.000000</td>\n",
              "      <td>3.000000</td>\n",
              "    </tr>\n",
              "    <tr>\n",
              "      <th>max</th>\n",
              "      <td>16129.000000</td>\n",
              "      <td>8.000000</td>\n",
              "      <td>34.400000</td>\n",
              "      <td>3.680000</td>\n",
              "      <td>3.860000</td>\n",
              "      <td>141.150000</td>\n",
              "      <td>1.351000</td>\n",
              "      <td>623.000000</td>\n",
              "      <td>1057.000000</td>\n",
              "      <td>1.099240</td>\n",
              "      <td>6.130000</td>\n",
              "      <td>4.240000</td>\n",
              "      <td>26.500000</td>\n",
              "      <td>2.000000</td>\n",
              "      <td>17.000000</td>\n",
              "      <td>4.000000</td>\n",
              "    </tr>\n",
              "  </tbody>\n",
              "</table>\n",
              "</div>"
            ],
            "text/plain": [
              "              INDEX        TARGET  ...     AcidIndex        STARS\n",
              "count  12795.000000  12795.000000  ...  12795.000000  9436.000000\n",
              "mean    8069.980305      3.029074  ...      7.772724     2.041755\n",
              "std     4656.905107      1.926368  ...      1.323926     0.902540\n",
              "min        1.000000      0.000000  ...      4.000000     1.000000\n",
              "25%     4037.500000      2.000000  ...      7.000000     1.000000\n",
              "50%     8110.000000      3.000000  ...      8.000000     2.000000\n",
              "75%    12106.500000      4.000000  ...      8.000000     3.000000\n",
              "max    16129.000000      8.000000  ...     17.000000     4.000000\n",
              "\n",
              "[8 rows x 16 columns]"
            ]
          },
          "metadata": {
            "tags": []
          },
          "execution_count": 5
        }
      ]
    },
    {
      "cell_type": "code",
      "metadata": {
        "id": "1QZbRJ6aGe7a",
        "colab": {
          "base_uri": "https://localhost:8080/"
        },
        "outputId": "d76d7c36-1dc6-49e6-e659-4b920630ec79"
      },
      "source": [
        "#Show the info\n",
        "df7.info()"
      ],
      "execution_count": 6,
      "outputs": [
        {
          "output_type": "stream",
          "text": [
            "<class 'pandas.core.frame.DataFrame'>\n",
            "RangeIndex: 12795 entries, 0 to 12794\n",
            "Data columns (total 16 columns):\n",
            " #   Column              Non-Null Count  Dtype  \n",
            "---  ------              --------------  -----  \n",
            " 0   INDEX               12795 non-null  int64  \n",
            " 1   TARGET              12795 non-null  int64  \n",
            " 2   FixedAcidity        12795 non-null  float64\n",
            " 3   VolatileAcidity     12795 non-null  float64\n",
            " 4   CitricAcid          12795 non-null  float64\n",
            " 5   ResidualSugar       12179 non-null  float64\n",
            " 6   Chlorides           12157 non-null  float64\n",
            " 7   FreeSulfurDioxide   12148 non-null  float64\n",
            " 8   TotalSulfurDioxide  12113 non-null  float64\n",
            " 9   Density             12795 non-null  float64\n",
            " 10  pH                  12400 non-null  float64\n",
            " 11  Sulphates           11585 non-null  float64\n",
            " 12  Alcohol             12142 non-null  float64\n",
            " 13  LabelAppeal         12795 non-null  int64  \n",
            " 14  AcidIndex           12795 non-null  int64  \n",
            " 15  STARS               9436 non-null   float64\n",
            "dtypes: float64(12), int64(4)\n",
            "memory usage: 1.6 MB\n"
          ],
          "name": "stdout"
        }
      ]
    },
    {
      "cell_type": "code",
      "metadata": {
        "id": "ec85lOSLRrKX",
        "colab": {
          "base_uri": "https://localhost:8080/"
        },
        "outputId": "3339c528-3a14-4aee-a23a-6064662236d3"
      },
      "source": [
        "#Show the shape\n",
        "df7.shape"
      ],
      "execution_count": 7,
      "outputs": [
        {
          "output_type": "execute_result",
          "data": {
            "text/plain": [
              "(12795, 16)"
            ]
          },
          "metadata": {
            "tags": []
          },
          "execution_count": 7
        }
      ]
    },
    {
      "cell_type": "code",
      "metadata": {
        "id": "NnYiY0OYAfug"
      },
      "source": [
        "df2=df7"
      ],
      "execution_count": 8,
      "outputs": []
    },
    {
      "cell_type": "code",
      "metadata": {
        "id": "jEzEwGuGX6zO",
        "colab": {
          "base_uri": "https://localhost:8080/"
        },
        "outputId": "3fc14aed-1be1-42e2-c1aa-5d0a5701826b"
      },
      "source": [
        "#Show the columns\n",
        "df2.columns"
      ],
      "execution_count": 9,
      "outputs": [
        {
          "output_type": "execute_result",
          "data": {
            "text/plain": [
              "Index(['INDEX', 'TARGET', 'FixedAcidity', 'VolatileAcidity', 'CitricAcid',\n",
              "       'ResidualSugar', 'Chlorides', 'FreeSulfurDioxide', 'TotalSulfurDioxide',\n",
              "       'Density', 'pH', 'Sulphates', 'Alcohol', 'LabelAppeal', 'AcidIndex',\n",
              "       'STARS'],\n",
              "      dtype='object')"
            ]
          },
          "metadata": {
            "tags": []
          },
          "execution_count": 9
        }
      ]
    },
    {
      "cell_type": "code",
      "metadata": {
        "id": "S1o-fenn_G-l",
        "colab": {
          "base_uri": "https://localhost:8080/"
        },
        "outputId": "cd61d23b-6e78-48b6-9f33-3fbcb5cd1f0a"
      },
      "source": [
        "#Show the data type\n",
        "df2.dtypes"
      ],
      "execution_count": 10,
      "outputs": [
        {
          "output_type": "execute_result",
          "data": {
            "text/plain": [
              "INDEX                   int64\n",
              "TARGET                  int64\n",
              "FixedAcidity          float64\n",
              "VolatileAcidity       float64\n",
              "CitricAcid            float64\n",
              "ResidualSugar         float64\n",
              "Chlorides             float64\n",
              "FreeSulfurDioxide     float64\n",
              "TotalSulfurDioxide    float64\n",
              "Density               float64\n",
              "pH                    float64\n",
              "Sulphates             float64\n",
              "Alcohol               float64\n",
              "LabelAppeal             int64\n",
              "AcidIndex               int64\n",
              "STARS                 float64\n",
              "dtype: object"
            ]
          },
          "metadata": {
            "tags": []
          },
          "execution_count": 10
        }
      ]
    },
    {
      "cell_type": "code",
      "metadata": {
        "id": "6FZZld8hGSBP"
      },
      "source": [
        "df3=df2"
      ],
      "execution_count": 11,
      "outputs": []
    },
    {
      "cell_type": "code",
      "metadata": {
        "id": "f6SCD6CKXVxi",
        "colab": {
          "base_uri": "https://localhost:8080/",
          "height": 297
        },
        "outputId": "57ef2167-eb22-433d-a11f-bcbc8ed2fdb8"
      },
      "source": [
        "#Show Temperature distribution\n",
        "import matplotlib.pyplot as plt\n",
        "import seaborn as sns\n",
        "\n",
        "df3.boxplot(column=['TARGET'], return_type='axes');\n",
        "plt.title(\"TARGET\")\n",
        "\n"
      ],
      "execution_count": 12,
      "outputs": [
        {
          "output_type": "execute_result",
          "data": {
            "text/plain": [
              "Text(0.5, 1.0, 'TARGET')"
            ]
          },
          "metadata": {
            "tags": []
          },
          "execution_count": 12
        },
        {
          "output_type": "display_data",
          "data": {
            "image/png": "[encoded data removed]",
            "text/plain": [
              "<Figure size 432x288 with 1 Axes>"
            ]
          },
          "metadata": {
            "tags": [],
            "needs_background": "light"
          }
        }
      ]
    },
    {
      "cell_type": "code",
      "metadata": {
        "colab": {
          "base_uri": "https://localhost:8080/",
          "height": 297
        },
        "id": "_0auPWI42gq3",
        "outputId": "b6b9ac98-0743-4c80-91bc-a0f0a9cfe53d"
      },
      "source": [
        "#Show Target distribution\n",
        "df3.hist(column=['TARGET']);\n",
        "plt.ylabel(\"Number of Records\")\n",
        "plt.title(\"TARGET\")"
      ],
      "execution_count": 13,
      "outputs": [
        {
          "output_type": "execute_result",
          "data": {
            "text/plain": [
              "Text(0.5, 1.0, 'TARGET')"
            ]
          },
          "metadata": {
            "tags": []
          },
          "execution_count": 13
        },
        {
          "output_type": "display_data",
          "data": {
            "image/png": "[encoded data removed]",
            "text/plain": [
              "<Figure size 432x288 with 1 Axes>"
            ]
          },
          "metadata": {
            "tags": [],
            "needs_background": "light"
          }
        }
      ]
    },
    {
      "cell_type": "code",
      "metadata": {
        "colab": {
          "base_uri": "https://localhost:8080/",
          "height": 297
        },
        "id": "GBvK-lYqIdHs",
        "outputId": "7d255273-32b3-4adb-812b-658bcc0b4c31"
      },
      "source": [
        "#Show FixedAcidity distribution\n",
        "df3.boxplot(column=['FixedAcidity'], return_type='axes');\n",
        "plt.title(\"FixedAcidity\")\n",
        "\n"
      ],
      "execution_count": 14,
      "outputs": [
        {
          "output_type": "execute_result",
          "data": {
            "text/plain": [
              "Text(0.5, 1.0, 'FixedAcidity')"
            ]
          },
          "metadata": {
            "tags": []
          },
          "execution_count": 14
        },
        {
          "output_type": "display_data",
          "data": {
            "image/png": "[encoded data removed]",
            "text/plain": [
              "<Figure size 432x288 with 1 Axes>"
            ]
          },
          "metadata": {
            "tags": [],
            "needs_background": "light"
          }
        }
      ]
    },
    {
      "cell_type": "code",
      "metadata": {
        "colab": {
          "base_uri": "https://localhost:8080/",
          "height": 297
        },
        "id": "aXhAn1GKI6p6",
        "outputId": "d6349cea-c3fa-4364-9d57-6f7076d956db"
      },
      "source": [
        "#Show FixedAcidity distribution\n",
        "df3.hist(column=['FixedAcidity']);\n",
        "plt.ylabel(\"Number of Records\")\n",
        "plt.title(\"FixedAcidity\")"
      ],
      "execution_count": 15,
      "outputs": [
        {
          "output_type": "execute_result",
          "data": {
            "text/plain": [
              "Text(0.5, 1.0, 'FixedAcidity')"
            ]
          },
          "metadata": {
            "tags": []
          },
          "execution_count": 15
        },
        {
          "output_type": "display_data",
          "data": {
            "image/png": "[encoded data removed]",
            "text/plain": [
              "<Figure size 432x288 with 1 Axes>"
            ]
          },
          "metadata": {
            "tags": [],
            "needs_background": "light"
          }
        }
      ]
    },
    {
      "cell_type": "code",
      "metadata": {
        "colab": {
          "base_uri": "https://localhost:8080/",
          "height": 297
        },
        "id": "y0DgGU4oImd4",
        "outputId": "067bbeb1-b65a-455e-e297-84a8932f5dde"
      },
      "source": [
        "#Show VolatileAcidity distribution\n",
        "df3.boxplot(column=['VolatileAcidity'], return_type='axes');\n",
        "plt.title(\"VolatileAcidity\")\n",
        "\n"
      ],
      "execution_count": 16,
      "outputs": [
        {
          "output_type": "execute_result",
          "data": {
            "text/plain": [
              "Text(0.5, 1.0, 'VolatileAcidity')"
            ]
          },
          "metadata": {
            "tags": []
          },
          "execution_count": 16
        },
        {
          "output_type": "display_data",
          "data": {
            "image/png": "[encoded data removed]",
            "text/plain": [
              "<Figure size 432x288 with 1 Axes>"
            ]
          },
          "metadata": {
            "tags": [],
            "needs_background": "light"
          }
        }
      ]
    },
    {
      "cell_type": "code",
      "metadata": {
        "colab": {
          "base_uri": "https://localhost:8080/",
          "height": 297
        },
        "id": "9b_JA-66Imd5",
        "outputId": "c82027a2-e524-42c3-ca57-e20cc92d0b78"
      },
      "source": [
        "#Show VolatileAcidity distribution\n",
        "df3.hist(column=['VolatileAcidity']);\n",
        "plt.ylabel(\"Number of Records\")\n",
        "plt.title(\"VolatileAcidity\")"
      ],
      "execution_count": 17,
      "outputs": [
        {
          "output_type": "execute_result",
          "data": {
            "text/plain": [
              "Text(0.5, 1.0, 'VolatileAcidity')"
            ]
          },
          "metadata": {
            "tags": []
          },
          "execution_count": 17
        },
        {
          "output_type": "display_data",
          "data": {
            "image/png": "[encoded data removed]",
            "text/plain": [
              "<Figure size 432x288 with 1 Axes>"
            ]
          },
          "metadata": {
            "tags": [],
            "needs_background": "light"
          }
        }
      ]
    },
    {
      "cell_type": "code",
      "metadata": {
        "colab": {
          "base_uri": "https://localhost:8080/",
          "height": 297
        },
        "id": "e0Cdb9XEIeqG",
        "outputId": "b780c0c0-341b-46cc-dec7-0d728ed4c7f1"
      },
      "source": [
        "#Show CitricAcid distribution\n",
        "df3.boxplot(column=['CitricAcid'], return_type='axes');\n",
        "plt.title(\"CitricAcid\")\n",
        "\n"
      ],
      "execution_count": 18,
      "outputs": [
        {
          "output_type": "execute_result",
          "data": {
            "text/plain": [
              "Text(0.5, 1.0, 'CitricAcid')"
            ]
          },
          "metadata": {
            "tags": []
          },
          "execution_count": 18
        },
        {
          "output_type": "display_data",
          "data": {
            "image/png": "[encoded data removed]",
            "text/plain": [
              "<Figure size 432x288 with 1 Axes>"
            ]
          },
          "metadata": {
            "tags": [],
            "needs_background": "light"
          }
        }
      ]
    },
    {
      "cell_type": "code",
      "metadata": {
        "colab": {
          "base_uri": "https://localhost:8080/",
          "height": 297
        },
        "id": "mv8l6m6uIeqI",
        "outputId": "61015303-6df1-4997-f9b1-4f4eeab659c3"
      },
      "source": [
        "#Show CitricAcid distribution\n",
        "df3.hist(column=['CitricAcid']);\n",
        "plt.ylabel(\"Number of Records\")\n",
        "plt.title(\"CitricAcid\")"
      ],
      "execution_count": 19,
      "outputs": [
        {
          "output_type": "execute_result",
          "data": {
            "text/plain": [
              "Text(0.5, 1.0, 'CitricAcid')"
            ]
          },
          "metadata": {
            "tags": []
          },
          "execution_count": 19
        },
        {
          "output_type": "display_data",
          "data": {
            "image/png": "[encoded data removed]",
            "text/plain": [
              "<Figure size 432x288 with 1 Axes>"
            ]
          },
          "metadata": {
            "tags": [],
            "needs_background": "light"
          }
        }
      ]
    },
    {
      "cell_type": "code",
      "metadata": {
        "colab": {
          "base_uri": "https://localhost:8080/",
          "height": 297
        },
        "id": "34mjQslnIfWN",
        "outputId": "4f5c43a3-5043-4830-99f2-93cf2c53ad2b"
      },
      "source": [
        "#Show ResidualSugar distribution\n",
        "df3.boxplot(column=['ResidualSugar'], return_type='axes');\n",
        "plt.title(\"ResidualSugar\")\n",
        "\n"
      ],
      "execution_count": 20,
      "outputs": [
        {
          "output_type": "execute_result",
          "data": {
            "text/plain": [
              "Text(0.5, 1.0, 'ResidualSugar')"
            ]
          },
          "metadata": {
            "tags": []
          },
          "execution_count": 20
        },
        {
          "output_type": "display_data",
          "data": {
            "image/png": "[encoded data removed]",
            "text/plain": [
              "<Figure size 432x288 with 1 Axes>"
            ]
          },
          "metadata": {
            "tags": [],
            "needs_background": "light"
          }
        }
      ]
    },
    {
      "cell_type": "code",
      "metadata": {
        "colab": {
          "base_uri": "https://localhost:8080/",
          "height": 297
        },
        "id": "XF1kW1_jIfWO",
        "outputId": "8ba527e8-1d32-454b-da51-9b41ffbca9f2"
      },
      "source": [
        "#Show ResidualSugar distribution\n",
        "df3.hist(column=['ResidualSugar']);\n",
        "plt.ylabel(\"Number of Records\")\n",
        "plt.title(\"ResidualSugar\")"
      ],
      "execution_count": 21,
      "outputs": [
        {
          "output_type": "execute_result",
          "data": {
            "text/plain": [
              "Text(0.5, 1.0, 'ResidualSugar')"
            ]
          },
          "metadata": {
            "tags": []
          },
          "execution_count": 21
        },
        {
          "output_type": "display_data",
          "data": {
            "image/png": "[encoded data removed]",
            "text/plain": [
              "<Figure size 432x288 with 1 Axes>"
            ]
          },
          "metadata": {
            "tags": [],
            "needs_background": "light"
          }
        }
      ]
    },
    {
      "cell_type": "code",
      "metadata": {
        "colab": {
          "base_uri": "https://localhost:8080/",
          "height": 297
        },
        "id": "exVe7Q8oJGmL",
        "outputId": "dcfd8116-eba4-49f8-d9dd-82109c404c4d"
      },
      "source": [
        "#Show Chlorides distribution\n",
        "df3.boxplot(column=['Chlorides'], return_type='axes');\n",
        "plt.title(\"Chlorides\")\n",
        "\n"
      ],
      "execution_count": 22,
      "outputs": [
        {
          "output_type": "execute_result",
          "data": {
            "text/plain": [
              "Text(0.5, 1.0, 'Chlorides')"
            ]
          },
          "metadata": {
            "tags": []
          },
          "execution_count": 22
        },
        {
          "output_type": "display_data",
          "data": {
            "image/png": "[encoded data removed]",
            "text/plain": [
              "<Figure size 432x288 with 1 Axes>"
            ]
          },
          "metadata": {
            "tags": [],
            "needs_background": "light"
          }
        }
      ]
    },
    {
      "cell_type": "code",
      "metadata": {
        "colab": {
          "base_uri": "https://localhost:8080/",
          "height": 297
        },
        "id": "EHXbbIsNJGmN",
        "outputId": "058f3601-6f5e-4364-e212-71d67d0ec74d"
      },
      "source": [
        "#Show Chlorides distribution\n",
        "df3.hist(column=['Chlorides']);\n",
        "plt.ylabel(\"Number of Records\")\n",
        "plt.title(\"Chlorides\")"
      ],
      "execution_count": 23,
      "outputs": [
        {
          "output_type": "execute_result",
          "data": {
            "text/plain": [
              "Text(0.5, 1.0, 'Chlorides')"
            ]
          },
          "metadata": {
            "tags": []
          },
          "execution_count": 23
        },
        {
          "output_type": "display_data",
          "data": {
            "image/png": "[encoded data removed]",
            "text/plain": [
              "<Figure size 432x288 with 1 Axes>"
            ]
          },
          "metadata": {
            "tags": [],
            "needs_background": "light"
          }
        }
      ]
    },
    {
      "cell_type": "code",
      "metadata": {
        "colab": {
          "base_uri": "https://localhost:8080/",
          "height": 297
        },
        "id": "CXPlui5rJM8q",
        "outputId": "917c44d8-d5e2-4dd1-e2ad-45a55f21e543"
      },
      "source": [
        "#Show FreeSulfurDioxide distribution\n",
        "df3.boxplot(column=['FreeSulfurDioxide'], return_type='axes');\n",
        "plt.title(\"FreeSulfurDioxide\")\n",
        "\n"
      ],
      "execution_count": 24,
      "outputs": [
        {
          "output_type": "execute_result",
          "data": {
            "text/plain": [
              "Text(0.5, 1.0, 'FreeSulfurDioxide')"
            ]
          },
          "metadata": {
            "tags": []
          },
          "execution_count": 24
        },
        {
          "output_type": "display_data",
          "data": {
            "image/png": "[encoded data removed]",
            "text/plain": [
              "<Figure size 432x288 with 1 Axes>"
            ]
          },
          "metadata": {
            "tags": [],
            "needs_background": "light"
          }
        }
      ]
    },
    {
      "cell_type": "code",
      "metadata": {
        "colab": {
          "base_uri": "https://localhost:8080/",
          "height": 297
        },
        "id": "dw3ZdPixJM8r",
        "outputId": "ca55c8e5-8d39-4571-88ef-90ea52434e09"
      },
      "source": [
        "#Show FreeSulfurDioxide distribution\n",
        "df3.hist(column=['FreeSulfurDioxide']);\n",
        "plt.ylabel(\"Number of Records\")\n",
        "plt.title(\"FreeSulfurDioxide\")"
      ],
      "execution_count": 25,
      "outputs": [
        {
          "output_type": "execute_result",
          "data": {
            "text/plain": [
              "Text(0.5, 1.0, 'FreeSulfurDioxide')"
            ]
          },
          "metadata": {
            "tags": []
          },
          "execution_count": 25
        },
        {
          "output_type": "display_data",
          "data": {
            "image/png": "[encoded data removed]",
            "text/plain": [
              "<Figure size 432x288 with 1 Axes>"
            ]
          },
          "metadata": {
            "tags": [],
            "needs_background": "light"
          }
        }
      ]
    },
    {
      "cell_type": "code",
      "metadata": {
        "colab": {
          "base_uri": "https://localhost:8080/",
          "height": 297
        },
        "id": "y3RI9WcAJNwP",
        "outputId": "45937476-714d-4434-c8a8-aa7e68131b20"
      },
      "source": [
        "#Show TotalSulfurDioxide distribution\n",
        "df3.boxplot(column=['TotalSulfurDioxide'], return_type='axes');\n",
        "plt.title(\"TotalSulfurDioxide\")\n",
        "\n"
      ],
      "execution_count": 26,
      "outputs": [
        {
          "output_type": "execute_result",
          "data": {
            "text/plain": [
              "Text(0.5, 1.0, 'TotalSulfurDioxide')"
            ]
          },
          "metadata": {
            "tags": []
          },
          "execution_count": 26
        },
        {
          "output_type": "display_data",
          "data": {
            "image/png": "[encoded data removed]",
            "text/plain": [
              "<Figure size 432x288 with 1 Axes>"
            ]
          },
          "metadata": {
            "tags": [],
            "needs_background": "light"
          }
        }
      ]
    },
    {
      "cell_type": "code",
      "metadata": {
        "colab": {
          "base_uri": "https://localhost:8080/",
          "height": 297
        },
        "id": "O6e-RiwHJNwQ",
        "outputId": "c230bca1-104e-468f-fead-bfa78c3f7a99"
      },
      "source": [
        "#Show TotalSulfurDioxide distribution\n",
        "df3.hist(column=['TotalSulfurDioxide']);\n",
        "plt.ylabel(\"Number of Records\")\n",
        "plt.title(\"TotalSulfurDioxide\")"
      ],
      "execution_count": 27,
      "outputs": [
        {
          "output_type": "execute_result",
          "data": {
            "text/plain": [
              "Text(0.5, 1.0, 'TotalSulfurDioxide')"
            ]
          },
          "metadata": {
            "tags": []
          },
          "execution_count": 27
        },
        {
          "output_type": "display_data",
          "data": {
            "image/png": "[encoded data removed]",
            "text/plain": [
              "<Figure size 432x288 with 1 Axes>"
            ]
          },
          "metadata": {
            "tags": [],
            "needs_background": "light"
          }
        }
      ]
    },
    {
      "cell_type": "code",
      "metadata": {
        "colab": {
          "base_uri": "https://localhost:8080/",
          "height": 297
        },
        "id": "K65VmMhSJOZQ",
        "outputId": "b94b5545-d7fa-4364-d63f-0f48332164bb"
      },
      "source": [
        "#Show Density distribution\n",
        "df3.boxplot(column=['Density'], return_type='axes');\n",
        "plt.title(\"Density\")\n",
        "\n"
      ],
      "execution_count": 28,
      "outputs": [
        {
          "output_type": "execute_result",
          "data": {
            "text/plain": [
              "Text(0.5, 1.0, 'Density')"
            ]
          },
          "metadata": {
            "tags": []
          },
          "execution_count": 28
        },
        {
          "output_type": "display_data",
          "data": {
            "image/png": "[encoded data removed]",
            "text/plain": [
              "<Figure size 432x288 with 1 Axes>"
            ]
          },
          "metadata": {
            "tags": [],
            "needs_background": "light"
          }
        }
      ]
    },
    {
      "cell_type": "code",
      "metadata": {
        "colab": {
          "base_uri": "https://localhost:8080/",
          "height": 297
        },
        "id": "hTkEPO6jJOZR",
        "outputId": "a65ed9c2-8a56-4224-bd2e-3c040972d56e"
      },
      "source": [
        "#Show Density distribution\n",
        "df3.hist(column=['Density']);\n",
        "plt.ylabel(\"Number of Records\")\n",
        "plt.title(\"Density\")"
      ],
      "execution_count": 29,
      "outputs": [
        {
          "output_type": "execute_result",
          "data": {
            "text/plain": [
              "Text(0.5, 1.0, 'Density')"
            ]
          },
          "metadata": {
            "tags": []
          },
          "execution_count": 29
        },
        {
          "output_type": "display_data",
          "data": {
            "image/png": "[encoded data removed]",
            "text/plain": [
              "<Figure size 432x288 with 1 Axes>"
            ]
          },
          "metadata": {
            "tags": [],
            "needs_background": "light"
          }
        }
      ]
    },
    {
      "cell_type": "code",
      "metadata": {
        "colab": {
          "base_uri": "https://localhost:8080/",
          "height": 297
        },
        "id": "v8yu62PgJO90",
        "outputId": "6d77b8c0-35b9-48dd-90e3-35c27edd4eca"
      },
      "source": [
        "#Show PH distribution\n",
        "df3.boxplot(column=['pH'], return_type='axes');\n",
        "plt.title(\"pH\")\n",
        "\n"
      ],
      "execution_count": 30,
      "outputs": [
        {
          "output_type": "execute_result",
          "data": {
            "text/plain": [
              "Text(0.5, 1.0, 'pH')"
            ]
          },
          "metadata": {
            "tags": []
          },
          "execution_count": 30
        },
        {
          "output_type": "display_data",
          "data": {
            "image/png": "[encoded data removed]",
            "text/plain": [
              "<Figure size 432x288 with 1 Axes>"
            ]
          },
          "metadata": {
            "tags": [],
            "needs_background": "light"
          }
        }
      ]
    },
    {
      "cell_type": "code",
      "metadata": {
        "colab": {
          "base_uri": "https://localhost:8080/",
          "height": 297
        },
        "id": "0i2k7CzdJO91",
        "outputId": "5ccddae8-1d99-43fe-a899-740ba3ac7b7c"
      },
      "source": [
        "#Show PH distribution\n",
        "df3.hist(column=['pH']);\n",
        "plt.ylabel(\"Number of Records\")\n",
        "plt.title(\"pH\")"
      ],
      "execution_count": 31,
      "outputs": [
        {
          "output_type": "execute_result",
          "data": {
            "text/plain": [
              "Text(0.5, 1.0, 'pH')"
            ]
          },
          "metadata": {
            "tags": []
          },
          "execution_count": 31
        },
        {
          "output_type": "display_data",
          "data": {
            "image/png": "[encoded data removed]",
            "text/plain": [
              "<Figure size 432x288 with 1 Axes>"
            ]
          },
          "metadata": {
            "tags": [],
            "needs_background": "light"
          }
        }
      ]
    },
    {
      "cell_type": "code",
      "metadata": {
        "colab": {
          "base_uri": "https://localhost:8080/",
          "height": 297
        },
        "id": "Av-aXxAaLl5-",
        "outputId": "1474f20c-1675-46c4-ee67-af5ebf25dbd9"
      },
      "source": [
        "#Show Sulphates distribution\n",
        "df3.boxplot(column=['Sulphates'], return_type='axes');\n",
        "plt.title(\"Sulphates\")\n",
        "\n"
      ],
      "execution_count": 32,
      "outputs": [
        {
          "output_type": "execute_result",
          "data": {
            "text/plain": [
              "Text(0.5, 1.0, 'Sulphates')"
            ]
          },
          "metadata": {
            "tags": []
          },
          "execution_count": 32
        },
        {
          "output_type": "display_data",
          "data": {
            "image/png": "[encoded data removed]",
            "text/plain": [
              "<Figure size 432x288 with 1 Axes>"
            ]
          },
          "metadata": {
            "tags": [],
            "needs_background": "light"
          }
        }
      ]
    },
    {
      "cell_type": "code",
      "metadata": {
        "colab": {
          "base_uri": "https://localhost:8080/",
          "height": 297
        },
        "id": "b5jBCBAWLl5_",
        "outputId": "a82eacdb-0458-4947-c906-4646b8fa63d8"
      },
      "source": [
        "#Show Sulphates distribution\n",
        "df3.hist(column=['Sulphates']);\n",
        "plt.ylabel(\"Number of Records\")\n",
        "plt.title(\"Sulphates\")"
      ],
      "execution_count": 33,
      "outputs": [
        {
          "output_type": "execute_result",
          "data": {
            "text/plain": [
              "Text(0.5, 1.0, 'Sulphates')"
            ]
          },
          "metadata": {
            "tags": []
          },
          "execution_count": 33
        },
        {
          "output_type": "display_data",
          "data": {
            "image/png": "[encoded data removed]",
            "text/plain": [
              "<Figure size 432x288 with 1 Axes>"
            ]
          },
          "metadata": {
            "tags": [],
            "needs_background": "light"
          }
        }
      ]
    },
    {
      "cell_type": "code",
      "metadata": {
        "colab": {
          "base_uri": "https://localhost:8080/",
          "height": 297
        },
        "id": "w5FhYTnsLmqJ",
        "outputId": "5142f159-20c4-4d32-dcce-c4efd806fa17"
      },
      "source": [
        "#Show Alcohol distribution\n",
        "df3.boxplot(column=['Alcohol'], return_type='axes');\n",
        "plt.title(\"Alcohol\")\n",
        "\n"
      ],
      "execution_count": 34,
      "outputs": [
        {
          "output_type": "execute_result",
          "data": {
            "text/plain": [
              "Text(0.5, 1.0, 'Alcohol')"
            ]
          },
          "metadata": {
            "tags": []
          },
          "execution_count": 34
        },
        {
          "output_type": "display_data",
          "data": {
            "image/png": "[encoded data removed]",
            "text/plain": [
              "<Figure size 432x288 with 1 Axes>"
            ]
          },
          "metadata": {
            "tags": [],
            "needs_background": "light"
          }
        }
      ]
    },
    {
      "cell_type": "code",
      "metadata": {
        "colab": {
          "base_uri": "https://localhost:8080/",
          "height": 297
        },
        "id": "SeDklqznLmqK",
        "outputId": "816888ca-fe5b-4b16-942b-3d159bd8ffae"
      },
      "source": [
        "#Show Alcohol distribution\n",
        "df3.hist(column=['Alcohol']);\n",
        "plt.ylabel(\"Number of Records\")\n",
        "plt.title(\"Alcohol\")"
      ],
      "execution_count": 35,
      "outputs": [
        {
          "output_type": "execute_result",
          "data": {
            "text/plain": [
              "Text(0.5, 1.0, 'Alcohol')"
            ]
          },
          "metadata": {
            "tags": []
          },
          "execution_count": 35
        },
        {
          "output_type": "display_data",
          "data": {
            "image/png": "[encoded data removed]",
            "text/plain": [
              "<Figure size 432x288 with 1 Axes>"
            ]
          },
          "metadata": {
            "tags": [],
            "needs_background": "light"
          }
        }
      ]
    },
    {
      "cell_type": "code",
      "metadata": {
        "colab": {
          "base_uri": "https://localhost:8080/",
          "height": 297
        },
        "id": "A5F47ynQLnjo",
        "outputId": "6118b71c-24da-49e9-d0b3-2851693d0a21"
      },
      "source": [
        "#Show LabelAppeal distribution\n",
        "df3.boxplot(column=['LabelAppeal'], return_type='axes');\n",
        "plt.title(\"LabelAppeal\")\n",
        "\n"
      ],
      "execution_count": 36,
      "outputs": [
        {
          "output_type": "execute_result",
          "data": {
            "text/plain": [
              "Text(0.5, 1.0, 'LabelAppeal')"
            ]
          },
          "metadata": {
            "tags": []
          },
          "execution_count": 36
        },
        {
          "output_type": "display_data",
          "data": {
            "image/png": "[encoded data removed]",
            "text/plain": [
              "<Figure size 432x288 with 1 Axes>"
            ]
          },
          "metadata": {
            "tags": [],
            "needs_background": "light"
          }
        }
      ]
    },
    {
      "cell_type": "code",
      "metadata": {
        "colab": {
          "base_uri": "https://localhost:8080/",
          "height": 297
        },
        "id": "N_lQkUrsLnjp",
        "outputId": "c27b01f8-a3e9-4718-eeb1-d5bc6a42fae6"
      },
      "source": [
        "#Show LabelAppeal distribution\n",
        "df3.hist(column=['LabelAppeal']);\n",
        "plt.ylabel(\"Number of Records\")\n",
        "plt.title(\"LabelAppeal\")"
      ],
      "execution_count": 37,
      "outputs": [
        {
          "output_type": "execute_result",
          "data": {
            "text/plain": [
              "Text(0.5, 1.0, 'LabelAppeal')"
            ]
          },
          "metadata": {
            "tags": []
          },
          "execution_count": 37
        },
        {
          "output_type": "display_data",
          "data": {
            "image/png": "[encoded data removed]",
            "text/plain": [
              "<Figure size 432x288 with 1 Axes>"
            ]
          },
          "metadata": {
            "tags": [],
            "needs_background": "light"
          }
        }
      ]
    },
    {
      "cell_type": "code",
      "metadata": {
        "colab": {
          "base_uri": "https://localhost:8080/",
          "height": 297
        },
        "id": "5sgm08A-LoJi",
        "outputId": "0c881c77-3100-4211-cd2d-12188e2e67d5"
      },
      "source": [
        "#Show AcidIndex distribution\n",
        "df3.boxplot(column=['AcidIndex'], return_type='axes');\n",
        "plt.title(\"AcidIndex\")\n",
        "\n"
      ],
      "execution_count": 38,
      "outputs": [
        {
          "output_type": "execute_result",
          "data": {
            "text/plain": [
              "Text(0.5, 1.0, 'AcidIndex')"
            ]
          },
          "metadata": {
            "tags": []
          },
          "execution_count": 38
        },
        {
          "output_type": "display_data",
          "data": {
            "image/png": "[encoded data removed]",
            "text/plain": [
              "<Figure size 432x288 with 1 Axes>"
            ]
          },
          "metadata": {
            "tags": [],
            "needs_background": "light"
          }
        }
      ]
    },
    {
      "cell_type": "code",
      "metadata": {
        "colab": {
          "base_uri": "https://localhost:8080/",
          "height": 297
        },
        "id": "N5_GhVKhLoJi",
        "outputId": "9d5d7986-d797-46ec-807a-452e00ae2254"
      },
      "source": [
        "#Show AcidIndex distribution\n",
        "df3.hist(column=['AcidIndex']);\n",
        "plt.ylabel(\"Number of Records\")\n",
        "plt.title(\"AcidIndex\")"
      ],
      "execution_count": 39,
      "outputs": [
        {
          "output_type": "execute_result",
          "data": {
            "text/plain": [
              "Text(0.5, 1.0, 'AcidIndex')"
            ]
          },
          "metadata": {
            "tags": []
          },
          "execution_count": 39
        },
        {
          "output_type": "display_data",
          "data": {
            "image/png": "[encoded data removed]",
            "text/plain": [
              "<Figure size 432x288 with 1 Axes>"
            ]
          },
          "metadata": {
            "tags": [],
            "needs_background": "light"
          }
        }
      ]
    },
    {
      "cell_type": "code",
      "metadata": {
        "colab": {
          "base_uri": "https://localhost:8080/",
          "height": 297
        },
        "id": "R0tvbD4FNKUu",
        "outputId": "ea37d7fd-e47c-45c5-b919-44210c69f6b7"
      },
      "source": [
        "#Show STARS distribution\n",
        "df3.boxplot(column=['STARS'], return_type='axes');\n",
        "plt.title(\"STARS\")\n",
        "\n"
      ],
      "execution_count": 40,
      "outputs": [
        {
          "output_type": "execute_result",
          "data": {
            "text/plain": [
              "Text(0.5, 1.0, 'STARS')"
            ]
          },
          "metadata": {
            "tags": []
          },
          "execution_count": 40
        },
        {
          "output_type": "display_data",
          "data": {
            "image/png": "[encoded data removed]",
            "text/plain": [
              "<Figure size 432x288 with 1 Axes>"
            ]
          },
          "metadata": {
            "tags": [],
            "needs_background": "light"
          }
        }
      ]
    },
    {
      "cell_type": "code",
      "metadata": {
        "colab": {
          "base_uri": "https://localhost:8080/",
          "height": 297
        },
        "id": "HfiGnn7KNKU6",
        "outputId": "51a01181-e862-487f-dc1e-dadbdbec6996"
      },
      "source": [
        "#Show STARS distribution\n",
        "df3.hist(column=['STARS']);\n",
        "plt.ylabel(\"Number of Records\")\n",
        "plt.title(\"STARS\")"
      ],
      "execution_count": 41,
      "outputs": [
        {
          "output_type": "execute_result",
          "data": {
            "text/plain": [
              "Text(0.5, 1.0, 'STARS')"
            ]
          },
          "metadata": {
            "tags": []
          },
          "execution_count": 41
        },
        {
          "output_type": "display_data",
          "data": {
            "image/png": "[encoded data removed]",
            "text/plain": [
              "<Figure size 432x288 with 1 Axes>"
            ]
          },
          "metadata": {
            "tags": [],
            "needs_background": "light"
          }
        }
      ]
    },
    {
      "cell_type": "code",
      "metadata": {
        "id": "vZ1RgXvImbP7",
        "colab": {
          "base_uri": "https://localhost:8080/",
          "height": 350
        },
        "outputId": "ab8be74c-fd9e-480d-c5bd-ed2d0e877840"
      },
      "source": [
        "from matplotlib import rcParams\n",
        "\n",
        "# plot the heatmap\n",
        "corr = df3.corr()\n",
        "sns.heatmap(corr, xticklabels=corr.columns, yticklabels=corr.columns, linewidths=1, annot=False, cmap=sns.diverging_palette(220, 20, as_cmap=True))\n",
        "rcParams[\"figure.figsize\"] =10, 10"
      ],
      "execution_count": 42,
      "outputs": [
        {
          "output_type": "display_data",
          "data": {
            "image/png": "[encoded data removed]",
            "text/plain": [
              "<Figure size 432x288 with 2 Axes>"
            ]
          },
          "metadata": {
            "tags": [],
            "needs_background": "light"
          }
        }
      ]
    },
    {
      "cell_type": "markdown",
      "metadata": {
        "id": "aSazCboDBQIn"
      },
      "source": [
        "## **Data Preperation**"
      ]
    },
    {
      "cell_type": "markdown",
      "metadata": {
        "id": "m0iZ_kPGjcbJ"
      },
      "source": [
        "For the Data Preparation, we have performed the following operations to resolve the issues previously discovered in the exploratory data analysis.\n",
        "\n",
        "- We filled in all missing values using np.random.randn() to fill in each missing value with a random value from that column's range. This resolved all issues except for the missing STARS column. which needed to have all now incorrect floating-point values rounded to the nearest whole number.\n",
        "\n",
        "-Next, we corrected all the data with incorrect negative values by using .abs() to substitute them for positive values.\n"
      ]
    },
    {
      "cell_type": "code",
      "metadata": {
        "id": "JVDRetzcQWaT"
      },
      "source": [
        "import numpy as np"
      ],
      "execution_count": 43,
      "outputs": []
    },
    {
      "cell_type": "code",
      "metadata": {
        "id": "53dlTfaIDwZ_"
      },
      "source": [
        "df3[\"ResidualSugar\"].fillna(value=np.random.randn(), inplace=True)\n",
        "df3[\"Chlorides\"].fillna(value=np.random.randn(), inplace=True)\n",
        "df3[\"FreeSulfurDioxide\"].fillna(value=np.random.randn(), inplace=True)\n",
        "df3[\"TotalSulfurDioxide\"].fillna(value=np.random.randn(), inplace=True)\n",
        "df3[\"Density\"].fillna(value=np.random.randn(), inplace=True)       \n",
        "df3[\"pH\"].fillna(value=np.random.randn(), inplace=True)           \n",
        "df3[\"Sulphates\"].fillna(value=np.random.randn(), inplace=True)      \n",
        "df3[\"Alcohol\"].fillna(value=np.random.randn(), inplace=True)           \n",
        "df3[\"LabelAppeal\"].fillna(value=np.random.randn(), inplace=True)            \n",
        "df3[\"AcidIndex\"].fillna(value=np.random.randn(), inplace=True)\n",
        "df3[\"STARS\"].fillna(value=np.random.randn(), inplace=True)  "
      ],
      "execution_count": 44,
      "outputs": []
    },
    {
      "cell_type": "code",
      "metadata": {
        "id": "x11V-91LBSqJ"
      },
      "source": [
        "df3['FixedAcidity'] = df3['FixedAcidity'].abs()\n",
        "df3['VolatileAcidity'] = df3['VolatileAcidity'].abs()\n",
        "df3[\"CitricAcid\"] = df3[\"CitricAcid\"].abs()\n",
        "df3[\"ResidualSugar\"] = df3[\"ResidualSugar\"].abs()\n",
        "df3[\"Chlorides\"] = df3[\"Chlorides\"].abs()\n",
        "df3['FreeSulfurDioxide'] = df3['FreeSulfurDioxide'].abs()\n",
        "df3['TotalSulfurDioxide'] = df3['TotalSulfurDioxide'].abs()\n",
        "df3[\"Sulphates\"] = df3[\"Sulphates\"].abs()\n",
        "df3[\"Alcohol\"] = df3[\"Alcohol\"].abs()"
      ],
      "execution_count": 45,
      "outputs": []
    },
    {
      "cell_type": "code",
      "metadata": {
        "id": "LCr0OkTvTWMN"
      },
      "source": [
        "df3[\"STARS\"] = df3[\"STARS\"].round(decimals=0)"
      ],
      "execution_count": 46,
      "outputs": []
    },
    {
      "cell_type": "markdown",
      "metadata": {
        "id": "0pcUj0EuBQob"
      },
      "source": [
        "## **Prepped Data Review**"
      ]
    },
    {
      "cell_type": "markdown",
      "metadata": {
        "id": "_WKAObevluHw"
      },
      "source": [
        "For our data review, we gained the following insights.\n",
        "\n",
        "-Our Target distribution remained largely identical.\n",
        "\n",
        "-FixedAcidity, VolatileAcidity, CitricAcid, ResidualSugar, Chlorides, FreeSulfurDioxide, TotalSulfurDioxide, Sulphates, and Alcohol now no longer have any negative values and have a new distribution as a result.\n",
        "\n",
        "-We see that aside from the fixed negative numbers the overall distribution of the data remains the same after filling in missing values. This is good as we did not want the distribution of the data to change as a result of our imputation."
      ]
    },
    {
      "cell_type": "code",
      "metadata": {
        "colab": {
          "base_uri": "https://localhost:8080/",
          "height": 434
        },
        "id": "fm4Ko5mVBIwZ",
        "outputId": "be436696-3497-42ea-8493-9248ea7d6841"
      },
      "source": [
        "#Show The Data\n",
        "df3"
      ],
      "execution_count": 47,
      "outputs": [
        {
          "output_type": "execute_result",
          "data": {
            "text/html": [
              "<div>\n",
              "<style scoped>\n",
              "    .dataframe tbody tr th:only-of-type {\n",
              "        vertical-align: middle;\n",
              "    }\n",
              "\n",
              "    .dataframe tbody tr th {\n",
              "        vertical-align: top;\n",
              "    }\n",
              "\n",
              "    .dataframe thead th {\n",
              "        text-align: right;\n",
              "    }\n",
              "</style>\n",
              "<table border=\"1\" class=\"dataframe\">\n",
              "  <thead>\n",
              "    <tr style=\"text-align: right;\">\n",
              "      <th></th>\n",
              "      <th>INDEX</th>\n",
              "      <th>TARGET</th>\n",
              "      <th>FixedAcidity</th>\n",
              "      <th>VolatileAcidity</th>\n",
              "      <th>CitricAcid</th>\n",
              "      <th>ResidualSugar</th>\n",
              "      <th>Chlorides</th>\n",
              "      <th>FreeSulfurDioxide</th>\n",
              "      <th>TotalSulfurDioxide</th>\n",
              "      <th>Density</th>\n",
              "      <th>pH</th>\n",
              "      <th>Sulphates</th>\n",
              "      <th>Alcohol</th>\n",
              "      <th>LabelAppeal</th>\n",
              "      <th>AcidIndex</th>\n",
              "      <th>STARS</th>\n",
              "    </tr>\n",
              "  </thead>\n",
              "  <tbody>\n",
              "    <tr>\n",
              "      <th>0</th>\n",
              "      <td>1</td>\n",
              "      <td>3</td>\n",
              "      <td>3.2</td>\n",
              "      <td>1.160</td>\n",
              "      <td>0.98</td>\n",
              "      <td>54.200000</td>\n",
              "      <td>0.567000</td>\n",
              "      <td>0.030403</td>\n",
              "      <td>268.000000</td>\n",
              "      <td>0.99280</td>\n",
              "      <td>3.33</td>\n",
              "      <td>0.590000</td>\n",
              "      <td>9.900000</td>\n",
              "      <td>0</td>\n",
              "      <td>8</td>\n",
              "      <td>2.0</td>\n",
              "    </tr>\n",
              "    <tr>\n",
              "      <th>1</th>\n",
              "      <td>2</td>\n",
              "      <td>3</td>\n",
              "      <td>4.5</td>\n",
              "      <td>0.160</td>\n",
              "      <td>0.81</td>\n",
              "      <td>26.100000</td>\n",
              "      <td>0.425000</td>\n",
              "      <td>15.000000</td>\n",
              "      <td>327.000000</td>\n",
              "      <td>1.02792</td>\n",
              "      <td>3.38</td>\n",
              "      <td>0.700000</td>\n",
              "      <td>2.555639</td>\n",
              "      <td>-1</td>\n",
              "      <td>7</td>\n",
              "      <td>3.0</td>\n",
              "    </tr>\n",
              "    <tr>\n",
              "      <th>2</th>\n",
              "      <td>4</td>\n",
              "      <td>5</td>\n",
              "      <td>7.1</td>\n",
              "      <td>2.640</td>\n",
              "      <td>0.88</td>\n",
              "      <td>14.800000</td>\n",
              "      <td>0.037000</td>\n",
              "      <td>214.000000</td>\n",
              "      <td>142.000000</td>\n",
              "      <td>0.99518</td>\n",
              "      <td>3.12</td>\n",
              "      <td>0.480000</td>\n",
              "      <td>22.000000</td>\n",
              "      <td>-1</td>\n",
              "      <td>8</td>\n",
              "      <td>3.0</td>\n",
              "    </tr>\n",
              "    <tr>\n",
              "      <th>3</th>\n",
              "      <td>5</td>\n",
              "      <td>3</td>\n",
              "      <td>5.7</td>\n",
              "      <td>0.385</td>\n",
              "      <td>0.04</td>\n",
              "      <td>18.800000</td>\n",
              "      <td>0.425000</td>\n",
              "      <td>22.000000</td>\n",
              "      <td>115.000000</td>\n",
              "      <td>0.99640</td>\n",
              "      <td>2.24</td>\n",
              "      <td>1.830000</td>\n",
              "      <td>6.200000</td>\n",
              "      <td>-1</td>\n",
              "      <td>6</td>\n",
              "      <td>1.0</td>\n",
              "    </tr>\n",
              "    <tr>\n",
              "      <th>4</th>\n",
              "      <td>6</td>\n",
              "      <td>4</td>\n",
              "      <td>8.0</td>\n",
              "      <td>0.330</td>\n",
              "      <td>1.26</td>\n",
              "      <td>9.400000</td>\n",
              "      <td>1.394252</td>\n",
              "      <td>167.000000</td>\n",
              "      <td>108.000000</td>\n",
              "      <td>0.99457</td>\n",
              "      <td>3.12</td>\n",
              "      <td>1.770000</td>\n",
              "      <td>13.700000</td>\n",
              "      <td>0</td>\n",
              "      <td>9</td>\n",
              "      <td>2.0</td>\n",
              "    </tr>\n",
              "    <tr>\n",
              "      <th>...</th>\n",
              "      <td>...</td>\n",
              "      <td>...</td>\n",
              "      <td>...</td>\n",
              "      <td>...</td>\n",
              "      <td>...</td>\n",
              "      <td>...</td>\n",
              "      <td>...</td>\n",
              "      <td>...</td>\n",
              "      <td>...</td>\n",
              "      <td>...</td>\n",
              "      <td>...</td>\n",
              "      <td>...</td>\n",
              "      <td>...</td>\n",
              "      <td>...</td>\n",
              "      <td>...</td>\n",
              "      <td>...</td>\n",
              "    </tr>\n",
              "    <tr>\n",
              "      <th>12790</th>\n",
              "      <td>16120</td>\n",
              "      <td>0</td>\n",
              "      <td>5.0</td>\n",
              "      <td>0.790</td>\n",
              "      <td>2.01</td>\n",
              "      <td>5.000000</td>\n",
              "      <td>0.043000</td>\n",
              "      <td>17.000000</td>\n",
              "      <td>101.000000</td>\n",
              "      <td>1.01077</td>\n",
              "      <td>3.39</td>\n",
              "      <td>0.570000</td>\n",
              "      <td>4.900000</td>\n",
              "      <td>1</td>\n",
              "      <td>5</td>\n",
              "      <td>0.0</td>\n",
              "    </tr>\n",
              "    <tr>\n",
              "      <th>12791</th>\n",
              "      <td>16123</td>\n",
              "      <td>5</td>\n",
              "      <td>8.9</td>\n",
              "      <td>0.470</td>\n",
              "      <td>0.29</td>\n",
              "      <td>84.900000</td>\n",
              "      <td>0.259000</td>\n",
              "      <td>54.000000</td>\n",
              "      <td>1.187501</td>\n",
              "      <td>0.99518</td>\n",
              "      <td>4.46</td>\n",
              "      <td>1.200000</td>\n",
              "      <td>2.555639</td>\n",
              "      <td>-1</td>\n",
              "      <td>8</td>\n",
              "      <td>2.0</td>\n",
              "    </tr>\n",
              "    <tr>\n",
              "      <th>12792</th>\n",
              "      <td>16127</td>\n",
              "      <td>4</td>\n",
              "      <td>6.0</td>\n",
              "      <td>0.170</td>\n",
              "      <td>1.10</td>\n",
              "      <td>37.000000</td>\n",
              "      <td>0.078000</td>\n",
              "      <td>25.000000</td>\n",
              "      <td>108.000000</td>\n",
              "      <td>0.99076</td>\n",
              "      <td>3.25</td>\n",
              "      <td>1.610505</td>\n",
              "      <td>12.300000</td>\n",
              "      <td>0</td>\n",
              "      <td>6</td>\n",
              "      <td>2.0</td>\n",
              "    </tr>\n",
              "    <tr>\n",
              "      <th>12793</th>\n",
              "      <td>16128</td>\n",
              "      <td>3</td>\n",
              "      <td>7.7</td>\n",
              "      <td>0.320</td>\n",
              "      <td>0.12</td>\n",
              "      <td>1.240214</td>\n",
              "      <td>0.029000</td>\n",
              "      <td>26.000000</td>\n",
              "      <td>274.000000</td>\n",
              "      <td>0.99060</td>\n",
              "      <td>3.97</td>\n",
              "      <td>0.620000</td>\n",
              "      <td>11.000000</td>\n",
              "      <td>-1</td>\n",
              "      <td>6</td>\n",
              "      <td>2.0</td>\n",
              "    </tr>\n",
              "    <tr>\n",
              "      <th>12794</th>\n",
              "      <td>16129</td>\n",
              "      <td>4</td>\n",
              "      <td>5.2</td>\n",
              "      <td>0.040</td>\n",
              "      <td>0.81</td>\n",
              "      <td>52.700000</td>\n",
              "      <td>1.394252</td>\n",
              "      <td>106.000000</td>\n",
              "      <td>242.000000</td>\n",
              "      <td>0.99454</td>\n",
              "      <td>3.94</td>\n",
              "      <td>0.120000</td>\n",
              "      <td>9.900000</td>\n",
              "      <td>0</td>\n",
              "      <td>7</td>\n",
              "      <td>2.0</td>\n",
              "    </tr>\n",
              "  </tbody>\n",
              "</table>\n",
              "<p>12795 rows × 16 columns</p>\n",
              "</div>"
            ],
            "text/plain": [
              "       INDEX  TARGET  FixedAcidity  ...  LabelAppeal  AcidIndex  STARS\n",
              "0          1       3           3.2  ...            0          8    2.0\n",
              "1          2       3           4.5  ...           -1          7    3.0\n",
              "2          4       5           7.1  ...           -1          8    3.0\n",
              "3          5       3           5.7  ...           -1          6    1.0\n",
              "4          6       4           8.0  ...            0          9    2.0\n",
              "...      ...     ...           ...  ...          ...        ...    ...\n",
              "12790  16120       0           5.0  ...            1          5    0.0\n",
              "12791  16123       5           8.9  ...           -1          8    2.0\n",
              "12792  16127       4           6.0  ...            0          6    2.0\n",
              "12793  16128       3           7.7  ...           -1          6    2.0\n",
              "12794  16129       4           5.2  ...            0          7    2.0\n",
              "\n",
              "[12795 rows x 16 columns]"
            ]
          },
          "metadata": {
            "tags": []
          },
          "execution_count": 47
        }
      ]
    },
    {
      "cell_type": "code",
      "metadata": {
        "colab": {
          "base_uri": "https://localhost:8080/",
          "height": 222
        },
        "id": "oaGJ88h2BIwg",
        "outputId": "4fa973c2-1614-442f-9372-402f82d3d823"
      },
      "source": [
        "#Show the tail of the data\n",
        "df3.tail()"
      ],
      "execution_count": 48,
      "outputs": [
        {
          "output_type": "execute_result",
          "data": {
            "text/html": [
              "<div>\n",
              "<style scoped>\n",
              "    .dataframe tbody tr th:only-of-type {\n",
              "        vertical-align: middle;\n",
              "    }\n",
              "\n",
              "    .dataframe tbody tr th {\n",
              "        vertical-align: top;\n",
              "    }\n",
              "\n",
              "    .dataframe thead th {\n",
              "        text-align: right;\n",
              "    }\n",
              "</style>\n",
              "<table border=\"1\" class=\"dataframe\">\n",
              "  <thead>\n",
              "    <tr style=\"text-align: right;\">\n",
              "      <th></th>\n",
              "      <th>INDEX</th>\n",
              "      <th>TARGET</th>\n",
              "      <th>FixedAcidity</th>\n",
              "      <th>VolatileAcidity</th>\n",
              "      <th>CitricAcid</th>\n",
              "      <th>ResidualSugar</th>\n",
              "      <th>Chlorides</th>\n",
              "      <th>FreeSulfurDioxide</th>\n",
              "      <th>TotalSulfurDioxide</th>\n",
              "      <th>Density</th>\n",
              "      <th>pH</th>\n",
              "      <th>Sulphates</th>\n",
              "      <th>Alcohol</th>\n",
              "      <th>LabelAppeal</th>\n",
              "      <th>AcidIndex</th>\n",
              "      <th>STARS</th>\n",
              "    </tr>\n",
              "  </thead>\n",
              "  <tbody>\n",
              "    <tr>\n",
              "      <th>12790</th>\n",
              "      <td>16120</td>\n",
              "      <td>0</td>\n",
              "      <td>5.0</td>\n",
              "      <td>0.79</td>\n",
              "      <td>2.01</td>\n",
              "      <td>5.000000</td>\n",
              "      <td>0.043000</td>\n",
              "      <td>17.0</td>\n",
              "      <td>101.000000</td>\n",
              "      <td>1.01077</td>\n",
              "      <td>3.39</td>\n",
              "      <td>0.570000</td>\n",
              "      <td>4.900000</td>\n",
              "      <td>1</td>\n",
              "      <td>5</td>\n",
              "      <td>0.0</td>\n",
              "    </tr>\n",
              "    <tr>\n",
              "      <th>12791</th>\n",
              "      <td>16123</td>\n",
              "      <td>5</td>\n",
              "      <td>8.9</td>\n",
              "      <td>0.47</td>\n",
              "      <td>0.29</td>\n",
              "      <td>84.900000</td>\n",
              "      <td>0.259000</td>\n",
              "      <td>54.0</td>\n",
              "      <td>1.187501</td>\n",
              "      <td>0.99518</td>\n",
              "      <td>4.46</td>\n",
              "      <td>1.200000</td>\n",
              "      <td>2.555639</td>\n",
              "      <td>-1</td>\n",
              "      <td>8</td>\n",
              "      <td>2.0</td>\n",
              "    </tr>\n",
              "    <tr>\n",
              "      <th>12792</th>\n",
              "      <td>16127</td>\n",
              "      <td>4</td>\n",
              "      <td>6.0</td>\n",
              "      <td>0.17</td>\n",
              "      <td>1.10</td>\n",
              "      <td>37.000000</td>\n",
              "      <td>0.078000</td>\n",
              "      <td>25.0</td>\n",
              "      <td>108.000000</td>\n",
              "      <td>0.99076</td>\n",
              "      <td>3.25</td>\n",
              "      <td>1.610505</td>\n",
              "      <td>12.300000</td>\n",
              "      <td>0</td>\n",
              "      <td>6</td>\n",
              "      <td>2.0</td>\n",
              "    </tr>\n",
              "    <tr>\n",
              "      <th>12793</th>\n",
              "      <td>16128</td>\n",
              "      <td>3</td>\n",
              "      <td>7.7</td>\n",
              "      <td>0.32</td>\n",
              "      <td>0.12</td>\n",
              "      <td>1.240214</td>\n",
              "      <td>0.029000</td>\n",
              "      <td>26.0</td>\n",
              "      <td>274.000000</td>\n",
              "      <td>0.99060</td>\n",
              "      <td>3.97</td>\n",
              "      <td>0.620000</td>\n",
              "      <td>11.000000</td>\n",
              "      <td>-1</td>\n",
              "      <td>6</td>\n",
              "      <td>2.0</td>\n",
              "    </tr>\n",
              "    <tr>\n",
              "      <th>12794</th>\n",
              "      <td>16129</td>\n",
              "      <td>4</td>\n",
              "      <td>5.2</td>\n",
              "      <td>0.04</td>\n",
              "      <td>0.81</td>\n",
              "      <td>52.700000</td>\n",
              "      <td>1.394252</td>\n",
              "      <td>106.0</td>\n",
              "      <td>242.000000</td>\n",
              "      <td>0.99454</td>\n",
              "      <td>3.94</td>\n",
              "      <td>0.120000</td>\n",
              "      <td>9.900000</td>\n",
              "      <td>0</td>\n",
              "      <td>7</td>\n",
              "      <td>2.0</td>\n",
              "    </tr>\n",
              "  </tbody>\n",
              "</table>\n",
              "</div>"
            ],
            "text/plain": [
              "       INDEX  TARGET  FixedAcidity  ...  LabelAppeal  AcidIndex  STARS\n",
              "12790  16120       0           5.0  ...            1          5    0.0\n",
              "12791  16123       5           8.9  ...           -1          8    2.0\n",
              "12792  16127       4           6.0  ...            0          6    2.0\n",
              "12793  16128       3           7.7  ...           -1          6    2.0\n",
              "12794  16129       4           5.2  ...            0          7    2.0\n",
              "\n",
              "[5 rows x 16 columns]"
            ]
          },
          "metadata": {
            "tags": []
          },
          "execution_count": 48
        }
      ]
    },
    {
      "cell_type": "code",
      "metadata": {
        "colab": {
          "base_uri": "https://localhost:8080/",
          "height": 314
        },
        "id": "lgEBj9OQBIwg",
        "outputId": "d70ad833-a9f5-4830-fc36-9978d6697d43"
      },
      "source": [
        "#Show the description\n",
        "df3.describe()"
      ],
      "execution_count": 49,
      "outputs": [
        {
          "output_type": "execute_result",
          "data": {
            "text/html": [
              "<div>\n",
              "<style scoped>\n",
              "    .dataframe tbody tr th:only-of-type {\n",
              "        vertical-align: middle;\n",
              "    }\n",
              "\n",
              "    .dataframe tbody tr th {\n",
              "        vertical-align: top;\n",
              "    }\n",
              "\n",
              "    .dataframe thead th {\n",
              "        text-align: right;\n",
              "    }\n",
              "</style>\n",
              "<table border=\"1\" class=\"dataframe\">\n",
              "  <thead>\n",
              "    <tr style=\"text-align: right;\">\n",
              "      <th></th>\n",
              "      <th>INDEX</th>\n",
              "      <th>TARGET</th>\n",
              "      <th>FixedAcidity</th>\n",
              "      <th>VolatileAcidity</th>\n",
              "      <th>CitricAcid</th>\n",
              "      <th>ResidualSugar</th>\n",
              "      <th>Chlorides</th>\n",
              "      <th>FreeSulfurDioxide</th>\n",
              "      <th>TotalSulfurDioxide</th>\n",
              "      <th>Density</th>\n",
              "      <th>pH</th>\n",
              "      <th>Sulphates</th>\n",
              "      <th>Alcohol</th>\n",
              "      <th>LabelAppeal</th>\n",
              "      <th>AcidIndex</th>\n",
              "      <th>STARS</th>\n",
              "    </tr>\n",
              "  </thead>\n",
              "  <tbody>\n",
              "    <tr>\n",
              "      <th>count</th>\n",
              "      <td>12795.000000</td>\n",
              "      <td>12795.000000</td>\n",
              "      <td>12795.000000</td>\n",
              "      <td>12795.000000</td>\n",
              "      <td>12795.000000</td>\n",
              "      <td>12795.000000</td>\n",
              "      <td>12795.000000</td>\n",
              "      <td>12795.00000</td>\n",
              "      <td>12795.000000</td>\n",
              "      <td>12795.000000</td>\n",
              "      <td>12795.000000</td>\n",
              "      <td>12795.000000</td>\n",
              "      <td>12795.000000</td>\n",
              "      <td>12795.000000</td>\n",
              "      <td>12795.000000</td>\n",
              "      <td>12795.000000</td>\n",
              "    </tr>\n",
              "    <tr>\n",
              "      <th>mean</th>\n",
              "      <td>8069.980305</td>\n",
              "      <td>3.029074</td>\n",
              "      <td>8.063251</td>\n",
              "      <td>0.641086</td>\n",
              "      <td>0.686315</td>\n",
              "      <td>22.302503</td>\n",
              "      <td>0.280983</td>\n",
              "      <td>101.28618</td>\n",
              "      <td>193.491784</td>\n",
              "      <td>0.994203</td>\n",
              "      <td>3.107903</td>\n",
              "      <td>0.918903</td>\n",
              "      <td>10.117119</td>\n",
              "      <td>-0.009066</td>\n",
              "      <td>7.772724</td>\n",
              "      <td>1.505744</td>\n",
              "    </tr>\n",
              "    <tr>\n",
              "      <th>std</th>\n",
              "      <td>4656.905107</td>\n",
              "      <td>1.926368</td>\n",
              "      <td>4.996119</td>\n",
              "      <td>0.555614</td>\n",
              "      <td>0.606005</td>\n",
              "      <td>24.794441</td>\n",
              "      <td>0.342346</td>\n",
              "      <td>107.89493</td>\n",
              "      <td>165.139630</td>\n",
              "      <td>0.026538</td>\n",
              "      <td>0.871745</td>\n",
              "      <td>0.662674</td>\n",
              "      <td>3.946354</td>\n",
              "      <td>0.891089</td>\n",
              "      <td>1.323926</td>\n",
              "      <td>1.186538</td>\n",
              "    </tr>\n",
              "    <tr>\n",
              "      <th>min</th>\n",
              "      <td>1.000000</td>\n",
              "      <td>0.000000</td>\n",
              "      <td>0.000000</td>\n",
              "      <td>0.000000</td>\n",
              "      <td>0.000000</td>\n",
              "      <td>0.000000</td>\n",
              "      <td>0.000000</td>\n",
              "      <td>0.00000</td>\n",
              "      <td>0.000000</td>\n",
              "      <td>0.888090</td>\n",
              "      <td>-0.022723</td>\n",
              "      <td>0.000000</td>\n",
              "      <td>0.000000</td>\n",
              "      <td>-2.000000</td>\n",
              "      <td>4.000000</td>\n",
              "      <td>0.000000</td>\n",
              "    </tr>\n",
              "    <tr>\n",
              "      <th>25%</th>\n",
              "      <td>4037.500000</td>\n",
              "      <td>2.000000</td>\n",
              "      <td>5.600000</td>\n",
              "      <td>0.250000</td>\n",
              "      <td>0.280000</td>\n",
              "      <td>2.600000</td>\n",
              "      <td>0.046000</td>\n",
              "      <td>25.00000</td>\n",
              "      <td>89.000000</td>\n",
              "      <td>0.987720</td>\n",
              "      <td>2.890000</td>\n",
              "      <td>0.450000</td>\n",
              "      <td>8.700000</td>\n",
              "      <td>-1.000000</td>\n",
              "      <td>7.000000</td>\n",
              "      <td>0.000000</td>\n",
              "    </tr>\n",
              "    <tr>\n",
              "      <th>50%</th>\n",
              "      <td>8110.000000</td>\n",
              "      <td>3.000000</td>\n",
              "      <td>7.000000</td>\n",
              "      <td>0.410000</td>\n",
              "      <td>0.440000</td>\n",
              "      <td>11.750000</td>\n",
              "      <td>0.120000</td>\n",
              "      <td>51.00000</td>\n",
              "      <td>147.500000</td>\n",
              "      <td>0.994490</td>\n",
              "      <td>3.190000</td>\n",
              "      <td>0.640000</td>\n",
              "      <td>10.200000</td>\n",
              "      <td>0.000000</td>\n",
              "      <td>8.000000</td>\n",
              "      <td>1.000000</td>\n",
              "    </tr>\n",
              "    <tr>\n",
              "      <th>75%</th>\n",
              "      <td>12106.500000</td>\n",
              "      <td>4.000000</td>\n",
              "      <td>9.800000</td>\n",
              "      <td>0.910000</td>\n",
              "      <td>0.970000</td>\n",
              "      <td>37.200000</td>\n",
              "      <td>0.412000</td>\n",
              "      <td>164.00000</td>\n",
              "      <td>251.000000</td>\n",
              "      <td>1.000515</td>\n",
              "      <td>3.450000</td>\n",
              "      <td>1.420000</td>\n",
              "      <td>12.200000</td>\n",
              "      <td>1.000000</td>\n",
              "      <td>8.000000</td>\n",
              "      <td>2.000000</td>\n",
              "    </tr>\n",
              "    <tr>\n",
              "      <th>max</th>\n",
              "      <td>16129.000000</td>\n",
              "      <td>8.000000</td>\n",
              "      <td>34.400000</td>\n",
              "      <td>3.680000</td>\n",
              "      <td>3.860000</td>\n",
              "      <td>141.150000</td>\n",
              "      <td>1.394252</td>\n",
              "      <td>623.00000</td>\n",
              "      <td>1057.000000</td>\n",
              "      <td>1.099240</td>\n",
              "      <td>6.130000</td>\n",
              "      <td>4.240000</td>\n",
              "      <td>26.500000</td>\n",
              "      <td>2.000000</td>\n",
              "      <td>17.000000</td>\n",
              "      <td>4.000000</td>\n",
              "    </tr>\n",
              "  </tbody>\n",
              "</table>\n",
              "</div>"
            ],
            "text/plain": [
              "              INDEX        TARGET  ...     AcidIndex         STARS\n",
              "count  12795.000000  12795.000000  ...  12795.000000  12795.000000\n",
              "mean    8069.980305      3.029074  ...      7.772724      1.505744\n",
              "std     4656.905107      1.926368  ...      1.323926      1.186538\n",
              "min        1.000000      0.000000  ...      4.000000      0.000000\n",
              "25%     4037.500000      2.000000  ...      7.000000      0.000000\n",
              "50%     8110.000000      3.000000  ...      8.000000      1.000000\n",
              "75%    12106.500000      4.000000  ...      8.000000      2.000000\n",
              "max    16129.000000      8.000000  ...     17.000000      4.000000\n",
              "\n",
              "[8 rows x 16 columns]"
            ]
          },
          "metadata": {
            "tags": []
          },
          "execution_count": 49
        }
      ]
    },
    {
      "cell_type": "code",
      "metadata": {
        "colab": {
          "base_uri": "https://localhost:8080/"
        },
        "id": "34FAgrvrBIwh",
        "outputId": "870b389d-75b4-4c69-af54-cc97ccc33830"
      },
      "source": [
        "#Show the info\n",
        "df3.info()"
      ],
      "execution_count": 50,
      "outputs": [
        {
          "output_type": "stream",
          "text": [
            "<class 'pandas.core.frame.DataFrame'>\n",
            "RangeIndex: 12795 entries, 0 to 12794\n",
            "Data columns (total 16 columns):\n",
            " #   Column              Non-Null Count  Dtype  \n",
            "---  ------              --------------  -----  \n",
            " 0   INDEX               12795 non-null  int64  \n",
            " 1   TARGET              12795 non-null  int64  \n",
            " 2   FixedAcidity        12795 non-null  float64\n",
            " 3   VolatileAcidity     12795 non-null  float64\n",
            " 4   CitricAcid          12795 non-null  float64\n",
            " 5   ResidualSugar       12795 non-null  float64\n",
            " 6   Chlorides           12795 non-null  float64\n",
            " 7   FreeSulfurDioxide   12795 non-null  float64\n",
            " 8   TotalSulfurDioxide  12795 non-null  float64\n",
            " 9   Density             12795 non-null  float64\n",
            " 10  pH                  12795 non-null  float64\n",
            " 11  Sulphates           12795 non-null  float64\n",
            " 12  Alcohol             12795 non-null  float64\n",
            " 13  LabelAppeal         12795 non-null  int64  \n",
            " 14  AcidIndex           12795 non-null  int64  \n",
            " 15  STARS               12795 non-null  float64\n",
            "dtypes: float64(12), int64(4)\n",
            "memory usage: 1.6 MB\n"
          ],
          "name": "stdout"
        }
      ]
    },
    {
      "cell_type": "code",
      "metadata": {
        "colab": {
          "base_uri": "https://localhost:8080/"
        },
        "id": "clApp4kwBIwh",
        "outputId": "4a1ef963-eee9-43c8-a564-b2c81eda43d4"
      },
      "source": [
        "#Show the shape\n",
        "df3.shape"
      ],
      "execution_count": 51,
      "outputs": [
        {
          "output_type": "execute_result",
          "data": {
            "text/plain": [
              "(12795, 16)"
            ]
          },
          "metadata": {
            "tags": []
          },
          "execution_count": 51
        }
      ]
    },
    {
      "cell_type": "code",
      "metadata": {
        "colab": {
          "base_uri": "https://localhost:8080/"
        },
        "id": "ppzba7jEBIwh",
        "outputId": "95bb8ec9-96d5-4b37-c155-42bc6af3258a"
      },
      "source": [
        "#Show the columns\n",
        "df3.columns"
      ],
      "execution_count": 52,
      "outputs": [
        {
          "output_type": "execute_result",
          "data": {
            "text/plain": [
              "Index(['INDEX', 'TARGET', 'FixedAcidity', 'VolatileAcidity', 'CitricAcid',\n",
              "       'ResidualSugar', 'Chlorides', 'FreeSulfurDioxide', 'TotalSulfurDioxide',\n",
              "       'Density', 'pH', 'Sulphates', 'Alcohol', 'LabelAppeal', 'AcidIndex',\n",
              "       'STARS'],\n",
              "      dtype='object')"
            ]
          },
          "metadata": {
            "tags": []
          },
          "execution_count": 52
        }
      ]
    },
    {
      "cell_type": "code",
      "metadata": {
        "colab": {
          "base_uri": "https://localhost:8080/"
        },
        "id": "MW_a9yNjBIwi",
        "outputId": "c9d87405-65c6-474a-c336-86346c440316"
      },
      "source": [
        "#Show the data type\n",
        "df3.dtypes"
      ],
      "execution_count": 53,
      "outputs": [
        {
          "output_type": "execute_result",
          "data": {
            "text/plain": [
              "INDEX                   int64\n",
              "TARGET                  int64\n",
              "FixedAcidity          float64\n",
              "VolatileAcidity       float64\n",
              "CitricAcid            float64\n",
              "ResidualSugar         float64\n",
              "Chlorides             float64\n",
              "FreeSulfurDioxide     float64\n",
              "TotalSulfurDioxide    float64\n",
              "Density               float64\n",
              "pH                    float64\n",
              "Sulphates             float64\n",
              "Alcohol               float64\n",
              "LabelAppeal             int64\n",
              "AcidIndex               int64\n",
              "STARS                 float64\n",
              "dtype: object"
            ]
          },
          "metadata": {
            "tags": []
          },
          "execution_count": 53
        }
      ]
    },
    {
      "cell_type": "code",
      "metadata": {
        "colab": {
          "base_uri": "https://localhost:8080/",
          "height": 623
        },
        "id": "ySmjdiotBIwj",
        "outputId": "fe1e630c-c044-4450-cd16-771f2c2c0e7b"
      },
      "source": [
        "#Show Temperature distribution\n",
        "import matplotlib.pyplot as plt\n",
        "import seaborn as sns\n",
        "\n",
        "df3.boxplot(column=['TARGET'], return_type='axes');\n",
        "plt.title(\"TARGET\")\n",
        "\n"
      ],
      "execution_count": 54,
      "outputs": [
        {
          "output_type": "execute_result",
          "data": {
            "text/plain": [
              "Text(0.5, 1.0, 'TARGET')"
            ]
          },
          "metadata": {
            "tags": []
          },
          "execution_count": 54
        },
        {
          "output_type": "display_data",
          "data": {
            "image/png": "[encoded data removed]",
            "text/plain": [
              "<Figure size 720x720 with 1 Axes>"
            ]
          },
          "metadata": {
            "tags": [],
            "needs_background": "light"
          }
        }
      ]
    },
    {
      "cell_type": "code",
      "metadata": {
        "colab": {
          "base_uri": "https://localhost:8080/",
          "height": 623
        },
        "id": "qzbmsFyxBIwk",
        "outputId": "fc45a00a-98b6-456f-f2c4-8734181d44ef"
      },
      "source": [
        "#Show Target distribution\n",
        "df3.hist(column=['TARGET']);\n",
        "plt.ylabel(\"Number of Records\")\n",
        "plt.title(\"TARGET\")"
      ],
      "execution_count": 55,
      "outputs": [
        {
          "output_type": "execute_result",
          "data": {
            "text/plain": [
              "Text(0.5, 1.0, 'TARGET')"
            ]
          },
          "metadata": {
            "tags": []
          },
          "execution_count": 55
        },
        {
          "output_type": "display_data",
          "data": {
            "image/png": "[encoded data removed]",
            "text/plain": [
              "<Figure size 720x720 with 1 Axes>"
            ]
          },
          "metadata": {
            "tags": [],
            "needs_background": "light"
          }
        }
      ]
    },
    {
      "cell_type": "code",
      "metadata": {
        "colab": {
          "base_uri": "https://localhost:8080/",
          "height": 623
        },
        "id": "o9ed8AWHBIwk",
        "outputId": "af64b002-a615-44d0-e2b3-977e64123aed"
      },
      "source": [
        "#Show FixedAcidity distribution\n",
        "df3.boxplot(column=['FixedAcidity'], return_type='axes');\n",
        "plt.title(\"FixedAcidity\")\n",
        "\n"
      ],
      "execution_count": 56,
      "outputs": [
        {
          "output_type": "execute_result",
          "data": {
            "text/plain": [
              "Text(0.5, 1.0, 'FixedAcidity')"
            ]
          },
          "metadata": {
            "tags": []
          },
          "execution_count": 56
        },
        {
          "output_type": "display_data",
          "data": {
            "image/png": "[encoded data removed]",
            "text/plain": [
              "<Figure size 720x720 with 1 Axes>"
            ]
          },
          "metadata": {
            "tags": [],
            "needs_background": "light"
          }
        }
      ]
    },
    {
      "cell_type": "code",
      "metadata": {
        "colab": {
          "base_uri": "https://localhost:8080/",
          "height": 623
        },
        "id": "9AHpvefvBIwk",
        "outputId": "881506f7-e8e8-4e97-d6f0-cf851ae6e38e"
      },
      "source": [
        "#Show FixedAcidity distribution\n",
        "df3.hist(column=['FixedAcidity']);\n",
        "plt.ylabel(\"Number of Records\")\n",
        "plt.title(\"FixedAcidity\")"
      ],
      "execution_count": 57,
      "outputs": [
        {
          "output_type": "execute_result",
          "data": {
            "text/plain": [
              "Text(0.5, 1.0, 'FixedAcidity')"
            ]
          },
          "metadata": {
            "tags": []
          },
          "execution_count": 57
        },
        {
          "output_type": "display_data",
          "data": {
            "image/png": "[encoded data removed]",
            "text/plain": [
              "<Figure size 720x720 with 1 Axes>"
            ]
          },
          "metadata": {
            "tags": [],
            "needs_background": "light"
          }
        }
      ]
    },
    {
      "cell_type": "code",
      "metadata": {
        "colab": {
          "base_uri": "https://localhost:8080/",
          "height": 623
        },
        "id": "VKK9SBqMBIwl",
        "outputId": "d35e7cb3-fb1a-4839-c6b2-ed6bf77f5a46"
      },
      "source": [
        "#Show VolatileAcidity distribution\n",
        "df3.boxplot(column=['VolatileAcidity'], return_type='axes');\n",
        "plt.title(\"VolatileAcidity\")\n",
        "\n"
      ],
      "execution_count": 58,
      "outputs": [
        {
          "output_type": "execute_result",
          "data": {
            "text/plain": [
              "Text(0.5, 1.0, 'VolatileAcidity')"
            ]
          },
          "metadata": {
            "tags": []
          },
          "execution_count": 58
        },
        {
          "output_type": "display_data",
          "data": {
            "image/png": "[encoded data removed]",
            "text/plain": [
              "<Figure size 720x720 with 1 Axes>"
            ]
          },
          "metadata": {
            "tags": [],
            "needs_background": "light"
          }
        }
      ]
    },
    {
      "cell_type": "code",
      "metadata": {
        "colab": {
          "base_uri": "https://localhost:8080/",
          "height": 623
        },
        "id": "AVtniEguBIwl",
        "outputId": "2561c844-b64b-4e8b-e5cb-e3acae832e57"
      },
      "source": [
        "#Show VolatileAcidity distribution\n",
        "df3.hist(column=['VolatileAcidity']);\n",
        "plt.ylabel(\"Number of Records\")\n",
        "plt.title(\"VolatileAcidity\")"
      ],
      "execution_count": 59,
      "outputs": [
        {
          "output_type": "execute_result",
          "data": {
            "text/plain": [
              "Text(0.5, 1.0, 'VolatileAcidity')"
            ]
          },
          "metadata": {
            "tags": []
          },
          "execution_count": 59
        },
        {
          "output_type": "display_data",
          "data": {
            "image/png": "[encoded data removed]",
            "text/plain": [
              "<Figure size 720x720 with 1 Axes>"
            ]
          },
          "metadata": {
            "tags": [],
            "needs_background": "light"
          }
        }
      ]
    },
    {
      "cell_type": "code",
      "metadata": {
        "colab": {
          "base_uri": "https://localhost:8080/",
          "height": 623
        },
        "id": "pfBQLaHHBIwl",
        "outputId": "a14c4a7c-7a6e-4e17-ab93-0e14ac1e9ca5"
      },
      "source": [
        "#Show CitricAcid distribution\n",
        "df3.boxplot(column=['CitricAcid'], return_type='axes');\n",
        "plt.title(\"CitricAcid\")\n",
        "\n"
      ],
      "execution_count": 60,
      "outputs": [
        {
          "output_type": "execute_result",
          "data": {
            "text/plain": [
              "Text(0.5, 1.0, 'CitricAcid')"
            ]
          },
          "metadata": {
            "tags": []
          },
          "execution_count": 60
        },
        {
          "output_type": "display_data",
          "data": {
            "image/png": "[encoded data removed]",
            "text/plain": [
              "<Figure size 720x720 with 1 Axes>"
            ]
          },
          "metadata": {
            "tags": [],
            "needs_background": "light"
          }
        }
      ]
    },
    {
      "cell_type": "code",
      "metadata": {
        "colab": {
          "base_uri": "https://localhost:8080/",
          "height": 623
        },
        "id": "Zfbc9m22BIwl",
        "outputId": "23205e67-e796-4e34-cadb-71719a9b071d"
      },
      "source": [
        "#Show CitricAcid distribution\n",
        "df3.hist(column=['CitricAcid']);\n",
        "plt.ylabel(\"Number of Records\")\n",
        "plt.title(\"CitricAcid\")"
      ],
      "execution_count": 61,
      "outputs": [
        {
          "output_type": "execute_result",
          "data": {
            "text/plain": [
              "Text(0.5, 1.0, 'CitricAcid')"
            ]
          },
          "metadata": {
            "tags": []
          },
          "execution_count": 61
        },
        {
          "output_type": "display_data",
          "data": {
            "image/png": "[encoded data removed]",
            "text/plain": [
              "<Figure size 720x720 with 1 Axes>"
            ]
          },
          "metadata": {
            "tags": [],
            "needs_background": "light"
          }
        }
      ]
    },
    {
      "cell_type": "code",
      "metadata": {
        "colab": {
          "base_uri": "https://localhost:8080/",
          "height": 623
        },
        "id": "WZJFMJauBIwn",
        "outputId": "8a23aaa5-f0da-49f4-c8ad-1a941909a6d4"
      },
      "source": [
        "#Show ResidualSugar distribution\n",
        "df3.boxplot(column=['ResidualSugar'], return_type='axes');\n",
        "plt.title(\"ResidualSugar\")\n",
        "\n"
      ],
      "execution_count": 62,
      "outputs": [
        {
          "output_type": "execute_result",
          "data": {
            "text/plain": [
              "Text(0.5, 1.0, 'ResidualSugar')"
            ]
          },
          "metadata": {
            "tags": []
          },
          "execution_count": 62
        },
        {
          "output_type": "display_data",
          "data": {
            "image/png": "[encoded data removed]",
            "text/plain": [
              "<Figure size 720x720 with 1 Axes>"
            ]
          },
          "metadata": {
            "tags": [],
            "needs_background": "light"
          }
        }
      ]
    },
    {
      "cell_type": "code",
      "metadata": {
        "colab": {
          "base_uri": "https://localhost:8080/",
          "height": 623
        },
        "id": "BBsM9z-EBIwn",
        "outputId": "d4d1afc4-ed39-4810-bbce-295e7c526b8c"
      },
      "source": [
        "#Show ResidualSugar distribution\n",
        "df3.hist(column=['ResidualSugar']);\n",
        "plt.ylabel(\"Number of Records\")\n",
        "plt.title(\"ResidualSugar\")"
      ],
      "execution_count": 63,
      "outputs": [
        {
          "output_type": "execute_result",
          "data": {
            "text/plain": [
              "Text(0.5, 1.0, 'ResidualSugar')"
            ]
          },
          "metadata": {
            "tags": []
          },
          "execution_count": 63
        },
        {
          "output_type": "display_data",
          "data": {
            "image/png": "[encoded data removed]",
            "text/plain": [
              "<Figure size 720x720 with 1 Axes>"
            ]
          },
          "metadata": {
            "tags": [],
            "needs_background": "light"
          }
        }
      ]
    },
    {
      "cell_type": "code",
      "metadata": {
        "colab": {
          "base_uri": "https://localhost:8080/",
          "height": 623
        },
        "id": "Xp3R0ARoBIwo",
        "outputId": "a762b200-5b20-4db9-f772-4c679bc5c81c"
      },
      "source": [
        "#Show Chlorides distribution\n",
        "df3.boxplot(column=['Chlorides'], return_type='axes');\n",
        "plt.title(\"Chlorides\")\n",
        "\n"
      ],
      "execution_count": 64,
      "outputs": [
        {
          "output_type": "execute_result",
          "data": {
            "text/plain": [
              "Text(0.5, 1.0, 'Chlorides')"
            ]
          },
          "metadata": {
            "tags": []
          },
          "execution_count": 64
        },
        {
          "output_type": "display_data",
          "data": {
            "image/png": "[encoded data removed]",
            "text/plain": [
              "<Figure size 720x720 with 1 Axes>"
            ]
          },
          "metadata": {
            "tags": [],
            "needs_background": "light"
          }
        }
      ]
    },
    {
      "cell_type": "code",
      "metadata": {
        "colab": {
          "base_uri": "https://localhost:8080/",
          "height": 623
        },
        "id": "RbSzpvzYBIwp",
        "outputId": "0d39e995-71b4-4d43-835f-ca51efe8c21b"
      },
      "source": [
        "#Show Chlorides distribution\n",
        "df3.hist(column=['Chlorides']);\n",
        "plt.ylabel(\"Number of Records\")\n",
        "plt.title(\"Chlorides\")"
      ],
      "execution_count": 65,
      "outputs": [
        {
          "output_type": "execute_result",
          "data": {
            "text/plain": [
              "Text(0.5, 1.0, 'Chlorides')"
            ]
          },
          "metadata": {
            "tags": []
          },
          "execution_count": 65
        },
        {
          "output_type": "display_data",
          "data": {
            "image/png": "[encoded data removed]",
            "text/plain": [
              "<Figure size 720x720 with 1 Axes>"
            ]
          },
          "metadata": {
            "tags": [],
            "needs_background": "light"
          }
        }
      ]
    },
    {
      "cell_type": "code",
      "metadata": {
        "colab": {
          "base_uri": "https://localhost:8080/",
          "height": 623
        },
        "id": "uPKmxwe1BIwq",
        "outputId": "0ce64933-b8e5-4638-895d-626ef5f26428"
      },
      "source": [
        "#Show FreeSulfurDioxide distribution\n",
        "df3.boxplot(column=['FreeSulfurDioxide'], return_type='axes');\n",
        "plt.title(\"FreeSulfurDioxide\")\n",
        "\n"
      ],
      "execution_count": 66,
      "outputs": [
        {
          "output_type": "execute_result",
          "data": {
            "text/plain": [
              "Text(0.5, 1.0, 'FreeSulfurDioxide')"
            ]
          },
          "metadata": {
            "tags": []
          },
          "execution_count": 66
        },
        {
          "output_type": "display_data",
          "data": {
            "image/png": "[encoded data removed]",
            "text/plain": [
              "<Figure size 720x720 with 1 Axes>"
            ]
          },
          "metadata": {
            "tags": [],
            "needs_background": "light"
          }
        }
      ]
    },
    {
      "cell_type": "code",
      "metadata": {
        "colab": {
          "base_uri": "https://localhost:8080/",
          "height": 623
        },
        "id": "maXSbEIZBIwq",
        "outputId": "d267e950-dcc1-49e0-db26-e94b06f16553"
      },
      "source": [
        "#Show FreeSulfurDioxide distribution\n",
        "df3.hist(column=['FreeSulfurDioxide']);\n",
        "plt.ylabel(\"Number of Records\")\n",
        "plt.title(\"FreeSulfurDioxide\")"
      ],
      "execution_count": 67,
      "outputs": [
        {
          "output_type": "execute_result",
          "data": {
            "text/plain": [
              "Text(0.5, 1.0, 'FreeSulfurDioxide')"
            ]
          },
          "metadata": {
            "tags": []
          },
          "execution_count": 67
        },
        {
          "output_type": "display_data",
          "data": {
            "image/png": "[encoded data removed]",
            "text/plain": [
              "<Figure size 720x720 with 1 Axes>"
            ]
          },
          "metadata": {
            "tags": [],
            "needs_background": "light"
          }
        }
      ]
    },
    {
      "cell_type": "code",
      "metadata": {
        "colab": {
          "base_uri": "https://localhost:8080/",
          "height": 623
        },
        "id": "LVYFknQPBIwq",
        "outputId": "e5e002ec-9dd1-4584-cdc8-a405f23d4ec7"
      },
      "source": [
        "#Show TotalSulfurDioxide distribution\n",
        "df3.boxplot(column=['TotalSulfurDioxide'], return_type='axes');\n",
        "plt.title(\"TotalSulfurDioxide\")\n",
        "\n"
      ],
      "execution_count": 68,
      "outputs": [
        {
          "output_type": "execute_result",
          "data": {
            "text/plain": [
              "Text(0.5, 1.0, 'TotalSulfurDioxide')"
            ]
          },
          "metadata": {
            "tags": []
          },
          "execution_count": 68
        },
        {
          "output_type": "display_data",
          "data": {
            "image/png": "[encoded data removed]",
            "text/plain": [
              "<Figure size 720x720 with 1 Axes>"
            ]
          },
          "metadata": {
            "tags": [],
            "needs_background": "light"
          }
        }
      ]
    },
    {
      "cell_type": "code",
      "metadata": {
        "colab": {
          "base_uri": "https://localhost:8080/",
          "height": 623
        },
        "id": "3wi7EBmjBIwr",
        "outputId": "60cd28b6-f81f-4286-cf9a-4e145ae21219"
      },
      "source": [
        "#Show TotalSulfurDioxide distribution\n",
        "df3.hist(column=['TotalSulfurDioxide']);\n",
        "plt.ylabel(\"Number of Records\")\n",
        "plt.title(\"TotalSulfurDioxide\")"
      ],
      "execution_count": 69,
      "outputs": [
        {
          "output_type": "execute_result",
          "data": {
            "text/plain": [
              "Text(0.5, 1.0, 'TotalSulfurDioxide')"
            ]
          },
          "metadata": {
            "tags": []
          },
          "execution_count": 69
        },
        {
          "output_type": "display_data",
          "data": {
            "image/png": "[encoded data removed]",
            "text/plain": [
              "<Figure size 720x720 with 1 Axes>"
            ]
          },
          "metadata": {
            "tags": [],
            "needs_background": "light"
          }
        }
      ]
    },
    {
      "cell_type": "code",
      "metadata": {
        "colab": {
          "base_uri": "https://localhost:8080/",
          "height": 623
        },
        "id": "MpCqgob-BIwr",
        "outputId": "34f55c48-c62e-4124-f117-e8a0d1464aaa"
      },
      "source": [
        "#Show Density distribution\n",
        "df3.boxplot(column=['Density'], return_type='axes');\n",
        "plt.title(\"Density\")\n",
        "\n"
      ],
      "execution_count": 70,
      "outputs": [
        {
          "output_type": "execute_result",
          "data": {
            "text/plain": [
              "Text(0.5, 1.0, 'Density')"
            ]
          },
          "metadata": {
            "tags": []
          },
          "execution_count": 70
        },
        {
          "output_type": "display_data",
          "data": {
            "image/png": "[encoded data removed]",
            "text/plain": [
              "<Figure size 720x720 with 1 Axes>"
            ]
          },
          "metadata": {
            "tags": [],
            "needs_background": "light"
          }
        }
      ]
    },
    {
      "cell_type": "code",
      "metadata": {
        "colab": {
          "base_uri": "https://localhost:8080/",
          "height": 623
        },
        "id": "zf0llAyoBIwr",
        "outputId": "7b0ad231-aefd-484b-daf1-3b66430cbf48"
      },
      "source": [
        "#Show Density distribution\n",
        "df3.hist(column=['Density']);\n",
        "plt.ylabel(\"Number of Records\")\n",
        "plt.title(\"Density\")"
      ],
      "execution_count": 71,
      "outputs": [
        {
          "output_type": "execute_result",
          "data": {
            "text/plain": [
              "Text(0.5, 1.0, 'Density')"
            ]
          },
          "metadata": {
            "tags": []
          },
          "execution_count": 71
        },
        {
          "output_type": "display_data",
          "data": {
            "image/png": "[encoded data removed]",
            "text/plain": [
              "<Figure size 720x720 with 1 Axes>"
            ]
          },
          "metadata": {
            "tags": [],
            "needs_background": "light"
          }
        }
      ]
    },
    {
      "cell_type": "code",
      "metadata": {
        "colab": {
          "base_uri": "https://localhost:8080/",
          "height": 623
        },
        "id": "6VHIwGCnBIws",
        "outputId": "4496a1e4-ad9f-49f3-f38d-97a8c42edcd3"
      },
      "source": [
        "#Show PH distribution\n",
        "df3.boxplot(column=['pH'], return_type='axes');\n",
        "plt.title(\"pH\")\n",
        "\n"
      ],
      "execution_count": 72,
      "outputs": [
        {
          "output_type": "execute_result",
          "data": {
            "text/plain": [
              "Text(0.5, 1.0, 'pH')"
            ]
          },
          "metadata": {
            "tags": []
          },
          "execution_count": 72
        },
        {
          "output_type": "display_data",
          "data": {
            "image/png": "[encoded data removed]",
            "text/plain": [
              "<Figure size 720x720 with 1 Axes>"
            ]
          },
          "metadata": {
            "tags": [],
            "needs_background": "light"
          }
        }
      ]
    },
    {
      "cell_type": "code",
      "metadata": {
        "colab": {
          "base_uri": "https://localhost:8080/",
          "height": 623
        },
        "id": "IPl50PJ6BIws",
        "outputId": "05d027a4-dc5e-496b-faa3-9f1b54ca10da"
      },
      "source": [
        "#Show PH distribution\n",
        "df3.hist(column=['pH']);\n",
        "plt.ylabel(\"Number of Records\")\n",
        "plt.title(\"pH\")"
      ],
      "execution_count": 73,
      "outputs": [
        {
          "output_type": "execute_result",
          "data": {
            "text/plain": [
              "Text(0.5, 1.0, 'pH')"
            ]
          },
          "metadata": {
            "tags": []
          },
          "execution_count": 73
        },
        {
          "output_type": "display_data",
          "data": {
            "image/png": "[encoded data removed]",
            "text/plain": [
              "<Figure size 720x720 with 1 Axes>"
            ]
          },
          "metadata": {
            "tags": [],
            "needs_background": "light"
          }
        }
      ]
    },
    {
      "cell_type": "code",
      "metadata": {
        "colab": {
          "base_uri": "https://localhost:8080/",
          "height": 623
        },
        "id": "rIekeqrMBIws",
        "outputId": "0c592b59-d409-4a7e-a626-3dc44b76b12d"
      },
      "source": [
        "#Show Sulphates distribution\n",
        "df3.boxplot(column=['Sulphates'], return_type='axes');\n",
        "plt.title(\"Sulphates\")\n",
        "\n"
      ],
      "execution_count": 74,
      "outputs": [
        {
          "output_type": "execute_result",
          "data": {
            "text/plain": [
              "Text(0.5, 1.0, 'Sulphates')"
            ]
          },
          "metadata": {
            "tags": []
          },
          "execution_count": 74
        },
        {
          "output_type": "display_data",
          "data": {
            "image/png": "[encoded data removed]",
            "text/plain": [
              "<Figure size 720x720 with 1 Axes>"
            ]
          },
          "metadata": {
            "tags": [],
            "needs_background": "light"
          }
        }
      ]
    },
    {
      "cell_type": "code",
      "metadata": {
        "colab": {
          "base_uri": "https://localhost:8080/",
          "height": 623
        },
        "id": "YT0T4ypfBIws",
        "outputId": "273f4596-abd0-4d7b-df7c-8c1639169ab6"
      },
      "source": [
        "#Show Sulphates distribution\n",
        "df3.hist(column=['Sulphates']);\n",
        "plt.ylabel(\"Number of Records\")\n",
        "plt.title(\"Sulphates\")"
      ],
      "execution_count": 75,
      "outputs": [
        {
          "output_type": "execute_result",
          "data": {
            "text/plain": [
              "Text(0.5, 1.0, 'Sulphates')"
            ]
          },
          "metadata": {
            "tags": []
          },
          "execution_count": 75
        },
        {
          "output_type": "display_data",
          "data": {
            "image/png": "[encoded data removed]",
            "text/plain": [
              "<Figure size 720x720 with 1 Axes>"
            ]
          },
          "metadata": {
            "tags": [],
            "needs_background": "light"
          }
        }
      ]
    },
    {
      "cell_type": "code",
      "metadata": {
        "colab": {
          "base_uri": "https://localhost:8080/",
          "height": 623
        },
        "id": "eXm0YhDHBIwt",
        "outputId": "a52ba125-8381-4978-869b-ebb34483c300"
      },
      "source": [
        "#Show Alcohol distribution\n",
        "df3.boxplot(column=['Alcohol'], return_type='axes');\n",
        "plt.title(\"Alcohol\")\n",
        "\n"
      ],
      "execution_count": 76,
      "outputs": [
        {
          "output_type": "execute_result",
          "data": {
            "text/plain": [
              "Text(0.5, 1.0, 'Alcohol')"
            ]
          },
          "metadata": {
            "tags": []
          },
          "execution_count": 76
        },
        {
          "output_type": "display_data",
          "data": {
            "image/png": "[encoded data removed]",
            "text/plain": [
              "<Figure size 720x720 with 1 Axes>"
            ]
          },
          "metadata": {
            "tags": [],
            "needs_background": "light"
          }
        }
      ]
    },
    {
      "cell_type": "code",
      "metadata": {
        "colab": {
          "base_uri": "https://localhost:8080/",
          "height": 623
        },
        "id": "ITqXfisSBIwt",
        "outputId": "d442fc9a-0a34-4bc0-e864-94aecf800c4a"
      },
      "source": [
        "#Show Alcohol distribution\n",
        "df3.hist(column=['Alcohol']);\n",
        "plt.ylabel(\"Number of Records\")\n",
        "plt.title(\"Alcohol\")"
      ],
      "execution_count": 77,
      "outputs": [
        {
          "output_type": "execute_result",
          "data": {
            "text/plain": [
              "Text(0.5, 1.0, 'Alcohol')"
            ]
          },
          "metadata": {
            "tags": []
          },
          "execution_count": 77
        },
        {
          "output_type": "display_data",
          "data": {
            "image/png": "[encoded data removed]",
            "text/plain": [
              "<Figure size 720x720 with 1 Axes>"
            ]
          },
          "metadata": {
            "tags": [],
            "needs_background": "light"
          }
        }
      ]
    },
    {
      "cell_type": "code",
      "metadata": {
        "colab": {
          "base_uri": "https://localhost:8080/",
          "height": 623
        },
        "id": "Tcw6IJtDBIwt",
        "outputId": "151a532f-7d57-4f41-ea69-faf3cadeb344"
      },
      "source": [
        "#Show LabelAppeal distribution\n",
        "df3.boxplot(column=['LabelAppeal'], return_type='axes');\n",
        "plt.title(\"LabelAppeal\")\n",
        "\n"
      ],
      "execution_count": 78,
      "outputs": [
        {
          "output_type": "execute_result",
          "data": {
            "text/plain": [
              "Text(0.5, 1.0, 'LabelAppeal')"
            ]
          },
          "metadata": {
            "tags": []
          },
          "execution_count": 78
        },
        {
          "output_type": "display_data",
          "data": {
            "image/png": "[encoded data removed]",
            "text/plain": [
              "<Figure size 720x720 with 1 Axes>"
            ]
          },
          "metadata": {
            "tags": [],
            "needs_background": "light"
          }
        }
      ]
    },
    {
      "cell_type": "code",
      "metadata": {
        "colab": {
          "base_uri": "https://localhost:8080/",
          "height": 623
        },
        "id": "QihUXfXEBIwt",
        "outputId": "e4decbea-524b-4690-bb34-f9d43c9f2e80"
      },
      "source": [
        "#Show LabelAppeal distribution\n",
        "df3.hist(column=['LabelAppeal']);\n",
        "plt.ylabel(\"Number of Records\")\n",
        "plt.title(\"LabelAppeal\")"
      ],
      "execution_count": 79,
      "outputs": [
        {
          "output_type": "execute_result",
          "data": {
            "text/plain": [
              "Text(0.5, 1.0, 'LabelAppeal')"
            ]
          },
          "metadata": {
            "tags": []
          },
          "execution_count": 79
        },
        {
          "output_type": "display_data",
          "data": {
            "image/png": "[encoded data removed]",
            "text/plain": [
              "<Figure size 720x720 with 1 Axes>"
            ]
          },
          "metadata": {
            "tags": [],
            "needs_background": "light"
          }
        }
      ]
    },
    {
      "cell_type": "code",
      "metadata": {
        "colab": {
          "base_uri": "https://localhost:8080/",
          "height": 623
        },
        "id": "1LXHVo6BBIwu",
        "outputId": "25e2abee-b737-4265-ccd4-3f32805e185a"
      },
      "source": [
        "#Show AcidIndex distribution\n",
        "df3.boxplot(column=['AcidIndex'], return_type='axes');\n",
        "plt.title(\"AcidIndex\")\n",
        "\n"
      ],
      "execution_count": 80,
      "outputs": [
        {
          "output_type": "execute_result",
          "data": {
            "text/plain": [
              "Text(0.5, 1.0, 'AcidIndex')"
            ]
          },
          "metadata": {
            "tags": []
          },
          "execution_count": 80
        },
        {
          "output_type": "display_data",
          "data": {
            "image/png": "[encoded data removed]",
            "text/plain": [
              "<Figure size 720x720 with 1 Axes>"
            ]
          },
          "metadata": {
            "tags": [],
            "needs_background": "light"
          }
        }
      ]
    },
    {
      "cell_type": "code",
      "metadata": {
        "colab": {
          "base_uri": "https://localhost:8080/",
          "height": 623
        },
        "id": "nWggZ2IvBIwu",
        "outputId": "df7d4c8a-1a77-4490-9ec8-52dc7bca60dc"
      },
      "source": [
        "#Show AcidIndex distribution\n",
        "df3.hist(column=['AcidIndex']);\n",
        "plt.ylabel(\"Number of Records\")\n",
        "plt.title(\"AcidIndex\")"
      ],
      "execution_count": 81,
      "outputs": [
        {
          "output_type": "execute_result",
          "data": {
            "text/plain": [
              "Text(0.5, 1.0, 'AcidIndex')"
            ]
          },
          "metadata": {
            "tags": []
          },
          "execution_count": 81
        },
        {
          "output_type": "display_data",
          "data": {
            "image/png": "[encoded data removed]",
            "text/plain": [
              "<Figure size 720x720 with 1 Axes>"
            ]
          },
          "metadata": {
            "tags": [],
            "needs_background": "light"
          }
        }
      ]
    },
    {
      "cell_type": "code",
      "metadata": {
        "colab": {
          "base_uri": "https://localhost:8080/",
          "height": 623
        },
        "id": "dUPhljLGBIwu",
        "outputId": "885862cf-b7a1-4f22-b931-e6dfa1dee757"
      },
      "source": [
        "#Show STARS distribution\n",
        "df3.boxplot(column=['STARS'], return_type='axes');\n",
        "plt.title(\"STARS\")\n",
        "\n"
      ],
      "execution_count": 82,
      "outputs": [
        {
          "output_type": "execute_result",
          "data": {
            "text/plain": [
              "Text(0.5, 1.0, 'STARS')"
            ]
          },
          "metadata": {
            "tags": []
          },
          "execution_count": 82
        },
        {
          "output_type": "display_data",
          "data": {
            "image/png": "[encoded data removed]",
            "text/plain": [
              "<Figure size 720x720 with 1 Axes>"
            ]
          },
          "metadata": {
            "tags": [],
            "needs_background": "light"
          }
        }
      ]
    },
    {
      "cell_type": "code",
      "metadata": {
        "colab": {
          "base_uri": "https://localhost:8080/",
          "height": 623
        },
        "id": "g-b-kdtIBIwv",
        "outputId": "e245150e-b00d-424f-83ee-12a592b50486"
      },
      "source": [
        "#Show STARS distribution\n",
        "df3.hist(column=['STARS']);\n",
        "plt.ylabel(\"Number of Records\")\n",
        "plt.title(\"STARS\")"
      ],
      "execution_count": 83,
      "outputs": [
        {
          "output_type": "execute_result",
          "data": {
            "text/plain": [
              "Text(0.5, 1.0, 'STARS')"
            ]
          },
          "metadata": {
            "tags": []
          },
          "execution_count": 83
        },
        {
          "output_type": "display_data",
          "data": {
            "image/png": "[encoded data removed]",
            "text/plain": [
              "<Figure size 720x720 with 1 Axes>"
            ]
          },
          "metadata": {
            "tags": [],
            "needs_background": "light"
          }
        }
      ]
    },
    {
      "cell_type": "code",
      "metadata": {
        "colab": {
          "base_uri": "https://localhost:8080/",
          "height": 676
        },
        "id": "BY70XZ98BIwv",
        "outputId": "cf04d6c9-9cf4-4b8c-ef1f-3d1e14b06ee2"
      },
      "source": [
        "from matplotlib import rcParams\n",
        "\n",
        "# plot the heatmap\n",
        "corr = df3.corr()\n",
        "sns.heatmap(corr, xticklabels=corr.columns, yticklabels=corr.columns, linewidths=1, annot=False, cmap=sns.diverging_palette(220, 20, as_cmap=True))\n",
        "rcParams[\"figure.figsize\"] =10, 10"
      ],
      "execution_count": 84,
      "outputs": [
        {
          "output_type": "display_data",
          "data": {
            "image/png": "[encoded data removed]",
            "text/plain": [
              "<Figure size 720x720 with 2 Axes>"
            ]
          },
          "metadata": {
            "tags": [],
            "needs_background": "light"
          }
        }
      ]
    },
    {
      "cell_type": "markdown",
      "metadata": {
        "id": "KoBnt6rdcgnl"
      },
      "source": [
        "## **Conclusion**"
      ]
    },
    {
      "cell_type": "markdown",
      "metadata": {
        "id": "wV-NOwA8cmRN"
      },
      "source": [
        "-We found that doing the necessary domain research is invaluable.  We read several papers from wine authorities around the world, not only did we feel we gained valuable insights that helped us understand each variable with context.\n",
        "\n",
        "-There were a lot of negative values that needed to be dealt with.  We decided the best practice would be to replace all negative values with their positive versions. For example. no solution including wine can have negative alcohol content. \n",
        "\n",
        "-For missing values, we decided the best practice was just to fill in each missing value with a random value from that variable's range. For example, if alcohol content ranged between 3.0-8.0% percent, missing values were filled in with random floating numbers between 3.0-8.0.\n",
        "This worked for all columns except Stars which while afloat had all zero decimal values. We fixed this by rounding all the columns now incorrect floating-point values to the nearest whole number.\n",
        "\n",
        "-After re-conducting our EDA, that the data appeared to have stayed relatively the same for columns that did not have negative values. These remain as normal distributions. Columns that had negative values and shouldn't have now appeared as a half-normal distribution.  Correlation diagrams appeared very similar after our alterations."
      ]
    }
  ]
}